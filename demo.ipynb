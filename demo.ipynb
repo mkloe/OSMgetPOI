{
 "cells": [
  {
   "cell_type": "markdown",
   "metadata": {},
   "source": [
    "### OSMGetPOI.jl Tutorial\n",
    "Full documentation: https://github.com/mkloe/OSMgetPOI"
   ]
  },
  {
   "cell_type": "code",
   "execution_count": 1,
   "metadata": {},
   "outputs": [],
   "source": [
    "using OSMgetPOI"
   ]
  },
  {
   "cell_type": "markdown",
   "metadata": {},
   "source": [
    "### 1. Download .osm data file\n",
    "1. Go to https://download.bbbike.org/osm/bbbike/ and select a city.\n",
    "2. Download the file for a selected city in *OSM XML gzip'd* format.\n",
    "3. Save the file to /datasets repository.\n",
    "\n",
    "In the future, we'll also add a functionality to download .osm file via API."
   ]
  },
  {
   "cell_type": "markdown",
   "metadata": {},
   "source": [
    "### 2. Generate a dataframe \n",
    "Generate a dataframe with the POI types defined in the parameters, based on `src/POITypes`. We only keep these columns that have over 30% of non-missing values. More information about the supported POI types by this API is provided in the documentation."
   ]
  },
  {
   "cell_type": "code",
   "execution_count": 2,
   "metadata": {},
   "outputs": [
    {
     "name": "stdout",
     "output_type": "stream",
     "text": [
      "Process_time: 2.334987125"
     ]
    },
    {
     "name": "stdout",
     "output_type": "stream",
     "text": [
      "\n"
     ]
    },
    {
     "name": "stdout",
     "output_type": "stream",
     "text": [
      "Process_time: 2.202161667\n"
     ]
    },
    {
     "data": {
      "text/html": [
       "<div><div style = \"float: left;\"><span>957×12 DataFrame</span></div><div style = \"float: right;\"><span style = \"font-style: italic;\">932 rows omitted</span></div><div style = \"clear: both;\"></div></div><div class = \"data-frame\" style = \"overflow-x: scroll;\"><table class = \"data-frame\" style = \"margin-bottom: 6px;\"><thead><tr class = \"header\"><th class = \"rowNumber\" style = \"font-weight: bold; text-align: right;\">Row</th><th style = \"text-align: left;\">type</th><th style = \"text-align: left;\">lat</th><th style = \"text-align: left;\">lon</th><th style = \"text-align: left;\">addr:city</th><th style = \"text-align: left;\">addr:housenumber</th><th style = \"text-align: left;\">name</th><th style = \"text-align: left;\">addr:street</th><th style = \"text-align: left;\">amenity</th><th style = \"text-align: left;\">addr:postcode</th><th style = \"text-align: left;\">addr:country</th><th style = \"text-align: left;\">name:zh</th><th style = \"text-align: left;\">school</th></tr><tr class = \"subheader headerLastRow\"><th class = \"rowNumber\" style = \"font-weight: bold; text-align: right;\"></th><th title = \"Any\" style = \"text-align: left;\">Any</th><th title = \"Any\" style = \"text-align: left;\">Any</th><th title = \"Any\" style = \"text-align: left;\">Any</th><th title = \"Any\" style = \"text-align: left;\">Any</th><th title = \"Any\" style = \"text-align: left;\">Any</th><th title = \"Any\" style = \"text-align: left;\">Any</th><th title = \"Any\" style = \"text-align: left;\">Any</th><th title = \"Any\" style = \"text-align: left;\">Any</th><th title = \"Any\" style = \"text-align: left;\">Any</th><th title = \"Any\" style = \"text-align: left;\">Any</th><th title = \"Any\" style = \"text-align: left;\">Any</th><th title = \"Any\" style = \"text-align: left;\">Any</th></tr></thead><tbody><tr><td class = \"rowNumber\" style = \"font-weight: bold; text-align: right;\">1</td><td style = \"text-align: left;\">education_kindergarden</td><td style = \"text-align: left;\">1.33017</td><td style = \"text-align: left;\">103.84</td><td style = \"font-style: italic; text-align: left;\">missing</td><td style = \"font-style: italic; text-align: left;\">missing</td><td style = \"font-style: italic; text-align: left;\">missing</td><td style = \"font-style: italic; text-align: left;\">missing</td><td style = \"font-style: italic; text-align: left;\">missing</td><td style = \"font-style: italic; text-align: left;\">missing</td><td style = \"font-style: italic; text-align: left;\">missing</td><td style = \"font-style: italic; text-align: left;\">missing</td><td style = \"font-style: italic; text-align: left;\">missing</td></tr><tr><td class = \"rowNumber\" style = \"font-weight: bold; text-align: right;\">2</td><td style = \"text-align: left;\">education_kindergarden</td><td style = \"text-align: left;\">1.32994</td><td style = \"text-align: left;\">103.84</td><td style = \"text-align: left;\">Singapore</td><td style = \"text-align: left;\">8</td><td style = \"text-align: left;\">Eton House International School @ Thomson</td><td style = \"text-align: left;\">Thomson Lane</td><td style = \"text-align: left;\">kindergarten</td><td style = \"text-align: left;\">297743</td><td style = \"font-style: italic; text-align: left;\">missing</td><td style = \"font-style: italic; text-align: left;\">missing</td><td style = \"font-style: italic; text-align: left;\">missing</td></tr><tr><td class = \"rowNumber\" style = \"font-weight: bold; text-align: right;\">3</td><td style = \"text-align: left;\">education_kindergarden</td><td style = \"text-align: left;\">1.32904</td><td style = \"text-align: left;\">103.849</td><td style = \"font-style: italic; text-align: left;\">missing</td><td style = \"font-style: italic; text-align: left;\">missing</td><td style = \"text-align: left;\">Worldly-wise Preschool</td><td style = \"font-style: italic; text-align: left;\">missing</td><td style = \"text-align: left;\">kindergarten</td><td style = \"font-style: italic; text-align: left;\">missing</td><td style = \"font-style: italic; text-align: left;\">missing</td><td style = \"font-style: italic; text-align: left;\">missing</td><td style = \"font-style: italic; text-align: left;\">missing</td></tr><tr><td class = \"rowNumber\" style = \"font-weight: bold; text-align: right;\">4</td><td style = \"text-align: left;\">education_kindergarden</td><td style = \"text-align: left;\">1.27593</td><td style = \"text-align: left;\">103.831</td><td style = \"font-style: italic; text-align: left;\">missing</td><td style = \"font-style: italic; text-align: left;\">missing</td><td style = \"text-align: left;\">Modern Montessori Pre-School</td><td style = \"text-align: left;\">Kampong Bahru Road</td><td style = \"text-align: left;\">kindergarten</td><td style = \"font-style: italic; text-align: left;\">missing</td><td style = \"font-style: italic; text-align: left;\">missing</td><td style = \"font-style: italic; text-align: left;\">missing</td><td style = \"font-style: italic; text-align: left;\">missing</td></tr><tr><td class = \"rowNumber\" style = \"font-weight: bold; text-align: right;\">5</td><td style = \"text-align: left;\">education_kindergarden</td><td style = \"text-align: left;\">1.39632</td><td style = \"text-align: left;\">103.897</td><td style = \"font-style: italic; text-align: left;\">missing</td><td style = \"font-style: italic; text-align: left;\">missing</td><td style = \"text-align: left;\">PCF Sparkletots Preschool @ Sengkang Central Blk 290A</td><td style = \"font-style: italic; text-align: left;\">missing</td><td style = \"text-align: left;\">kindergarten</td><td style = \"font-style: italic; text-align: left;\">missing</td><td style = \"font-style: italic; text-align: left;\">missing</td><td style = \"font-style: italic; text-align: left;\">missing</td><td style = \"font-style: italic; text-align: left;\">missing</td></tr><tr><td class = \"rowNumber\" style = \"font-weight: bold; text-align: right;\">6</td><td style = \"text-align: left;\">education_kindergarden</td><td style = \"text-align: left;\">1.30371</td><td style = \"text-align: left;\">103.903</td><td style = \"font-style: italic; text-align: left;\">missing</td><td style = \"font-style: italic; text-align: left;\">missing</td><td style = \"text-align: left;\">Growing Up Gifted Preschool</td><td style = \"font-style: italic; text-align: left;\">missing</td><td style = \"text-align: left;\">kindergarten</td><td style = \"font-style: italic; text-align: left;\">missing</td><td style = \"font-style: italic; text-align: left;\">missing</td><td style = \"font-style: italic; text-align: left;\">missing</td><td style = \"font-style: italic; text-align: left;\">missing</td></tr><tr><td class = \"rowNumber\" style = \"font-weight: bold; text-align: right;\">7</td><td style = \"text-align: left;\">education_kindergarden</td><td style = \"text-align: left;\">1.31538</td><td style = \"text-align: left;\">103.838</td><td style = \"font-style: italic; text-align: left;\">missing</td><td style = \"text-align: left;\">9A</td><td style = \"text-align: left;\">Far Eastern Kindergarten</td><td style = \"text-align: left;\">Gilstead Road</td><td style = \"text-align: left;\">kindergarten</td><td style = \"font-style: italic; text-align: left;\">missing</td><td style = \"font-style: italic; text-align: left;\">missing</td><td style = \"font-style: italic; text-align: left;\">missing</td><td style = \"font-style: italic; text-align: left;\">missing</td></tr><tr><td class = \"rowNumber\" style = \"font-weight: bold; text-align: right;\">8</td><td style = \"text-align: left;\">education_kindergarden</td><td style = \"text-align: left;\">1.39505</td><td style = \"text-align: left;\">103.892</td><td style = \"font-style: italic; text-align: left;\">missing</td><td style = \"font-style: italic; text-align: left;\">missing</td><td style = \"text-align: left;\">My First Skool (332B Anchorvale Link)</td><td style = \"font-style: italic; text-align: left;\">missing</td><td style = \"text-align: left;\">kindergarten</td><td style = \"font-style: italic; text-align: left;\">missing</td><td style = \"font-style: italic; text-align: left;\">missing</td><td style = \"font-style: italic; text-align: left;\">missing</td><td style = \"font-style: italic; text-align: left;\">missing</td></tr><tr><td class = \"rowNumber\" style = \"font-weight: bold; text-align: right;\">9</td><td style = \"text-align: left;\">education_kindergarden</td><td style = \"text-align: left;\">1.35497</td><td style = \"text-align: left;\">103.878</td><td style = \"font-style: italic; text-align: left;\">missing</td><td style = \"text-align: left;\">91</td><td style = \"text-align: left;\">Modern Montessori Pre-school</td><td style = \"text-align: left;\">Kovan Road</td><td style = \"text-align: left;\">kindergarten</td><td style = \"font-style: italic; text-align: left;\">missing</td><td style = \"font-style: italic; text-align: left;\">missing</td><td style = \"font-style: italic; text-align: left;\">missing</td><td style = \"font-style: italic; text-align: left;\">missing</td></tr><tr><td class = \"rowNumber\" style = \"font-weight: bold; text-align: right;\">10</td><td style = \"text-align: left;\">education_kindergarden</td><td style = \"text-align: left;\">1.32123</td><td style = \"text-align: left;\">103.746</td><td style = \"text-align: left;\">Singapore</td><td style = \"font-style: italic; text-align: left;\">missing</td><td style = \"text-align: left;\">Calvary Pandan Kindergarten</td><td style = \"text-align: left;\">Pandan Gardens</td><td style = \"text-align: left;\">kindergarten</td><td style = \"font-style: italic; text-align: left;\">missing</td><td style = \"text-align: left;\">SG</td><td style = \"font-style: italic; text-align: left;\">missing</td><td style = \"font-style: italic; text-align: left;\">missing</td></tr><tr><td class = \"rowNumber\" style = \"font-weight: bold; text-align: right;\">11</td><td style = \"text-align: left;\">education_kindergarden</td><td style = \"text-align: left;\">1.34118</td><td style = \"text-align: left;\">103.772</td><td style = \"font-style: italic; text-align: left;\">missing</td><td style = \"font-style: italic; text-align: left;\">missing</td><td style = \"text-align: left;\">Creative Thinkers Preschool</td><td style = \"font-style: italic; text-align: left;\">missing</td><td style = \"text-align: left;\">kindergarten</td><td style = \"font-style: italic; text-align: left;\">missing</td><td style = \"font-style: italic; text-align: left;\">missing</td><td style = \"font-style: italic; text-align: left;\">missing</td><td style = \"font-style: italic; text-align: left;\">missing</td></tr><tr><td class = \"rowNumber\" style = \"font-weight: bold; text-align: right;\">12</td><td style = \"text-align: left;\">education_kindergarden</td><td style = \"text-align: left;\">1.41041</td><td style = \"text-align: left;\">103.906</td><td style = \"font-style: italic; text-align: left;\">missing</td><td style = \"font-style: italic; text-align: left;\">missing</td><td style = \"text-align: left;\">NurtureStars Preschool</td><td style = \"font-style: italic; text-align: left;\">missing</td><td style = \"text-align: left;\">kindergarten</td><td style = \"font-style: italic; text-align: left;\">missing</td><td style = \"font-style: italic; text-align: left;\">missing</td><td style = \"font-style: italic; text-align: left;\">missing</td><td style = \"font-style: italic; text-align: left;\">missing</td></tr><tr><td class = \"rowNumber\" style = \"font-weight: bold; text-align: right;\">13</td><td style = \"text-align: left;\">education_kindergarden</td><td style = \"text-align: left;\">1.3216</td><td style = \"text-align: left;\">103.91</td><td style = \"font-style: italic; text-align: left;\">missing</td><td style = \"font-style: italic; text-align: left;\">missing</td><td style = \"font-style: italic; text-align: left;\">missing</td><td style = \"font-style: italic; text-align: left;\">missing</td><td style = \"text-align: left;\">kindergarten</td><td style = \"font-style: italic; text-align: left;\">missing</td><td style = \"font-style: italic; text-align: left;\">missing</td><td style = \"font-style: italic; text-align: left;\">missing</td><td style = \"font-style: italic; text-align: left;\">missing</td></tr><tr><td style = \"text-align: right;\">&vellip;</td><td style = \"text-align: right;\">&vellip;</td><td style = \"text-align: right;\">&vellip;</td><td style = \"text-align: right;\">&vellip;</td><td style = \"text-align: right;\">&vellip;</td><td style = \"text-align: right;\">&vellip;</td><td style = \"text-align: right;\">&vellip;</td><td style = \"text-align: right;\">&vellip;</td><td style = \"text-align: right;\">&vellip;</td><td style = \"text-align: right;\">&vellip;</td><td style = \"text-align: right;\">&vellip;</td><td style = \"text-align: right;\">&vellip;</td><td style = \"text-align: right;\">&vellip;</td></tr><tr><td class = \"rowNumber\" style = \"font-weight: bold; text-align: right;\">946</td><td style = \"text-align: left;\">education_school</td><td style = \"text-align: left;\">1.3846</td><td style = \"text-align: left;\">103.753</td><td style = \"font-style: italic; text-align: left;\">Singapore</td><td style = \"font-style: italic; text-align: left;\">11</td><td style = \"text-align: left;\">Teck Whye Primary School</td><td style = \"font-style: italic; text-align: left;\">Teck Whye Walk</td><td style = \"text-align: left;\">school</td><td style = \"font-style: italic; text-align: left;\">688261</td><td style = \"font-style: italic; text-align: left;\">SG</td><td style = \"font-style: italic; text-align: left;\">德惠小学</td><td style = \"font-style: italic; text-align: left;\">primary</td></tr><tr><td class = \"rowNumber\" style = \"font-weight: bold; text-align: right;\">947</td><td style = \"text-align: left;\">education_school</td><td style = \"text-align: left;\">1.42141</td><td style = \"text-align: left;\">103.84</td><td style = \"font-style: italic; text-align: left;\">Singapore</td><td style = \"font-style: italic; text-align: left;\">15</td><td style = \"text-align: left;\">Northland Primary School</td><td style = \"font-style: italic; text-align: left;\">Yishun Avenue 4</td><td style = \"text-align: left;\">school</td><td style = \"font-style: italic; text-align: left;\">769026</td><td style = \"font-style: italic; text-align: left;\">SG</td><td style = \"font-style: italic; text-align: left;\">新华小学</td><td style = \"font-style: italic; text-align: left;\">primary</td></tr><tr><td class = \"rowNumber\" style = \"font-weight: bold; text-align: right;\">948</td><td style = \"text-align: left;\">education_school</td><td style = \"text-align: left;\">1.43729</td><td style = \"text-align: left;\">103.8</td><td style = \"font-style: italic; text-align: left;\">Singapore</td><td style = \"font-style: italic; text-align: left;\">10</td><td style = \"text-align: left;\">Woodlands Ring Secondary School</td><td style = \"font-style: italic; text-align: left;\">Woodlands Ring Road</td><td style = \"text-align: left;\">school</td><td style = \"font-style: italic; text-align: left;\">738239</td><td style = \"font-style: italic; text-align: left;\">SG</td><td style = \"font-style: italic; text-align: left;\">辅廉中学</td><td style = \"font-style: italic; text-align: left;\">secondary</td></tr><tr><td class = \"rowNumber\" style = \"font-weight: bold; text-align: right;\">949</td><td style = \"text-align: left;\">education_school</td><td style = \"text-align: left;\">1.35126</td><td style = \"text-align: left;\">103.742</td><td style = \"font-style: italic; text-align: left;\">Singapore</td><td style = \"font-style: italic; text-align: left;\">101</td><td style = \"text-align: left;\">Eden School</td><td style = \"font-style: italic; text-align: left;\">Bukit Batok West Avenue 3</td><td style = \"text-align: left;\">school</td><td style = \"font-style: italic; text-align: left;\">659168</td><td style = \"font-style: italic; text-align: left;\">SG</td><td style = \"font-style: italic; text-align: left;\">missing</td><td style = \"font-style: italic; text-align: left;\">missing</td></tr><tr><td class = \"rowNumber\" style = \"font-weight: bold; text-align: right;\">950</td><td style = \"text-align: left;\">education_school</td><td style = \"text-align: left;\">1.37577</td><td style = \"text-align: left;\">103.763</td><td style = \"font-style: italic; text-align: left;\">Singapore</td><td style = \"font-style: italic; text-align: left;\">31</td><td style = \"text-align: left;\">Fajar Secondary School</td><td style = \"font-style: italic; text-align: left;\">Gangsa Road</td><td style = \"text-align: left;\">school</td><td style = \"font-style: italic; text-align: left;\">678972</td><td style = \"font-style: italic; text-align: left;\">SG</td><td style = \"font-style: italic; text-align: left;\">励进中学</td><td style = \"font-style: italic; text-align: left;\">secondary</td></tr><tr><td class = \"rowNumber\" style = \"font-weight: bold; text-align: right;\">951</td><td style = \"text-align: left;\">education_school</td><td style = \"text-align: left;\">1.45426</td><td style = \"text-align: left;\">103.813</td><td style = \"font-style: italic; text-align: left;\">Singapore</td><td style = \"font-style: italic; text-align: left;\">51</td><td style = \"text-align: left;\">Canberra Secondary School</td><td style = \"font-style: italic; text-align: left;\">Sembawang Drive</td><td style = \"text-align: left;\">school</td><td style = \"font-style: italic; text-align: left;\">757699</td><td style = \"font-style: italic; text-align: left;\">SG</td><td style = \"font-style: italic; text-align: left;\">康培中学</td><td style = \"font-style: italic; text-align: left;\">secondary</td></tr><tr><td class = \"rowNumber\" style = \"font-weight: bold; text-align: right;\">952</td><td style = \"text-align: left;\">education_school</td><td style = \"text-align: left;\">1.30581</td><td style = \"text-align: left;\">103.917</td><td style = \"font-style: italic; text-align: left;\">Singapore</td><td style = \"font-style: italic; text-align: left;\">344</td><td style = \"text-align: left;\">Ngee Ann Primary School</td><td style = \"font-style: italic; text-align: left;\">Marine Terrace</td><td style = \"text-align: left;\">school</td><td style = \"font-style: italic; text-align: left;\">449149</td><td style = \"font-style: italic; text-align: left;\">SG</td><td style = \"font-style: italic; text-align: left;\">义安小学</td><td style = \"font-style: italic; text-align: left;\">primary</td></tr><tr><td class = \"rowNumber\" style = \"font-weight: bold; text-align: right;\">953</td><td style = \"text-align: left;\">education_school</td><td style = \"text-align: left;\">1.30247</td><td style = \"text-align: left;\">103.772</td><td style = \"text-align: left;\">missing</td><td style = \"text-align: left;\">missing</td><td style = \"text-align: left;\">Yong Siew Toh Conservatory of Music</td><td style = \"text-align: left;\">missing</td><td style = \"text-align: left;\">music_school</td><td style = \"text-align: left;\">missing</td><td style = \"font-style: italic; text-align: left;\">missing</td><td style = \"font-style: italic; text-align: left;\">missing</td><td style = \"font-style: italic; text-align: left;\">missing</td></tr><tr><td class = \"rowNumber\" style = \"font-weight: bold; text-align: right;\">954</td><td style = \"text-align: left;\">education_school</td><td style = \"text-align: left;\">1.32871</td><td style = \"text-align: left;\">103.901</td><td style = \"font-style: italic; text-align: left;\">Singapore</td><td style = \"font-style: italic; text-align: left;\">10</td><td style = \"text-align: left;\">Maha Bodhi School</td><td style = \"font-style: italic; text-align: left;\">Ubi Avenue 1</td><td style = \"text-align: left;\">school</td><td style = \"font-style: italic; text-align: left;\">408931</td><td style = \"font-style: italic; text-align: left;\">SG</td><td style = \"font-style: italic; text-align: left;\">菩提学校</td><td style = \"font-style: italic; text-align: left;\">primary</td></tr><tr><td class = \"rowNumber\" style = \"font-weight: bold; text-align: right;\">955</td><td style = \"text-align: left;\">education_school</td><td style = \"text-align: left;\">1.2966</td><td style = \"text-align: left;\">103.794</td><td style = \"font-style: italic; text-align: left;\">missing</td><td style = \"font-style: italic; text-align: left;\">missing</td><td style = \"text-align: left;\">Gate A</td><td style = \"font-style: italic; text-align: left;\">missing</td><td style = \"text-align: left;\">missing</td><td style = \"font-style: italic; text-align: left;\">missing</td><td style = \"font-style: italic; text-align: left;\">missing</td><td style = \"font-style: italic; text-align: left;\">missing</td><td style = \"font-style: italic; text-align: left;\">missing</td></tr><tr><td class = \"rowNumber\" style = \"font-weight: bold; text-align: right;\">956</td><td style = \"text-align: left;\">education_school</td><td style = \"text-align: left;\">1.31054</td><td style = \"text-align: left;\">103.757</td><td style = \"font-style: italic; text-align: left;\">Singapore</td><td style = \"font-style: italic; text-align: left;\">301</td><td style = \"text-align: left;\">Tanglin Secondary School</td><td style = \"font-style: italic; text-align: left;\">West Coast Road</td><td style = \"text-align: left;\">school</td><td style = \"font-style: italic; text-align: left;\">127391</td><td style = \"font-style: italic; text-align: left;\">SG</td><td style = \"font-style: italic; text-align: left;\">东林中学</td><td style = \"font-style: italic; text-align: left;\">secondary</td></tr><tr><td class = \"rowNumber\" style = \"font-weight: bold; text-align: right;\">957</td><td style = \"text-align: left;\">education_school</td><td style = \"text-align: left;\">1.31901</td><td style = \"text-align: left;\">103.917</td><td style = \"font-style: italic; text-align: left;\">Singapore</td><td style = \"font-style: italic; text-align: left;\">20</td><td style = \"text-align: left;\">St. Stephen&apos;s School</td><td style = \"font-style: italic; text-align: left;\">Siglap View</td><td style = \"text-align: left;\">school</td><td style = \"font-style: italic; text-align: left;\">455789</td><td style = \"font-style: italic; text-align: left;\">SG</td><td style = \"font-style: italic; text-align: left;\">聖斯德望学校</td><td style = \"font-style: italic; text-align: left;\">primary</td></tr></tbody></table></div>"
      ],
      "text/latex": [
       "\\begin{tabular}{r|ccccccc}\n",
       "\t& type & lat & lon & addr:city & addr:housenumber & name & \\\\\n",
       "\t\\hline\n",
       "\t& Any & Any & Any & Any & Any & Any & \\\\\n",
       "\t\\hline\n",
       "\t1 & education\\_kindergarden & 1.33017 & 103.84 & \\emph{missing} & \\emph{missing} & \\emph{missing} & $\\dots$ \\\\\n",
       "\t2 & education\\_kindergarden & 1.32994 & 103.84 & Singapore & 8 & Eton House International School @ Thomson & $\\dots$ \\\\\n",
       "\t3 & education\\_kindergarden & 1.32904 & 103.849 & \\emph{missing} & \\emph{missing} & Worldly-wise Preschool & $\\dots$ \\\\\n",
       "\t4 & education\\_kindergarden & 1.27593 & 103.831 & \\emph{missing} & \\emph{missing} & Modern Montessori Pre-School & $\\dots$ \\\\\n",
       "\t5 & education\\_kindergarden & 1.39632 & 103.897 & \\emph{missing} & \\emph{missing} & PCF Sparkletots Preschool @ Sengkang Central Blk 290A & $\\dots$ \\\\\n",
       "\t6 & education\\_kindergarden & 1.30371 & 103.903 & \\emph{missing} & \\emph{missing} & Growing Up Gifted Preschool & $\\dots$ \\\\\n",
       "\t7 & education\\_kindergarden & 1.31538 & 103.838 & \\emph{missing} & 9A & Far Eastern Kindergarten & $\\dots$ \\\\\n",
       "\t8 & education\\_kindergarden & 1.39505 & 103.892 & \\emph{missing} & \\emph{missing} & My First Skool (332B Anchorvale Link) & $\\dots$ \\\\\n",
       "\t9 & education\\_kindergarden & 1.35497 & 103.878 & \\emph{missing} & 91 & Modern Montessori Pre-school & $\\dots$ \\\\\n",
       "\t10 & education\\_kindergarden & 1.32123 & 103.746 & Singapore & \\emph{missing} & Calvary Pandan Kindergarten & $\\dots$ \\\\\n",
       "\t11 & education\\_kindergarden & 1.34118 & 103.772 & \\emph{missing} & \\emph{missing} & Creative Thinkers Preschool & $\\dots$ \\\\\n",
       "\t12 & education\\_kindergarden & 1.41041 & 103.906 & \\emph{missing} & \\emph{missing} & NurtureStars Preschool & $\\dots$ \\\\\n",
       "\t13 & education\\_kindergarden & 1.3216 & 103.91 & \\emph{missing} & \\emph{missing} & \\emph{missing} & $\\dots$ \\\\\n",
       "\t14 & education\\_kindergarden & 1.37676 & 103.766 & \\emph{missing} & \\emph{missing} & Korean Church Kindergarten & $\\dots$ \\\\\n",
       "\t15 & education\\_kindergarden & 1.40096 & 103.907 & \\emph{missing} & \\emph{missing} & Berry Tree Preschool & $\\dots$ \\\\\n",
       "\t16 & education\\_kindergarden & 1.35155 & 103.716 & \\emph{missing} & \\emph{missing} & St. Francis Of Assisi Kindergarten & $\\dots$ \\\\\n",
       "\t17 & education\\_kindergarden & 1.31929 & 103.832 & \\emph{missing} & \\emph{missing} & Raffles House & $\\dots$ \\\\\n",
       "\t18 & education\\_kindergarden & 1.35774 & 103.884 & \\emph{missing} & \\emph{missing} & Kinderland Preschool & $\\dots$ \\\\\n",
       "\t19 & education\\_kindergarden & 1.38264 & 103.899 & \\emph{missing} & \\emph{missing} & My First Skool & $\\dots$ \\\\\n",
       "\t20 & education\\_kindergarden & 1.33356 & 103.849 & \\emph{missing} & \\emph{missing} & Sparkletots & $\\dots$ \\\\\n",
       "\t21 & education\\_kindergarden & 1.35873 & 103.882 & Singapore & 839 & St.Paul's Church Kindergarten (SPCK) & $\\dots$ \\\\\n",
       "\t22 & education\\_kindergarden & 1.3251 & 103.913 & \\emph{missing} & \\emph{missing} & Little Sparks Montessori & $\\dots$ \\\\\n",
       "\t23 & education\\_kindergarden & 1.32176 & 103.904 & \\emph{missing} & \\emph{missing} & PCF Sparkletots Preschool & $\\dots$ \\\\\n",
       "\t24 & education\\_kindergarden & 1.3343 & 103.845 & \\emph{missing} & \\emph{missing} & Sparkletots & $\\dots$ \\\\\n",
       "\t$\\dots$ & $\\dots$ & $\\dots$ & $\\dots$ & $\\dots$ & $\\dots$ & $\\dots$ &  \\\\\n",
       "\\end{tabular}\n"
      ],
      "text/plain": [
       "\u001b[1m957×12 DataFrame\u001b[0m\n",
       "\u001b[1m Row \u001b[0m│\u001b[1m type                   \u001b[0m\u001b[1m lat     \u001b[0m\u001b[1m lon     \u001b[0m\u001b[1m addr:city \u001b[0m\u001b[1m addr:housenumber \u001b[0m\u001b[1m \u001b[0m ⋯\n",
       "     │\u001b[90m Any                    \u001b[0m\u001b[90m Any     \u001b[0m\u001b[90m Any     \u001b[0m\u001b[90m Any       \u001b[0m\u001b[90m Any              \u001b[0m\u001b[90m \u001b[0m ⋯\n",
       "─────┼──────────────────────────────────────────────────────────────────────────\n",
       "   1 │ education_kindergarden  1.33017  103.84  \u001b[90m missing   \u001b[0m\u001b[90m missing          \u001b[0m\u001b[90m \u001b[0m ⋯\n",
       "   2 │ education_kindergarden  1.32994  103.84   Singapore  8\n",
       "   3 │ education_kindergarden  1.32904  103.849 \u001b[90m missing   \u001b[0m\u001b[90m missing          \u001b[0m\n",
       "   4 │ education_kindergarden  1.27593  103.831 \u001b[90m missing   \u001b[0m\u001b[90m missing          \u001b[0m\n",
       "   5 │ education_kindergarden  1.39632  103.897 \u001b[90m missing   \u001b[0m\u001b[90m missing          \u001b[0m  ⋯\n",
       "   6 │ education_kindergarden  1.30371  103.903 \u001b[90m missing   \u001b[0m\u001b[90m missing          \u001b[0m\n",
       "   7 │ education_kindergarden  1.31538  103.838 \u001b[90m missing   \u001b[0m 9A\n",
       "   8 │ education_kindergarden  1.39505  103.892 \u001b[90m missing   \u001b[0m\u001b[90m missing          \u001b[0m\n",
       "  ⋮  │           ⋮                ⋮        ⋮         ⋮             ⋮           ⋱\n",
       " 951 │ education_school        1.45426  103.813  Singapore  51                 ⋯\n",
       " 952 │ education_school        1.30581  103.917  Singapore  344\n",
       " 953 │ education_school        1.30247  103.772 \u001b[90m missing   \u001b[0m\u001b[90m missing          \u001b[0m\n",
       " 954 │ education_school        1.32871  103.901  Singapore  10\n",
       " 955 │ education_school        1.2966   103.794 \u001b[90m missing   \u001b[0m\u001b[90m missing          \u001b[0m  ⋯\n",
       " 956 │ education_school        1.31054  103.757  Singapore  301\n",
       " 957 │ education_school        1.31901  103.917  Singapore  20\n",
       "\u001b[36m                                                  7 columns and 942 rows omitted\u001b[0m"
      ]
     },
     "metadata": {},
     "output_type": "display_data"
    }
   ],
   "source": [
    "singapore_school_df = create_df_from_osm_file(\"datasets/Singapore.osm\", 0.3, OSMgetPOI.POITypes.education_kindergarden, OSMgetPOI.POITypes.education_school)"
   ]
  },
  {
   "cell_type": "markdown",
   "metadata": {},
   "source": [
    "### 3. Save the results to a .csv file."
   ]
  },
  {
   "cell_type": "code",
   "execution_count": 4,
   "metadata": {},
   "outputs": [
    {
     "data": {
      "text/plain": [
       "\"output_csv/singapore_schools.csv\""
      ]
     },
     "metadata": {},
     "output_type": "display_data"
    }
   ],
   "source": [
    "using CSV\n",
    "CSV.write(\"output_csv/singapore_schools.csv\", singapore_school_df)"
   ]
  },
  {
   "cell_type": "markdown",
   "metadata": {},
   "source": [
    "### Remarks\n",
    "This research was funded in whole or in part by [National Science Centre,  Poland][2021/41/B/HS4/03349]. For the software’s  documentation for the purpose of Open Access, the author has applied a CC-BY public copyright licence to any Author Accepted Manuscript (AAM) version arising from this submission."
   ]
  }
 ],
 "metadata": {
  "kernelspec": {
   "display_name": "Julia 1.7.3",
   "language": "julia",
   "name": "julia-1.7"
  },
  "language_info": {
   "file_extension": ".jl",
   "mimetype": "application/julia",
   "name": "julia",
   "version": "1.7.3"
  },
  "orig_nbformat": 4
 },
 "nbformat": 4,
 "nbformat_minor": 2
}
