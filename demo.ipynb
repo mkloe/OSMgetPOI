{
 "cells": [
  {
   "cell_type": "markdown",
   "metadata": {},
   "source": [
    "### OSMGetPOI.jl Tutorial\n",
    "Full documentation: https://github.com/mkloe/OSMgetPOI"
   ]
  },
  {
   "cell_type": "code",
   "execution_count": 1,
   "metadata": {},
   "outputs": [],
   "source": [
    "using OSMgetPOI"
   ]
  },
  {
   "cell_type": "markdown",
   "metadata": {},
   "source": [
    "### 1. Download .osm data file\n",
    "1. Go to https://download.bbbike.org/osm/bbbike/ and select a city.\n",
    "2. Download the file for a selected city in *OSM XML gzip'd* format.\n",
    "\n",
    "You can also download data from https://download.geofabrik.de/index.html. In the future, we'll also add a functionality to download .osm file via API."
   ]
  },
  {
   "cell_type": "markdown",
   "metadata": {},
   "source": [
    "### 2. Generate a dataframe \n",
    "Generate a dataframe with the POI types defined in the parameters, based on `src/POITypes`. We only keep these columns that have over 30% of non-missing values. More information about the supported POI types by this API is provided in the documentation."
   ]
  },
  {
   "cell_type": "code",
   "execution_count": 2,
   "metadata": {},
   "outputs": [
    {
     "name": "stdout",
     "output_type": "stream",
     "text": [
      "OSM filter process time: 1.613275458\n"
     ]
    },
    {
     "name": "stdout",
     "output_type": "stream",
     "text": [
      "OSM filter process time: 1.455452958\n"
     ]
    },
    {
     "data": {
      "text/html": [
       "<div><div style = \"float: left;\"><span>927×12 DataFrame</span></div><div style = \"float: right;\"><span style = \"font-style: italic;\">902 rows omitted</span></div><div style = \"clear: both;\"></div></div><div class = \"data-frame\" style = \"overflow-x: scroll;\"><table class = \"data-frame\" style = \"margin-bottom: 6px;\"><thead><tr class = \"header\"><th class = \"rowNumber\" style = \"font-weight: bold; text-align: right;\">Row</th><th style = \"text-align: left;\">type</th><th style = \"text-align: left;\">lat</th><th style = \"text-align: left;\">lon</th><th style = \"text-align: left;\">name</th><th style = \"text-align: left;\">amenity</th><th style = \"text-align: left;\">addr:city</th><th style = \"text-align: left;\">addr:housenumber</th><th style = \"text-align: left;\">addr:street</th><th style = \"text-align: left;\">addr:postcode</th><th style = \"text-align: left;\">addr:country</th><th style = \"text-align: left;\">name:zh</th><th style = \"text-align: left;\">school</th></tr><tr class = \"subheader headerLastRow\"><th class = \"rowNumber\" style = \"font-weight: bold; text-align: right;\"></th><th title = \"Any\" style = \"text-align: left;\">Any</th><th title = \"Any\" style = \"text-align: left;\">Any</th><th title = \"Any\" style = \"text-align: left;\">Any</th><th title = \"Any\" style = \"text-align: left;\">Any</th><th title = \"Any\" style = \"text-align: left;\">Any</th><th title = \"Any\" style = \"text-align: left;\">Any</th><th title = \"Any\" style = \"text-align: left;\">Any</th><th title = \"Any\" style = \"text-align: left;\">Any</th><th title = \"Any\" style = \"text-align: left;\">Any</th><th title = \"Any\" style = \"text-align: left;\">Any</th><th title = \"Any\" style = \"text-align: left;\">Any</th><th title = \"Any\" style = \"text-align: left;\">Any</th></tr></thead><tbody><tr><td class = \"rowNumber\" style = \"font-weight: bold; text-align: right;\">1</td><td style = \"text-align: left;\">education_kindergarden</td><td style = \"text-align: left;\">1.38928</td><td style = \"text-align: left;\">103.902</td><td style = \"text-align: left;\">PCF Sparkletots Preschool</td><td style = \"text-align: left;\">kindergarten</td><td style = \"font-style: italic; text-align: left;\">missing</td><td style = \"font-style: italic; text-align: left;\">missing</td><td style = \"font-style: italic; text-align: left;\">missing</td><td style = \"font-style: italic; text-align: left;\">missing</td><td style = \"font-style: italic; text-align: left;\">missing</td><td style = \"font-style: italic; text-align: left;\">missing</td><td style = \"font-style: italic; text-align: left;\">missing</td></tr><tr><td class = \"rowNumber\" style = \"font-weight: bold; text-align: right;\">2</td><td style = \"text-align: left;\">education_kindergarden</td><td style = \"text-align: left;\">1.32994</td><td style = \"text-align: left;\">103.84</td><td style = \"text-align: left;\">Eton House International School @ Thomson</td><td style = \"text-align: left;\">kindergarten</td><td style = \"text-align: left;\">Singapore</td><td style = \"text-align: left;\">8</td><td style = \"text-align: left;\">Thomson Lane</td><td style = \"text-align: left;\">297743</td><td style = \"font-style: italic; text-align: left;\">missing</td><td style = \"font-style: italic; text-align: left;\">missing</td><td style = \"font-style: italic; text-align: left;\">missing</td></tr><tr><td class = \"rowNumber\" style = \"font-weight: bold; text-align: right;\">3</td><td style = \"text-align: left;\">education_kindergarden</td><td style = \"text-align: left;\">1.30232</td><td style = \"text-align: left;\">103.862</td><td style = \"text-align: left;\">Little Quran Kids</td><td style = \"text-align: left;\">kindergarten</td><td style = \"font-style: italic; text-align: left;\">missing</td><td style = \"font-style: italic; text-align: left;\">missing</td><td style = \"font-style: italic; text-align: left;\">missing</td><td style = \"font-style: italic; text-align: left;\">missing</td><td style = \"font-style: italic; text-align: left;\">missing</td><td style = \"font-style: italic; text-align: left;\">missing</td><td style = \"font-style: italic; text-align: left;\">missing</td></tr><tr><td class = \"rowNumber\" style = \"font-weight: bold; text-align: right;\">4</td><td style = \"text-align: left;\">education_kindergarden</td><td style = \"text-align: left;\">1.32904</td><td style = \"text-align: left;\">103.849</td><td style = \"text-align: left;\">Worldly-wise Preschool</td><td style = \"text-align: left;\">kindergarten</td><td style = \"font-style: italic; text-align: left;\">missing</td><td style = \"font-style: italic; text-align: left;\">missing</td><td style = \"font-style: italic; text-align: left;\">missing</td><td style = \"font-style: italic; text-align: left;\">missing</td><td style = \"font-style: italic; text-align: left;\">missing</td><td style = \"font-style: italic; text-align: left;\">missing</td><td style = \"font-style: italic; text-align: left;\">missing</td></tr><tr><td class = \"rowNumber\" style = \"font-weight: bold; text-align: right;\">5</td><td style = \"text-align: left;\">education_kindergarden</td><td style = \"text-align: left;\">1.42644</td><td style = \"text-align: left;\">103.776</td><td style = \"text-align: left;\">Singapore American School Kindergarten</td><td style = \"text-align: left;\">kindergarten</td><td style = \"font-style: italic; text-align: left;\">missing</td><td style = \"font-style: italic; text-align: left;\">missing</td><td style = \"font-style: italic; text-align: left;\">missing</td><td style = \"font-style: italic; text-align: left;\">missing</td><td style = \"font-style: italic; text-align: left;\">missing</td><td style = \"font-style: italic; text-align: left;\">missing</td><td style = \"font-style: italic; text-align: left;\">missing</td></tr><tr><td class = \"rowNumber\" style = \"font-weight: bold; text-align: right;\">6</td><td style = \"text-align: left;\">education_kindergarden</td><td style = \"text-align: left;\">1.27593</td><td style = \"text-align: left;\">103.831</td><td style = \"text-align: left;\">Modern Montessori Pre-School</td><td style = \"text-align: left;\">kindergarten</td><td style = \"font-style: italic; text-align: left;\">missing</td><td style = \"font-style: italic; text-align: left;\">missing</td><td style = \"text-align: left;\">Kampong Bahru Road</td><td style = \"font-style: italic; text-align: left;\">missing</td><td style = \"font-style: italic; text-align: left;\">missing</td><td style = \"font-style: italic; text-align: left;\">missing</td><td style = \"font-style: italic; text-align: left;\">missing</td></tr><tr><td class = \"rowNumber\" style = \"font-weight: bold; text-align: right;\">7</td><td style = \"text-align: left;\">education_kindergarden</td><td style = \"text-align: left;\">1.39632</td><td style = \"text-align: left;\">103.897</td><td style = \"text-align: left;\">PCF Sparkletots Preschool @ Sengkang Central Blk 290A</td><td style = \"text-align: left;\">kindergarten</td><td style = \"font-style: italic; text-align: left;\">missing</td><td style = \"font-style: italic; text-align: left;\">missing</td><td style = \"font-style: italic; text-align: left;\">missing</td><td style = \"font-style: italic; text-align: left;\">missing</td><td style = \"font-style: italic; text-align: left;\">missing</td><td style = \"font-style: italic; text-align: left;\">missing</td><td style = \"font-style: italic; text-align: left;\">missing</td></tr><tr><td class = \"rowNumber\" style = \"font-weight: bold; text-align: right;\">8</td><td style = \"text-align: left;\">education_kindergarden</td><td style = \"text-align: left;\">1.30371</td><td style = \"text-align: left;\">103.903</td><td style = \"text-align: left;\">Growing Up Gifted Preschool</td><td style = \"text-align: left;\">kindergarten</td><td style = \"font-style: italic; text-align: left;\">missing</td><td style = \"font-style: italic; text-align: left;\">missing</td><td style = \"font-style: italic; text-align: left;\">missing</td><td style = \"font-style: italic; text-align: left;\">missing</td><td style = \"font-style: italic; text-align: left;\">missing</td><td style = \"font-style: italic; text-align: left;\">missing</td><td style = \"font-style: italic; text-align: left;\">missing</td></tr><tr><td class = \"rowNumber\" style = \"font-weight: bold; text-align: right;\">9</td><td style = \"text-align: left;\">education_kindergarden</td><td style = \"text-align: left;\">1.30868</td><td style = \"text-align: left;\">103.761</td><td style = \"text-align: left;\">Big Foot Pre School</td><td style = \"text-align: left;\">kindergarten</td><td style = \"font-style: italic; text-align: left;\">missing</td><td style = \"font-style: italic; text-align: left;\">missing</td><td style = \"text-align: left;\">West Coast Road</td><td style = \"font-style: italic; text-align: left;\">missing</td><td style = \"font-style: italic; text-align: left;\">missing</td><td style = \"font-style: italic; text-align: left;\">missing</td><td style = \"font-style: italic; text-align: left;\">missing</td></tr><tr><td class = \"rowNumber\" style = \"font-weight: bold; text-align: right;\">10</td><td style = \"text-align: left;\">education_kindergarden</td><td style = \"text-align: left;\">1.31538</td><td style = \"text-align: left;\">103.838</td><td style = \"text-align: left;\">Far Eastern Kindergarten</td><td style = \"text-align: left;\">kindergarten</td><td style = \"font-style: italic; text-align: left;\">missing</td><td style = \"text-align: left;\">9A</td><td style = \"text-align: left;\">Gilstead Road</td><td style = \"font-style: italic; text-align: left;\">missing</td><td style = \"font-style: italic; text-align: left;\">missing</td><td style = \"font-style: italic; text-align: left;\">missing</td><td style = \"font-style: italic; text-align: left;\">missing</td></tr><tr><td class = \"rowNumber\" style = \"font-weight: bold; text-align: right;\">11</td><td style = \"text-align: left;\">education_kindergarden</td><td style = \"text-align: left;\">1.39505</td><td style = \"text-align: left;\">103.892</td><td style = \"text-align: left;\">My First Skool (332B Anchorvale Link)</td><td style = \"text-align: left;\">kindergarten</td><td style = \"font-style: italic; text-align: left;\">missing</td><td style = \"font-style: italic; text-align: left;\">missing</td><td style = \"font-style: italic; text-align: left;\">missing</td><td style = \"font-style: italic; text-align: left;\">missing</td><td style = \"font-style: italic; text-align: left;\">missing</td><td style = \"font-style: italic; text-align: left;\">missing</td><td style = \"font-style: italic; text-align: left;\">missing</td></tr><tr><td class = \"rowNumber\" style = \"font-weight: bold; text-align: right;\">12</td><td style = \"text-align: left;\">education_kindergarden</td><td style = \"text-align: left;\">1.32701</td><td style = \"text-align: left;\">103.846</td><td style = \"text-align: left;\">Little Footprints Preschool</td><td style = \"text-align: left;\">kindergarten</td><td style = \"font-style: italic; text-align: left;\">missing</td><td style = \"font-style: italic; text-align: left;\">missing</td><td style = \"font-style: italic; text-align: left;\">missing</td><td style = \"font-style: italic; text-align: left;\">missing</td><td style = \"font-style: italic; text-align: left;\">missing</td><td style = \"font-style: italic; text-align: left;\">missing</td><td style = \"font-style: italic; text-align: left;\">missing</td></tr><tr><td class = \"rowNumber\" style = \"font-weight: bold; text-align: right;\">13</td><td style = \"text-align: left;\">education_kindergarden</td><td style = \"text-align: left;\">1.30049</td><td style = \"text-align: left;\">103.842</td><td style = \"text-align: left;\">MindChamps</td><td style = \"text-align: left;\">kindergarten</td><td style = \"font-style: italic; text-align: left;\">missing</td><td style = \"font-style: italic; text-align: left;\">missing</td><td style = \"font-style: italic; text-align: left;\">missing</td><td style = \"font-style: italic; text-align: left;\">missing</td><td style = \"font-style: italic; text-align: left;\">missing</td><td style = \"font-style: italic; text-align: left;\">missing</td><td style = \"font-style: italic; text-align: left;\">missing</td></tr><tr><td style = \"text-align: right;\">&vellip;</td><td style = \"text-align: right;\">&vellip;</td><td style = \"text-align: right;\">&vellip;</td><td style = \"text-align: right;\">&vellip;</td><td style = \"text-align: right;\">&vellip;</td><td style = \"text-align: right;\">&vellip;</td><td style = \"text-align: right;\">&vellip;</td><td style = \"text-align: right;\">&vellip;</td><td style = \"text-align: right;\">&vellip;</td><td style = \"text-align: right;\">&vellip;</td><td style = \"text-align: right;\">&vellip;</td><td style = \"text-align: right;\">&vellip;</td><td style = \"text-align: right;\">&vellip;</td></tr><tr><td class = \"rowNumber\" style = \"font-weight: bold; text-align: right;\">916</td><td style = \"text-align: left;\">education_school</td><td style = \"text-align: left;\">1.30313</td><td style = \"text-align: left;\">103.873</td><td style = \"text-align: left;\">The Musical Fairy</td><td style = \"text-align: left;\">music_school</td><td style = \"font-style: italic; text-align: left;\">missing</td><td style = \"text-align: left;\">missing</td><td style = \"text-align: left;\">missing</td><td style = \"text-align: left;\">missing</td><td style = \"font-style: italic; text-align: left;\">missing</td><td style = \"font-style: italic; text-align: left;\">missing</td><td style = \"font-style: italic; text-align: left;\">missing</td></tr><tr><td class = \"rowNumber\" style = \"font-weight: bold; text-align: right;\">917</td><td style = \"text-align: left;\">education_school</td><td style = \"text-align: left;\">1.43128</td><td style = \"text-align: left;\">103.777</td><td style = \"text-align: left;\">Fuchun Secondary School</td><td style = \"text-align: left;\">school</td><td style = \"font-style: italic; text-align: left;\">missing</td><td style = \"text-align: left;\">missing</td><td style = \"text-align: left;\">missing</td><td style = \"font-style: italic; text-align: left;\">missing</td><td style = \"font-style: italic; text-align: left;\">missing</td><td style = \"font-style: italic; text-align: left;\">missing</td><td style = \"font-style: italic; text-align: left;\">missing</td></tr><tr><td class = \"rowNumber\" style = \"font-weight: bold; text-align: right;\">918</td><td style = \"text-align: left;\">education_school</td><td style = \"text-align: left;\">1.29575</td><td style = \"text-align: left;\">103.784</td><td style = \"text-align: left;\">Faculty of Dentistry</td><td style = \"text-align: left;\">school</td><td style = \"font-style: italic; text-align: left;\">missing</td><td style = \"font-style: italic; text-align: left;\">missing</td><td style = \"font-style: italic; text-align: left;\">missing</td><td style = \"font-style: italic; text-align: left;\">missing</td><td style = \"font-style: italic; text-align: left;\">missing</td><td style = \"font-style: italic; text-align: left;\">missing</td><td style = \"font-style: italic; text-align: left;\">missing</td></tr><tr><td class = \"rowNumber\" style = \"font-weight: bold; text-align: right;\">919</td><td style = \"text-align: left;\">education_school</td><td style = \"text-align: left;\">1.47961</td><td style = \"text-align: left;\">103.743</td><td style = \"text-align: left;\">Sekolah Jenis Kebangsaan (C) Foon Yew 2</td><td style = \"text-align: left;\">school</td><td style = \"text-align: left;\">missing</td><td style = \"font-style: italic; text-align: left;\">missing</td><td style = \"text-align: left;\">missing</td><td style = \"font-style: italic; text-align: left;\">missing</td><td style = \"text-align: left;\">missing</td><td style = \"font-style: italic; text-align: left;\">宽柔华小（二）校</td><td style = \"font-style: italic; text-align: left;\">missing</td></tr><tr><td class = \"rowNumber\" style = \"font-weight: bold; text-align: right;\">920</td><td style = \"text-align: left;\">education_school</td><td style = \"text-align: left;\">1.34323</td><td style = \"text-align: left;\">103.712</td><td style = \"text-align: left;\">Boon Lay Garden Primary School</td><td style = \"text-align: left;\">school</td><td style = \"font-style: italic; text-align: left;\">Singapore</td><td style = \"font-style: italic; text-align: left;\">20</td><td style = \"font-style: italic; text-align: left;\">Boon Lay Drive</td><td style = \"font-style: italic; text-align: left;\">649930</td><td style = \"font-style: italic; text-align: left;\">SG</td><td style = \"font-style: italic; text-align: left;\">文园小学</td><td style = \"font-style: italic; text-align: left;\">primary</td></tr><tr><td class = \"rowNumber\" style = \"font-weight: bold; text-align: right;\">921</td><td style = \"text-align: left;\">education_school</td><td style = \"text-align: left;\">1.2966</td><td style = \"text-align: left;\">103.794</td><td style = \"text-align: left;\">Gate A</td><td style = \"text-align: left;\">missing</td><td style = \"font-style: italic; text-align: left;\">missing</td><td style = \"font-style: italic; text-align: left;\">missing</td><td style = \"text-align: left;\">missing</td><td style = \"font-style: italic; text-align: left;\">missing</td><td style = \"font-style: italic; text-align: left;\">missing</td><td style = \"font-style: italic; text-align: left;\">missing</td><td style = \"font-style: italic; text-align: left;\">missing</td></tr><tr><td class = \"rowNumber\" style = \"font-weight: bold; text-align: right;\">922</td><td style = \"text-align: left;\">education_school</td><td style = \"text-align: left;\">1.47921</td><td style = \"text-align: left;\">103.748</td><td style = \"text-align: left;\">Sekolah Jenis Kebangsaan (T) Jalan Yahya Awal</td><td style = \"text-align: left;\">school</td><td style = \"text-align: left;\">missing</td><td style = \"text-align: left;\">missing</td><td style = \"text-align: left;\">missing</td><td style = \"text-align: left;\">missing</td><td style = \"font-style: italic; text-align: left;\">missing</td><td style = \"font-style: italic; text-align: left;\">missing</td><td style = \"font-style: italic; text-align: left;\">missing</td></tr><tr><td class = \"rowNumber\" style = \"font-weight: bold; text-align: right;\">923</td><td style = \"text-align: left;\">education_school</td><td style = \"text-align: left;\">1.31054</td><td style = \"text-align: left;\">103.757</td><td style = \"text-align: left;\">Tanglin Secondary School</td><td style = \"text-align: left;\">school</td><td style = \"font-style: italic; text-align: left;\">Singapore</td><td style = \"font-style: italic; text-align: left;\">301</td><td style = \"font-style: italic; text-align: left;\">West Coast Road</td><td style = \"font-style: italic; text-align: left;\">127391</td><td style = \"font-style: italic; text-align: left;\">SG</td><td style = \"font-style: italic; text-align: left;\">东林中学</td><td style = \"font-style: italic; text-align: left;\">secondary</td></tr><tr><td class = \"rowNumber\" style = \"font-weight: bold; text-align: right;\">924</td><td style = \"text-align: left;\">education_school</td><td style = \"text-align: left;\">1.38136</td><td style = \"text-align: left;\">103.736</td><td style = \"text-align: left;\">Concord Primary School</td><td style = \"text-align: left;\">school</td><td style = \"font-style: italic; text-align: left;\">Singapore</td><td style = \"font-style: italic; text-align: left;\">3</td><td style = \"font-style: italic; text-align: left;\">Choa Chu Kang Avenue 4</td><td style = \"font-style: italic; text-align: left;\">689814</td><td style = \"font-style: italic; text-align: left;\">SG</td><td style = \"font-style: italic; text-align: left;\">克勤小学</td><td style = \"font-style: italic; text-align: left;\">primary</td></tr><tr><td class = \"rowNumber\" style = \"font-weight: bold; text-align: right;\">925</td><td style = \"text-align: left;\">education_school</td><td style = \"text-align: left;\">1.34999</td><td style = \"text-align: left;\">103.861</td><td style = \"text-align: left;\">St Gabriel&apos;s Primary School</td><td style = \"text-align: left;\">school</td><td style = \"font-style: italic; text-align: left;\">Singapore</td><td style = \"text-align: left;\">220</td><td style = \"text-align: left;\">Lorong Chuan</td><td style = \"font-style: italic; text-align: left;\">556742</td><td style = \"font-style: italic; text-align: left;\">SG</td><td style = \"font-style: italic; text-align: left;\">圣加俾尔小学</td><td style = \"font-style: italic; text-align: left;\">primary</td></tr><tr><td class = \"rowNumber\" style = \"font-weight: bold; text-align: right;\">926</td><td style = \"text-align: left;\">education_school</td><td style = \"text-align: left;\">1.32317</td><td style = \"text-align: left;\">103.865</td><td style = \"font-style: italic; text-align: left;\">Bendemeer Primary School</td><td style = \"text-align: left;\">school</td><td style = \"font-style: italic; text-align: left;\">Singapore</td><td style = \"font-style: italic; text-align: left;\">91</td><td style = \"font-style: italic; text-align: left;\">Bendemeer Road</td><td style = \"font-style: italic; text-align: left;\">339948</td><td style = \"font-style: italic; text-align: left;\">SG</td><td style = \"font-style: italic; text-align: left;\">明智小学</td><td style = \"font-style: italic; text-align: left;\">primary</td></tr><tr><td class = \"rowNumber\" style = \"font-weight: bold; text-align: right;\">927</td><td style = \"text-align: left;\">education_school</td><td style = \"text-align: left;\">1.31901</td><td style = \"text-align: left;\">103.917</td><td style = \"text-align: left;\">St. Stephen&apos;s School</td><td style = \"text-align: left;\">school</td><td style = \"text-align: left;\">Singapore</td><td style = \"text-align: left;\">20</td><td style = \"text-align: left;\">Siglap View</td><td style = \"text-align: left;\">455789</td><td style = \"font-style: italic; text-align: left;\">SG</td><td style = \"font-style: italic; text-align: left;\">聖斯德望学校</td><td style = \"font-style: italic; text-align: left;\">primary</td></tr></tbody></table></div>"
      ],
      "text/latex": [
       "\\begin{tabular}{r|ccccc}\n",
       "\t& type & lat & lon & name & \\\\\n",
       "\t\\hline\n",
       "\t& Any & Any & Any & Any & \\\\\n",
       "\t\\hline\n",
       "\t1 & education\\_kindergarden & 1.38928 & 103.902 & PCF Sparkletots Preschool & $\\dots$ \\\\\n",
       "\t2 & education\\_kindergarden & 1.32994 & 103.84 & Eton House International School @ Thomson & $\\dots$ \\\\\n",
       "\t3 & education\\_kindergarden & 1.30232 & 103.862 & Little Quran Kids & $\\dots$ \\\\\n",
       "\t4 & education\\_kindergarden & 1.32904 & 103.849 & Worldly-wise Preschool & $\\dots$ \\\\\n",
       "\t5 & education\\_kindergarden & 1.42644 & 103.776 & Singapore American School Kindergarten & $\\dots$ \\\\\n",
       "\t6 & education\\_kindergarden & 1.27593 & 103.831 & Modern Montessori Pre-School & $\\dots$ \\\\\n",
       "\t7 & education\\_kindergarden & 1.39632 & 103.897 & PCF Sparkletots Preschool @ Sengkang Central Blk 290A & $\\dots$ \\\\\n",
       "\t8 & education\\_kindergarden & 1.30371 & 103.903 & Growing Up Gifted Preschool & $\\dots$ \\\\\n",
       "\t9 & education\\_kindergarden & 1.30868 & 103.761 & Big Foot Pre School & $\\dots$ \\\\\n",
       "\t10 & education\\_kindergarden & 1.31538 & 103.838 & Far Eastern Kindergarten & $\\dots$ \\\\\n",
       "\t11 & education\\_kindergarden & 1.39505 & 103.892 & My First Skool (332B Anchorvale Link) & $\\dots$ \\\\\n",
       "\t12 & education\\_kindergarden & 1.32701 & 103.846 & Little Footprints Preschool & $\\dots$ \\\\\n",
       "\t13 & education\\_kindergarden & 1.30049 & 103.842 & MindChamps & $\\dots$ \\\\\n",
       "\t14 & education\\_kindergarden & 1.35994 & 103.882 & Catholic Kindergarten & $\\dots$ \\\\\n",
       "\t15 & education\\_kindergarden & 1.35497 & 103.878 & Modern Montessori Pre-school & $\\dots$ \\\\\n",
       "\t16 & education\\_kindergarden & 1.33575 & 103.739 & Seventh-day Adventist Kindergarten & $\\dots$ \\\\\n",
       "\t17 & education\\_kindergarden & 1.32123 & 103.746 & Calvary Pandan Kindergarten & $\\dots$ \\\\\n",
       "\t18 & education\\_kindergarden & 1.338 & 103.843 & Carpe Diem Schoolhouse & $\\dots$ \\\\\n",
       "\t19 & education\\_kindergarden & 1.36873 & 103.881 & Merlion Kids & $\\dots$ \\\\\n",
       "\t20 & education\\_kindergarden & 1.44344 & 103.803 & PCF Sparkletots & $\\dots$ \\\\\n",
       "\t21 & education\\_kindergarden & 1.31258 & 103.907 & Sparkletots & $\\dots$ \\\\\n",
       "\t22 & education\\_kindergarden & 1.34118 & 103.772 & Creative Thinkers Preschool & $\\dots$ \\\\\n",
       "\t23 & education\\_kindergarden & 1.31757 & 103.84 & Pat’s Schoolhouse Buckley & $\\dots$ \\\\\n",
       "\t24 & education\\_kindergarden & 1.30505 & 103.765 & \\emph{missing} & $\\dots$ \\\\\n",
       "\t$\\dots$ & $\\dots$ & $\\dots$ & $\\dots$ & $\\dots$ &  \\\\\n",
       "\\end{tabular}\n"
      ],
      "text/plain": [
       "\u001b[1m927×12 DataFrame\u001b[0m\n",
       "\u001b[1m Row \u001b[0m│\u001b[1m type                   \u001b[0m\u001b[1m lat     \u001b[0m\u001b[1m lon     \u001b[0m\u001b[1m name                         \u001b[0m ⋯\n",
       "     │\u001b[90m Any                    \u001b[0m\u001b[90m Any     \u001b[0m\u001b[90m Any     \u001b[0m\u001b[90m Any                          \u001b[0m ⋯\n",
       "─────┼──────────────────────────────────────────────────────────────────────────\n",
       "   1 │ education_kindergarden  1.38928  103.902  PCF Sparkletots Preschool     ⋯\n",
       "   2 │ education_kindergarden  1.32994  103.84   Eton House International Scho\n",
       "   3 │ education_kindergarden  1.30232  103.862  Little Quran Kids\n",
       "   4 │ education_kindergarden  1.32904  103.849  Worldly-wise Preschool\n",
       "   5 │ education_kindergarden  1.42644  103.776  Singapore American School Kin ⋯\n",
       "   6 │ education_kindergarden  1.27593  103.831  Modern Montessori Pre-School\n",
       "   7 │ education_kindergarden  1.39632  103.897  PCF Sparkletots Preschool @ S\n",
       "   8 │ education_kindergarden  1.30371  103.903  Growing Up Gifted Preschool\n",
       "  ⋮  │           ⋮                ⋮        ⋮                     ⋮             ⋱\n",
       " 921 │ education_school        1.2966   103.794  Gate A                        ⋯\n",
       " 922 │ education_school        1.47921  103.748  Sekolah Jenis Kebangsaan (T)\n",
       " 923 │ education_school        1.31054  103.757  Tanglin Secondary School\n",
       " 924 │ education_school        1.38136  103.736  Concord Primary School\n",
       " 925 │ education_school        1.34999  103.861  St Gabriel's Primary School   ⋯\n",
       " 926 │ education_school        1.32317  103.865  Bendemeer Primary School\n",
       " 927 │ education_school        1.31901  103.917  St. Stephen's School\n",
       "\u001b[36m                                                  9 columns and 912 rows omitted\u001b[0m"
      ]
     },
     "metadata": {},
     "output_type": "display_data"
    }
   ],
   "source": [
    "singapore_school_df = create_df_from_osm_file(\"datasets/Singapore.osm\", 0.3, OSMgetPOI.POITypes.education_kindergarden, OSMgetPOI.POITypes.education_school)"
   ]
  },
  {
   "cell_type": "markdown",
   "metadata": {},
   "source": [
    "### 3. Save the results to a .csv file."
   ]
  },
  {
   "cell_type": "code",
   "execution_count": 4,
   "metadata": {},
   "outputs": [
    {
     "data": {
      "text/plain": [
       "\"output_csv/singapore_schools.csv\""
      ]
     },
     "metadata": {},
     "output_type": "display_data"
    }
   ],
   "source": [
    "using CSV\n",
    "CSV.write(\"output_csv/singapore_schools.csv\", singapore_school_df)"
   ]
  },
  {
   "cell_type": "markdown",
   "metadata": {},
   "source": [
    "### Remarks\n",
    "This research was funded in whole or in part by [National Science Centre,  Poland][2021/41/B/HS4/03349]. For the software’s  documentation for the purpose of Open Access, the author has applied a CC-BY public copyright licence to any Author Accepted Manuscript (AAM) version arising from this submission."
   ]
  }
 ],
 "metadata": {
  "kernelspec": {
   "display_name": "Julia 1.7.3",
   "language": "julia",
   "name": "julia-1.7"
  },
  "language_info": {
   "file_extension": ".jl",
   "mimetype": "application/julia",
   "name": "julia",
   "version": "1.7.3"
  },
  "orig_nbformat": 4
 },
 "nbformat": 4,
 "nbformat_minor": 2
}
