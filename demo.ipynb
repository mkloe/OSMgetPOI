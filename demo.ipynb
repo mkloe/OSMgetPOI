{
 "cells": [
  {
   "cell_type": "markdown",
   "metadata": {},
   "source": [
    "### OSMGetPOI.jl Tutorial\n",
    "Full documentation: https://github.com/mkloe/OSMgetPOI"
   ]
  },
  {
   "cell_type": "code",
   "execution_count": 1,
   "metadata": {},
   "outputs": [],
   "source": [
    "using OSMgetPOI"
   ]
  },
  {
   "cell_type": "markdown",
   "metadata": {},
   "source": [
    "### 1. Download .osm data file\n",
    "1. Go to https://download.bbbike.org/osm/bbbike/ and select a city.\n",
    "2. Download the file for a selected city in *OSM XML gzip'd* format.\n",
    "3. Save the file to /datasets repository.\n",
    "\n",
    "In the future, we'll also add a functionality to download .osm file via API."
   ]
  },
  {
   "cell_type": "markdown",
   "metadata": {},
   "source": [
    "### 2. Configure POI types"
   ]
  },
  {
   "cell_type": "markdown",
   "metadata": {},
   "source": [
    "1. Create a config.json file which describes the types of POIs that you want to extract.\n",
    "    - Note: For this simple tutorial, we'll be only extracting schools.\n",
    "    - The documentation describes queries for 25 proposed primary_types and subtypes.\n",
    "    - To extract all proposed 25 POI types, use the POI_config.json file from /datasets directory.\n",
    "\n",
    "The tutorial_config.json file look be as follows:\n",
    "\n",
    "```\n",
    "[\n",
    "    {\n",
    "        \"primary_type\": \"education\",\n",
    "        \"subtypes\":\n",
    "            {\n",
    "                \"subtype\": \"school\",\n",
    "                \"query\": \"--keep= \\\" amenity=school =music_school =language_school \\\"\"\n",
    "            }\n",
    "    }\n",
    "]\n",
    "```"
   ]
  },
  {
   "cell_type": "markdown",
   "metadata": {},
   "source": [
    "### 3. Generate a dataframe \n",
    "Generate a dataframe with the POI types defined in the config file. We only keep these columns that have over 30% of non-missing values (default argument of the function)."
   ]
  },
  {
   "cell_type": "code",
   "execution_count": 2,
   "metadata": {},
   "outputs": [
    {
     "name": "stdout",
     "output_type": "stream",
     "text": [
      "Process_time: 2.30067325"
     ]
    },
    {
     "name": "stdout",
     "output_type": "stream",
     "text": [
      "\n"
     ]
    },
    {
     "data": {
      "text/html": [
       "<div><div style = \"float: left;\"><span>759×13 DataFrame</span></div><div style = \"float: right;\"><span style = \"font-style: italic;\">734 rows omitted</span></div><div style = \"clear: both;\"></div></div><div class = \"data-frame\" style = \"overflow-x: scroll;\"><table class = \"data-frame\" style = \"margin-bottom: 6px;\"><thead><tr class = \"header\"><th class = \"rowNumber\" style = \"font-weight: bold; text-align: right;\">Row</th><th style = \"text-align: left;\">primary_type</th><th style = \"text-align: left;\">subtype</th><th style = \"text-align: left;\">lat</th><th style = \"text-align: left;\">lon</th><th style = \"text-align: left;\">amenity</th><th style = \"text-align: left;\">name</th><th style = \"text-align: left;\">addr:country</th><th style = \"text-align: left;\">addr:city</th><th style = \"text-align: left;\">addr:street</th><th style = \"text-align: left;\">addr:postcode</th><th style = \"text-align: left;\">name:zh</th><th style = \"text-align: left;\">school</th><th style = \"text-align: left;\">addr:housenumber</th></tr><tr class = \"subheader headerLastRow\"><th class = \"rowNumber\" style = \"font-weight: bold; text-align: right;\"></th><th title = \"Any\" style = \"text-align: left;\">Any</th><th title = \"Any\" style = \"text-align: left;\">Any</th><th title = \"Any\" style = \"text-align: left;\">Any</th><th title = \"Any\" style = \"text-align: left;\">Any</th><th title = \"Any\" style = \"text-align: left;\">Any</th><th title = \"Any\" style = \"text-align: left;\">Any</th><th title = \"Any\" style = \"text-align: left;\">Any</th><th title = \"Any\" style = \"text-align: left;\">Any</th><th title = \"Any\" style = \"text-align: left;\">Any</th><th title = \"Any\" style = \"text-align: left;\">Any</th><th title = \"Any\" style = \"text-align: left;\">Any</th><th title = \"Any\" style = \"text-align: left;\">Any</th><th title = \"Any\" style = \"text-align: left;\">Any</th></tr></thead><tbody><tr><td class = \"rowNumber\" style = \"font-weight: bold; text-align: right;\">1</td><td style = \"text-align: left;\">education</td><td style = \"text-align: left;\">school</td><td style = \"text-align: left;\">1.2885</td><td style = \"text-align: left;\">103.809</td><td style = \"text-align: left;\">school</td><td style = \"font-style: italic; text-align: left;\">missing</td><td style = \"font-style: italic; text-align: left;\">missing</td><td style = \"font-style: italic; text-align: left;\">missing</td><td style = \"font-style: italic; text-align: left;\">missing</td><td style = \"font-style: italic; text-align: left;\">missing</td><td style = \"font-style: italic; text-align: left;\">missing</td><td style = \"font-style: italic; text-align: left;\">missing</td><td style = \"font-style: italic; text-align: left;\">missing</td></tr><tr><td class = \"rowNumber\" style = \"font-weight: bold; text-align: right;\">2</td><td style = \"text-align: left;\">education</td><td style = \"text-align: left;\">school</td><td style = \"text-align: left;\">1.35807</td><td style = \"text-align: left;\">103.863</td><td style = \"text-align: left;\">school</td><td style = \"text-align: left;\">CHIJ (Our Lady of Good Counsel) Primary School</td><td style = \"text-align: left;\">SG</td><td style = \"text-align: left;\">Singapore</td><td style = \"text-align: left;\">Burghley Drive</td><td style = \"text-align: left;\">558979</td><td style = \"text-align: left;\">圣婴女子小学(良言)</td><td style = \"text-align: left;\">primary</td><td style = \"text-align: left;\">2C</td></tr><tr><td class = \"rowNumber\" style = \"font-weight: bold; text-align: right;\">3</td><td style = \"text-align: left;\">education</td><td style = \"text-align: left;\">school</td><td style = \"text-align: left;\">1.34786</td><td style = \"text-align: left;\">103.718</td><td style = \"text-align: left;\">school</td><td style = \"font-style: italic; text-align: left;\">missing</td><td style = \"font-style: italic; text-align: left;\">missing</td><td style = \"font-style: italic; text-align: left;\">missing</td><td style = \"font-style: italic; text-align: left;\">missing</td><td style = \"font-style: italic; text-align: left;\">missing</td><td style = \"font-style: italic; text-align: left;\">missing</td><td style = \"font-style: italic; text-align: left;\">missing</td><td style = \"font-style: italic; text-align: left;\">missing</td></tr><tr><td class = \"rowNumber\" style = \"font-weight: bold; text-align: right;\">4</td><td style = \"text-align: left;\">education</td><td style = \"text-align: left;\">school</td><td style = \"text-align: left;\">1.36277</td><td style = \"text-align: left;\">103.887</td><td style = \"text-align: left;\">school</td><td style = \"text-align: left;\">Pat&apos;s Schoolhouse</td><td style = \"font-style: italic; text-align: left;\">missing</td><td style = \"font-style: italic; text-align: left;\">missing</td><td style = \"text-align: left;\">Lim Ah Pin Road</td><td style = \"font-style: italic; text-align: left;\">missing</td><td style = \"font-style: italic; text-align: left;\">missing</td><td style = \"font-style: italic; text-align: left;\">missing</td><td style = \"text-align: left;\">2C</td></tr><tr><td class = \"rowNumber\" style = \"font-weight: bold; text-align: right;\">5</td><td style = \"text-align: left;\">education</td><td style = \"text-align: left;\">school</td><td style = \"text-align: left;\">1.28917</td><td style = \"text-align: left;\">103.847</td><td style = \"text-align: left;\">music_school</td><td style = \"text-align: left;\">Music Lifestyle</td><td style = \"font-style: italic; text-align: left;\">missing</td><td style = \"font-style: italic; text-align: left;\">missing</td><td style = \"font-style: italic; text-align: left;\">missing</td><td style = \"font-style: italic; text-align: left;\">missing</td><td style = \"font-style: italic; text-align: left;\">missing</td><td style = \"font-style: italic; text-align: left;\">missing</td><td style = \"font-style: italic; text-align: left;\">missing</td></tr><tr><td class = \"rowNumber\" style = \"font-weight: bold; text-align: right;\">6</td><td style = \"text-align: left;\">education</td><td style = \"text-align: left;\">school</td><td style = \"text-align: left;\">1.37334</td><td style = \"text-align: left;\">103.956</td><td style = \"text-align: left;\">school</td><td style = \"text-align: left;\">Casuarina Primary School</td><td style = \"text-align: left;\">SG</td><td style = \"text-align: left;\">Singapore</td><td style = \"text-align: left;\">Pasir Ris Street 41</td><td style = \"text-align: left;\">518935</td><td style = \"text-align: left;\">康岭小学</td><td style = \"text-align: left;\">primary</td><td style = \"text-align: left;\">30</td></tr><tr><td class = \"rowNumber\" style = \"font-weight: bold; text-align: right;\">7</td><td style = \"text-align: left;\">education</td><td style = \"text-align: left;\">school</td><td style = \"text-align: left;\">1.2757</td><td style = \"text-align: left;\">103.827</td><td style = \"text-align: left;\">school</td><td style = \"text-align: left;\">CHIJ (Kellock) Primary School</td><td style = \"text-align: left;\">SG</td><td style = \"text-align: left;\">Singapore</td><td style = \"text-align: left;\">Bukit Teresa Road</td><td style = \"text-align: left;\">099757</td><td style = \"text-align: left;\">圣婴女校(客洛)</td><td style = \"text-align: left;\">primary</td><td style = \"text-align: left;\">1</td></tr><tr><td class = \"rowNumber\" style = \"font-weight: bold; text-align: right;\">8</td><td style = \"text-align: left;\">education</td><td style = \"text-align: left;\">school</td><td style = \"text-align: left;\">1.30853</td><td style = \"text-align: left;\">103.895</td><td style = \"text-align: left;\">school</td><td style = \"text-align: left;\">Tanjong Katong Girls&apos; School</td><td style = \"text-align: left;\">SG</td><td style = \"text-align: left;\">Singapore</td><td style = \"text-align: left;\">Dunman Road</td><td style = \"text-align: left;\">439272</td><td style = \"text-align: left;\">丹绒加东女校</td><td style = \"text-align: left;\">secondary</td><td style = \"text-align: left;\">20</td></tr><tr><td class = \"rowNumber\" style = \"font-weight: bold; text-align: right;\">9</td><td style = \"text-align: left;\">education</td><td style = \"text-align: left;\">school</td><td style = \"text-align: left;\">1.31686</td><td style = \"text-align: left;\">103.918</td><td style = \"text-align: left;\">school</td><td style = \"text-align: left;\">Bethesda Kindergarten</td><td style = \"font-style: italic; text-align: left;\">missing</td><td style = \"font-style: italic; text-align: left;\">missing</td><td style = \"text-align: left;\">Frankel Avenue</td><td style = \"font-style: italic; text-align: left;\">missing</td><td style = \"font-style: italic; text-align: left;\">missing</td><td style = \"font-style: italic; text-align: left;\">missing</td><td style = \"font-style: italic; text-align: left;\">missing</td></tr><tr><td class = \"rowNumber\" style = \"font-weight: bold; text-align: right;\">10</td><td style = \"text-align: left;\">education</td><td style = \"text-align: left;\">school</td><td style = \"text-align: left;\">1.43523</td><td style = \"text-align: left;\">103.903</td><td style = \"text-align: left;\">school</td><td style = \"text-align: left;\">MSTS Training Centre</td><td style = \"font-style: italic; text-align: left;\">missing</td><td style = \"font-style: italic; text-align: left;\">missing</td><td style = \"font-style: italic; text-align: left;\">missing</td><td style = \"font-style: italic; text-align: left;\">missing</td><td style = \"font-style: italic; text-align: left;\">missing</td><td style = \"font-style: italic; text-align: left;\">missing</td><td style = \"font-style: italic; text-align: left;\">missing</td></tr><tr><td class = \"rowNumber\" style = \"font-weight: bold; text-align: right;\">11</td><td style = \"text-align: left;\">education</td><td style = \"text-align: left;\">school</td><td style = \"text-align: left;\">1.30903</td><td style = \"text-align: left;\">103.837</td><td style = \"text-align: left;\">school</td><td style = \"text-align: left;\">Ministry Of Education Language Centre (Newton)</td><td style = \"font-style: italic; text-align: left;\">missing</td><td style = \"font-style: italic; text-align: left;\">missing</td><td style = \"font-style: italic; text-align: left;\">missing</td><td style = \"font-style: italic; text-align: left;\">missing</td><td style = \"font-style: italic; text-align: left;\">missing</td><td style = \"font-style: italic; text-align: left;\">missing</td><td style = \"font-style: italic; text-align: left;\">missing</td></tr><tr><td class = \"rowNumber\" style = \"font-weight: bold; text-align: right;\">12</td><td style = \"text-align: left;\">education</td><td style = \"text-align: left;\">school</td><td style = \"text-align: left;\">1.35073</td><td style = \"text-align: left;\">103.849</td><td style = \"text-align: left;\">music_school</td><td style = \"text-align: left;\">Cristofori Music School</td><td style = \"font-style: italic; text-align: left;\">missing</td><td style = \"font-style: italic; text-align: left;\">missing</td><td style = \"font-style: italic; text-align: left;\">missing</td><td style = \"font-style: italic; text-align: left;\">missing</td><td style = \"text-align: left;\">歌德音乐学校</td><td style = \"font-style: italic; text-align: left;\">missing</td><td style = \"font-style: italic; text-align: left;\">missing</td></tr><tr><td class = \"rowNumber\" style = \"font-weight: bold; text-align: right;\">13</td><td style = \"text-align: left;\">education</td><td style = \"text-align: left;\">school</td><td style = \"text-align: left;\">1.46661</td><td style = \"text-align: left;\">103.738</td><td style = \"text-align: left;\">school</td><td style = \"text-align: left;\">Sekolah Rendah Islam Al-Akhyar</td><td style = \"font-style: italic; text-align: left;\">missing</td><td style = \"font-style: italic; text-align: left;\">missing</td><td style = \"font-style: italic; text-align: left;\">missing</td><td style = \"font-style: italic; text-align: left;\">missing</td><td style = \"font-style: italic; text-align: left;\">missing</td><td style = \"font-style: italic; text-align: left;\">missing</td><td style = \"font-style: italic; text-align: left;\">missing</td></tr><tr><td style = \"text-align: right;\">&vellip;</td><td style = \"text-align: right;\">&vellip;</td><td style = \"text-align: right;\">&vellip;</td><td style = \"text-align: right;\">&vellip;</td><td style = \"text-align: right;\">&vellip;</td><td style = \"text-align: right;\">&vellip;</td><td style = \"text-align: right;\">&vellip;</td><td style = \"text-align: right;\">&vellip;</td><td style = \"text-align: right;\">&vellip;</td><td style = \"text-align: right;\">&vellip;</td><td style = \"text-align: right;\">&vellip;</td><td style = \"text-align: right;\">&vellip;</td><td style = \"text-align: right;\">&vellip;</td><td style = \"text-align: right;\">&vellip;</td></tr><tr><td class = \"rowNumber\" style = \"font-weight: bold; text-align: right;\">748</td><td style = \"text-align: left;\">education</td><td style = \"text-align: left;\">school</td><td style = \"text-align: left;\">1.3846</td><td style = \"text-align: left;\">103.753</td><td style = \"text-align: left;\">school</td><td style = \"text-align: left;\">Teck Whye Primary School</td><td style = \"text-align: left;\">SG</td><td style = \"text-align: left;\">Singapore</td><td style = \"text-align: left;\">Teck Whye Walk</td><td style = \"text-align: left;\">688261</td><td style = \"text-align: left;\">德惠小学</td><td style = \"text-align: left;\">primary</td><td style = \"text-align: left;\">11</td></tr><tr><td class = \"rowNumber\" style = \"font-weight: bold; text-align: right;\">749</td><td style = \"text-align: left;\">education</td><td style = \"text-align: left;\">school</td><td style = \"text-align: left;\">1.42141</td><td style = \"text-align: left;\">103.84</td><td style = \"text-align: left;\">school</td><td style = \"text-align: left;\">Northland Primary School</td><td style = \"text-align: left;\">SG</td><td style = \"text-align: left;\">Singapore</td><td style = \"text-align: left;\">Yishun Avenue 4</td><td style = \"text-align: left;\">769026</td><td style = \"text-align: left;\">新华小学</td><td style = \"text-align: left;\">primary</td><td style = \"text-align: left;\">15</td></tr><tr><td class = \"rowNumber\" style = \"font-weight: bold; text-align: right;\">750</td><td style = \"text-align: left;\">education</td><td style = \"text-align: left;\">school</td><td style = \"text-align: left;\">1.43729</td><td style = \"text-align: left;\">103.8</td><td style = \"font-style: italic; text-align: left;\">school</td><td style = \"font-style: italic; text-align: left;\">Woodlands Ring Secondary School</td><td style = \"font-style: italic; text-align: left;\">SG</td><td style = \"font-style: italic; text-align: left;\">Singapore</td><td style = \"font-style: italic; text-align: left;\">Woodlands Ring Road</td><td style = \"font-style: italic; text-align: left;\">738239</td><td style = \"font-style: italic; text-align: left;\">辅廉中学</td><td style = \"font-style: italic; text-align: left;\">secondary</td><td style = \"font-style: italic; text-align: left;\">10</td></tr><tr><td class = \"rowNumber\" style = \"font-weight: bold; text-align: right;\">751</td><td style = \"text-align: left;\">education</td><td style = \"text-align: left;\">school</td><td style = \"text-align: left;\">1.35126</td><td style = \"text-align: left;\">103.742</td><td style = \"text-align: left;\">school</td><td style = \"text-align: left;\">Eden School</td><td style = \"text-align: left;\">SG</td><td style = \"text-align: left;\">Singapore</td><td style = \"text-align: left;\">Bukit Batok West Avenue 3</td><td style = \"text-align: left;\">659168</td><td style = \"text-align: left;\">missing</td><td style = \"text-align: left;\">missing</td><td style = \"text-align: left;\">101</td></tr><tr><td class = \"rowNumber\" style = \"font-weight: bold; text-align: right;\">752</td><td style = \"text-align: left;\">education</td><td style = \"text-align: left;\">school</td><td style = \"text-align: left;\">1.37577</td><td style = \"text-align: left;\">103.763</td><td style = \"text-align: left;\">school</td><td style = \"text-align: left;\">Fajar Secondary School</td><td style = \"text-align: left;\">SG</td><td style = \"text-align: left;\">Singapore</td><td style = \"text-align: left;\">Gangsa Road</td><td style = \"text-align: left;\">678972</td><td style = \"text-align: left;\">励进中学</td><td style = \"text-align: left;\">secondary</td><td style = \"text-align: left;\">31</td></tr><tr><td class = \"rowNumber\" style = \"font-weight: bold; text-align: right;\">753</td><td style = \"text-align: left;\">education</td><td style = \"text-align: left;\">school</td><td style = \"text-align: left;\">1.45426</td><td style = \"text-align: left;\">103.813</td><td style = \"font-style: italic; text-align: left;\">school</td><td style = \"font-style: italic; text-align: left;\">Canberra Secondary School</td><td style = \"font-style: italic; text-align: left;\">SG</td><td style = \"font-style: italic; text-align: left;\">Singapore</td><td style = \"font-style: italic; text-align: left;\">Sembawang Drive</td><td style = \"font-style: italic; text-align: left;\">757699</td><td style = \"font-style: italic; text-align: left;\">康培中学</td><td style = \"font-style: italic; text-align: left;\">secondary</td><td style = \"font-style: italic; text-align: left;\">51</td></tr><tr><td class = \"rowNumber\" style = \"font-weight: bold; text-align: right;\">754</td><td style = \"text-align: left;\">education</td><td style = \"text-align: left;\">school</td><td style = \"text-align: left;\">1.30581</td><td style = \"text-align: left;\">103.917</td><td style = \"text-align: left;\">school</td><td style = \"text-align: left;\">Ngee Ann Primary School</td><td style = \"text-align: left;\">SG</td><td style = \"text-align: left;\">Singapore</td><td style = \"text-align: left;\">Marine Terrace</td><td style = \"text-align: left;\">449149</td><td style = \"text-align: left;\">义安小学</td><td style = \"text-align: left;\">primary</td><td style = \"text-align: left;\">344</td></tr><tr><td class = \"rowNumber\" style = \"font-weight: bold; text-align: right;\">755</td><td style = \"text-align: left;\">education</td><td style = \"text-align: left;\">school</td><td style = \"text-align: left;\">1.30247</td><td style = \"text-align: left;\">103.772</td><td style = \"text-align: left;\">music_school</td><td style = \"text-align: left;\">Yong Siew Toh Conservatory of Music</td><td style = \"font-style: italic; text-align: left;\">missing</td><td style = \"font-style: italic; text-align: left;\">missing</td><td style = \"font-style: italic; text-align: left;\">missing</td><td style = \"font-style: italic; text-align: left;\">missing</td><td style = \"font-style: italic; text-align: left;\">missing</td><td style = \"font-style: italic; text-align: left;\">missing</td><td style = \"font-style: italic; text-align: left;\">missing</td></tr><tr><td class = \"rowNumber\" style = \"font-weight: bold; text-align: right;\">756</td><td style = \"text-align: left;\">education</td><td style = \"text-align: left;\">school</td><td style = \"text-align: left;\">1.32871</td><td style = \"text-align: left;\">103.901</td><td style = \"text-align: left;\">school</td><td style = \"text-align: left;\">Maha Bodhi School</td><td style = \"text-align: left;\">SG</td><td style = \"text-align: left;\">Singapore</td><td style = \"text-align: left;\">Ubi Avenue 1</td><td style = \"text-align: left;\">408931</td><td style = \"font-style: italic; text-align: left;\">菩提学校</td><td style = \"font-style: italic; text-align: left;\">primary</td><td style = \"text-align: left;\">10</td></tr><tr><td class = \"rowNumber\" style = \"font-weight: bold; text-align: right;\">757</td><td style = \"text-align: left;\">education</td><td style = \"text-align: left;\">school</td><td style = \"text-align: left;\">1.2966</td><td style = \"text-align: left;\">103.794</td><td style = \"text-align: left;\">missing</td><td style = \"text-align: left;\">Gate A</td><td style = \"text-align: left;\">missing</td><td style = \"text-align: left;\">missing</td><td style = \"text-align: left;\">missing</td><td style = \"text-align: left;\">missing</td><td style = \"text-align: left;\">missing</td><td style = \"text-align: left;\">missing</td><td style = \"text-align: left;\">missing</td></tr><tr><td class = \"rowNumber\" style = \"font-weight: bold; text-align: right;\">758</td><td style = \"text-align: left;\">education</td><td style = \"text-align: left;\">school</td><td style = \"text-align: left;\">1.31054</td><td style = \"text-align: left;\">103.757</td><td style = \"text-align: left;\">school</td><td style = \"text-align: left;\">Tanglin Secondary School</td><td style = \"font-style: italic; text-align: left;\">SG</td><td style = \"text-align: left;\">Singapore</td><td style = \"text-align: left;\">West Coast Road</td><td style = \"text-align: left;\">127391</td><td style = \"font-style: italic; text-align: left;\">东林中学</td><td style = \"font-style: italic; text-align: left;\">secondary</td><td style = \"text-align: left;\">301</td></tr><tr><td class = \"rowNumber\" style = \"font-weight: bold; text-align: right;\">759</td><td style = \"text-align: left;\">education</td><td style = \"text-align: left;\">school</td><td style = \"text-align: left;\">1.31901</td><td style = \"text-align: left;\">103.917</td><td style = \"text-align: left;\">school</td><td style = \"text-align: left;\">St. Stephen&apos;s School</td><td style = \"text-align: left;\">SG</td><td style = \"text-align: left;\">Singapore</td><td style = \"text-align: left;\">Siglap View</td><td style = \"text-align: left;\">455789</td><td style = \"text-align: left;\">聖斯德望学校</td><td style = \"text-align: left;\">primary</td><td style = \"text-align: left;\">20</td></tr></tbody></table></div>"
      ],
      "text/latex": [
       "\\begin{tabular}{r|ccccccc}\n",
       "\t& primary\\_type & subtype & lat & lon & amenity & name & \\\\\n",
       "\t\\hline\n",
       "\t& Any & Any & Any & Any & Any & Any & \\\\\n",
       "\t\\hline\n",
       "\t1 & education & school & 1.2885 & 103.809 & school & \\emph{missing} & $\\dots$ \\\\\n",
       "\t2 & education & school & 1.35807 & 103.863 & school & CHIJ (Our Lady of Good Counsel) Primary School & $\\dots$ \\\\\n",
       "\t3 & education & school & 1.34786 & 103.718 & school & \\emph{missing} & $\\dots$ \\\\\n",
       "\t4 & education & school & 1.36277 & 103.887 & school & Pat's Schoolhouse & $\\dots$ \\\\\n",
       "\t5 & education & school & 1.28917 & 103.847 & music\\_school & Music Lifestyle & $\\dots$ \\\\\n",
       "\t6 & education & school & 1.37334 & 103.956 & school & Casuarina Primary School & $\\dots$ \\\\\n",
       "\t7 & education & school & 1.2757 & 103.827 & school & CHIJ (Kellock) Primary School & $\\dots$ \\\\\n",
       "\t8 & education & school & 1.30853 & 103.895 & school & Tanjong Katong Girls' School & $\\dots$ \\\\\n",
       "\t9 & education & school & 1.31686 & 103.918 & school & Bethesda Kindergarten & $\\dots$ \\\\\n",
       "\t10 & education & school & 1.43523 & 103.903 & school & MSTS Training Centre & $\\dots$ \\\\\n",
       "\t11 & education & school & 1.30903 & 103.837 & school & Ministry Of Education Language Centre (Newton) & $\\dots$ \\\\\n",
       "\t12 & education & school & 1.35073 & 103.849 & music\\_school & Cristofori Music School & $\\dots$ \\\\\n",
       "\t13 & education & school & 1.46661 & 103.738 & school & Sekolah Rendah Islam Al-Akhyar & $\\dots$ \\\\\n",
       "\t14 & education & school & 1.44552 & 103.82 & school & Sembawang Primary School & $\\dots$ \\\\\n",
       "\t15 & education & school & 1.32825 & 103.903 & school & Manjusri Secondary School & $\\dots$ \\\\\n",
       "\t16 & education & school & 1.34767 & 103.718 & \\emph{missing} & \\emph{missing} & $\\dots$ \\\\\n",
       "\t17 & education & school & 1.36862 & 103.962 & school & Greenview Secondary School & $\\dots$ \\\\\n",
       "\t18 & education & school & 1.34306 & 103.759 & school & Former Yusof Ishak Secondary School & $\\dots$ \\\\\n",
       "\t19 & education & school & 1.38055 & 103.769 & \\emph{missing} & \\emph{missing} & $\\dots$ \\\\\n",
       "\t20 & education & school & 1.42822 & 103.848 & school & North View Primary School & $\\dots$ \\\\\n",
       "\t21 & education & school & 1.39311 & 103.896 & school & Dyslexia Association Of Singapore Sengkang Learning Centre & $\\dots$ \\\\\n",
       "\t22 & education & school & 1.34589 & 103.722 & school & Yuhua Secondary School & $\\dots$ \\\\\n",
       "\t23 & education & school & 1.37385 & 103.954 & school & Hai Sing Catholic School & $\\dots$ \\\\\n",
       "\t24 & education & school & 1.40433 & 103.91 & school & Oasis Primary School & $\\dots$ \\\\\n",
       "\t$\\dots$ & $\\dots$ & $\\dots$ & $\\dots$ & $\\dots$ & $\\dots$ & $\\dots$ &  \\\\\n",
       "\\end{tabular}\n"
      ],
      "text/plain": [
       "\u001b[1m759×13 DataFrame\u001b[0m\n",
       "\u001b[1m Row \u001b[0m│\u001b[1m primary_type \u001b[0m\u001b[1m subtype \u001b[0m\u001b[1m lat     \u001b[0m\u001b[1m lon     \u001b[0m\u001b[1m amenity      \u001b[0m\u001b[1m name            \u001b[0m ⋯\n",
       "     │\u001b[90m Any          \u001b[0m\u001b[90m Any     \u001b[0m\u001b[90m Any     \u001b[0m\u001b[90m Any     \u001b[0m\u001b[90m Any          \u001b[0m\u001b[90m Any             \u001b[0m ⋯\n",
       "─────┼──────────────────────────────────────────────────────────────────────────\n",
       "   1 │ education     school   1.2885   103.809  school       \u001b[90m missing         \u001b[0m ⋯\n",
       "   2 │ education     school   1.35807  103.863  school        CHIJ (Our Lady o\n",
       "   3 │ education     school   1.34786  103.718  school       \u001b[90m missing         \u001b[0m\n",
       "   4 │ education     school   1.36277  103.887  school        Pat's Schoolhous\n",
       "   5 │ education     school   1.28917  103.847  music_school  Music Lifestyle  ⋯\n",
       "   6 │ education     school   1.37334  103.956  school        Casuarina Primar\n",
       "   7 │ education     school   1.2757   103.827  school        CHIJ (Kellock) P\n",
       "   8 │ education     school   1.30853  103.895  school        Tanjong Katong G\n",
       "  ⋮  │      ⋮           ⋮        ⋮        ⋮          ⋮                         ⋱\n",
       " 753 │ education     school   1.45426  103.813  school        Canberra Seconda ⋯\n",
       " 754 │ education     school   1.30581  103.917  school        Ngee Ann Primary\n",
       " 755 │ education     school   1.30247  103.772  music_school  Yong Siew Toh Co\n",
       " 756 │ education     school   1.32871  103.901  school        Maha Bodhi Schoo\n",
       " 757 │ education     school   1.2966   103.794 \u001b[90m missing      \u001b[0m Gate A           ⋯\n",
       " 758 │ education     school   1.31054  103.757  school        Tanglin Secondar\n",
       " 759 │ education     school   1.31901  103.917  school        St. Stephen's Sc\n",
       "\u001b[36m                                                  8 columns and 744 rows omitted\u001b[0m"
      ]
     },
     "metadata": {},
     "output_type": "display_data"
    }
   ],
   "source": [
    "singapore_school_df = create_df_from_osm_file(\"Singapore.osm\", directory = \"datasets\", poi_config = \"tutorial_config.json\")"
   ]
  },
  {
   "cell_type": "markdown",
   "metadata": {},
   "source": [
    "### 4. Save the results to a .csv file."
   ]
  },
  {
   "cell_type": "code",
   "execution_count": 4,
   "metadata": {},
   "outputs": [
    {
     "data": {
      "text/plain": [
       "\"output_csv/singapore_schools.csv\""
      ]
     },
     "metadata": {},
     "output_type": "display_data"
    }
   ],
   "source": [
    "using CSV\n",
    "CSV.write(\"output_csv/singapore_schools.csv\", singapore_school_df)"
   ]
  },
  {
   "cell_type": "markdown",
   "metadata": {},
   "source": [
    "### Remarks\n",
    "This research was funded in whole or in part by [National Science Centre,  Poland][2021/41/B/HS4/03349]. For the software’s  documentation for the purpose of Open Access, the author has applied a CC-BY public copyright licence to any Author Accepted Manuscript (AAM) version arising from this submission."
   ]
  }
 ],
 "metadata": {
  "kernelspec": {
   "display_name": "Julia 1.7.3",
   "language": "julia",
   "name": "julia-1.7"
  },
  "language_info": {
   "file_extension": ".jl",
   "mimetype": "application/julia",
   "name": "julia",
   "version": "1.7.3"
  },
  "orig_nbformat": 4
 },
 "nbformat": 4,
 "nbformat_minor": 2
}
