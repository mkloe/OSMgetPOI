{
 "cells": [
  {
   "cell_type": "markdown",
   "metadata": {},
   "source": [
    "### OSMGetPOI.jl Tutorial\n",
    "Full documentation: https://github.com/mkloe/OSMgetPOI"
   ]
  },
  {
   "cell_type": "code",
   "execution_count": 4,
   "metadata": {},
   "outputs": [],
   "source": [
    "using OSMgetPOI"
   ]
  },
  {
   "cell_type": "markdown",
   "metadata": {},
   "source": [
    "### 1. Download .osm data file\n",
    "- Downloading from Geofabrik\n",
    "    1. Go to https://download.bbbike.org/osm/bbbike/ and select a city.\n",
    "    2. Copy URL of *OSM XML gzip'd* file (exemplary URL: https://download.bbbike.org/osm/bbbike/Corsica/Corsica.osm.gz)\n",
    "- Downloading from BBBike\n",
    "    1. Go to https://download.geofabrik.de/index.html and select a city or region.\n",
    "    2. Get URL of *.osm.bz2* file (examplary URL: https://download.geofabrik.de/asia/maldives-latest.osm.bz2)\n"
   ]
  },
  {
   "cell_type": "markdown",
   "metadata": {},
   "source": [
    "Downloading file from BBBike"
   ]
  },
  {
   "cell_type": "code",
   "execution_count": 2,
   "metadata": {},
   "outputs": [
    {
     "name": "stdout",
     "output_type": "stream",
     "text": [
      "Downloading file... \n"
     ]
    },
    {
     "name": "stdout",
     "output_type": "stream",
     "text": [
      "File downloaded. Unzipping file...\n",
      "File saved at "
     ]
    },
    {
     "name": "stdout",
     "output_type": "stream",
     "text": [
      "datasets/file.osm"
     ]
    }
   ],
   "source": [
    "download_bbbike_file(\"https://download.bbbike.org/osm/bbbike/UlanBator/UlanBator.osm.gz\")"
   ]
  },
  {
   "cell_type": "markdown",
   "metadata": {},
   "source": [
    "Downloading file from Geofabrik"
   ]
  },
  {
   "cell_type": "code",
   "execution_count": 3,
   "metadata": {},
   "outputs": [
    {
     "name": "stdout",
     "output_type": "stream",
     "text": [
      "Downloading file... \n"
     ]
    },
    {
     "name": "stdout",
     "output_type": "stream",
     "text": [
      "File downloaded. Unzipping file...\n",
      "File saved at "
     ]
    },
    {
     "name": "stdout",
     "output_type": "stream",
     "text": [
      "datasets/file.osm"
     ]
    }
   ],
   "source": [
    "download_geofabrik_file(\"https://download.geofabrik.de/asia/bhutan-latest.osm.bz2\")"
   ]
  },
  {
   "cell_type": "code",
   "execution_count": null,
   "metadata": {},
   "outputs": [],
   "source": [
    "#Improvementy:\n",
    "#Zrownoleglenie funckji map - do poszukania\n",
    "#przemyslec liste kolumn:\n",
    "##przemyslec liste kolumn\n",
    "###dane adresowe: addr:housenumber\taddr:street\taddr:postcode addr:country\n",
    "#dwa parametry get_poi_df: threshold = 0.0 (nie zwraca nic) oraz columns = [addr:housenumber addr:street addr:postcode addr:country]\n",
    "\n",
    "#sprawdzic funkcje intersect dla delete_duplicated_elements!\n",
    "\n",
    "\n",
    "function get_poi_df(osm_filename::String, threshold::Union{Float64, AbstractVector{<:AbstractString}} = 0.3, poitypes::POITypes.POIType...)::DataFrame\n",
    "    processed_poi_vectors = generate_poi_vectors(osm_filename, poitypes...)\n",
    "    poi_df = create_poi_df(processed_poi_vectors, threshold)\n",
    "    return poi_df\n",
    "end"
   ]
  },
  {
   "cell_type": "markdown",
   "metadata": {},
   "source": [
    "### 2. Generate a dataframe \n",
    "Generate a dataframe with the POI types defined in the parameters, based on `src/POITypes`. We only keep these columns that have over 30% of non-missing values. More information about the supported POI types by this API is provided in the documentation."
   ]
  },
  {
   "cell_type": "code",
   "execution_count": 26,
   "metadata": {},
   "outputs": [
    {
     "name": "stdout",
     "output_type": "stream",
     "text": [
      "OSM filter process time: 51.693032833\n"
     ]
    },
    {
     "data": {
      "text/html": [
       "<div><div style = \"float: left;\"><span>225×6 DataFrame</span></div><div style = \"float: right;\"><span style = \"font-style: italic;\">200 rows omitted</span></div><div style = \"clear: both;\"></div></div><div class = \"data-frame\" style = \"overflow-x: scroll;\"><table class = \"data-frame\" style = \"margin-bottom: 6px;\"><thead><tr class = \"header\"><th class = \"rowNumber\" style = \"font-weight: bold; text-align: right;\">Row</th><th style = \"text-align: left;\">type</th><th style = \"text-align: left;\">lat</th><th style = \"text-align: left;\">lon</th><th style = \"text-align: left;\">leisure</th><th style = \"text-align: left;\">name</th><th style = \"text-align: left;\">sport</th></tr><tr class = \"subheader headerLastRow\"><th class = \"rowNumber\" style = \"font-weight: bold; text-align: right;\"></th><th title = \"Any\" style = \"text-align: left;\">Any</th><th title = \"Any\" style = \"text-align: left;\">Any</th><th title = \"Any\" style = \"text-align: left;\">Any</th><th title = \"Any\" style = \"text-align: left;\">Any</th><th title = \"Any\" style = \"text-align: left;\">Any</th><th title = \"Any\" style = \"text-align: left;\">Any</th></tr></thead><tbody><tr><td class = \"rowNumber\" style = \"font-weight: bold; text-align: right;\">1</td><td style = \"text-align: left;\">leisure_sportsground</td><td style = \"text-align: left;\">27.5136</td><td style = \"text-align: left;\">89.6392</td><td style = \"text-align: left;\">pitch</td><td style = \"text-align: left;\">MP Basketball Court</td><td style = \"text-align: left;\">basketball</td></tr><tr><td class = \"rowNumber\" style = \"font-weight: bold; text-align: right;\">2</td><td style = \"text-align: left;\">leisure_sportsground</td><td style = \"text-align: left;\">27.4755</td><td style = \"text-align: left;\">89.6363</td><td style = \"text-align: left;\">track</td><td style = \"text-align: left;\">yy</td><td style = \"text-align: left;\">dog_racing</td></tr><tr><td class = \"rowNumber\" style = \"font-weight: bold; text-align: right;\">3</td><td style = \"text-align: left;\">leisure_sportsground</td><td style = \"text-align: left;\">27.4977</td><td style = \"text-align: left;\">89.8763</td><td style = \"text-align: left;\">pitch</td><td style = \"text-align: left;\">Football ground</td><td style = \"text-align: left;\">soccer</td></tr><tr><td class = \"rowNumber\" style = \"font-weight: bold; text-align: right;\">4</td><td style = \"text-align: left;\">leisure_sportsground</td><td style = \"text-align: left;\">27.553</td><td style = \"text-align: left;\">89.8723</td><td style = \"text-align: left;\">pitch</td><td style = \"font-style: italic; text-align: left;\">missing</td><td style = \"font-style: italic; text-align: left;\">missing</td></tr><tr><td class = \"rowNumber\" style = \"font-weight: bold; text-align: right;\">5</td><td style = \"text-align: left;\">leisure_sportsground</td><td style = \"text-align: left;\">27.2863</td><td style = \"text-align: left;\">91.5239</td><td style = \"text-align: left;\">pitch</td><td style = \"font-style: italic; text-align: left;\">missing</td><td style = \"text-align: left;\">basketball</td></tr><tr><td class = \"rowNumber\" style = \"font-weight: bold; text-align: right;\">6</td><td style = \"text-align: left;\">leisure_sportsground</td><td style = \"text-align: left;\">27.4839</td><td style = \"text-align: left;\">89.8989</td><td style = \"text-align: left;\">pitch</td><td style = \"font-style: italic; text-align: left;\">missing</td><td style = \"font-style: italic; text-align: left;\">missing</td></tr><tr><td class = \"rowNumber\" style = \"font-weight: bold; text-align: right;\">7</td><td style = \"text-align: left;\">leisure_sportsground</td><td style = \"text-align: left;\">27.1162</td><td style = \"text-align: left;\">88.8739</td><td style = \"text-align: left;\">pitch</td><td style = \"font-style: italic; text-align: left;\">missing</td><td style = \"font-style: italic; text-align: left;\">missing</td></tr><tr><td class = \"rowNumber\" style = \"font-weight: bold; text-align: right;\">8</td><td style = \"text-align: left;\">leisure_sportsground</td><td style = \"text-align: left;\">27.3878</td><td style = \"text-align: left;\">89.2784</td><td style = \"text-align: left;\">stadium</td><td style = \"text-align: left;\">Dzongkhag Football ground</td><td style = \"text-align: left;\">soccer</td></tr><tr><td class = \"rowNumber\" style = \"font-weight: bold; text-align: right;\">9</td><td style = \"text-align: left;\">leisure_sportsground</td><td style = \"text-align: left;\">27.4671</td><td style = \"text-align: left;\">89.6475</td><td style = \"text-align: left;\">pitch</td><td style = \"text-align: left;\">YHSS Basketball Court</td><td style = \"text-align: left;\">basketball</td></tr><tr><td class = \"rowNumber\" style = \"font-weight: bold; text-align: right;\">10</td><td style = \"text-align: left;\">leisure_sportsground</td><td style = \"text-align: left;\">27.4751</td><td style = \"text-align: left;\">89.6318</td><td style = \"text-align: left;\">pitch</td><td style = \"text-align: left;\">Basketball Ground</td><td style = \"text-align: left;\">basketball</td></tr><tr><td class = \"rowNumber\" style = \"font-weight: bold; text-align: right;\">11</td><td style = \"text-align: left;\">leisure_sportsground</td><td style = \"text-align: left;\">27.2854</td><td style = \"text-align: left;\">91.5227</td><td style = \"text-align: left;\">pitch</td><td style = \"font-style: italic; text-align: left;\">missing</td><td style = \"text-align: left;\">tennis</td></tr><tr><td class = \"rowNumber\" style = \"font-weight: bold; text-align: right;\">12</td><td style = \"text-align: left;\">leisure_sportsground</td><td style = \"text-align: left;\">27.5022</td><td style = \"text-align: left;\">89.6343</td><td style = \"text-align: left;\">sports_centre</td><td style = \"text-align: left;\">BoC</td><td style = \"font-style: italic; text-align: left;\">missing</td></tr><tr><td class = \"rowNumber\" style = \"font-weight: bold; text-align: right;\">13</td><td style = \"text-align: left;\">leisure_sportsground</td><td style = \"text-align: left;\">27.4719</td><td style = \"text-align: left;\">89.6334</td><td style = \"text-align: left;\">sports_centre</td><td style = \"text-align: left;\">178 Genyen Lam SW, Chang Genye, Thimphu</td><td style = \"text-align: left;\">gymnastics</td></tr><tr><td style = \"text-align: right;\">&vellip;</td><td style = \"text-align: right;\">&vellip;</td><td style = \"text-align: right;\">&vellip;</td><td style = \"text-align: right;\">&vellip;</td><td style = \"text-align: right;\">&vellip;</td><td style = \"text-align: right;\">&vellip;</td><td style = \"text-align: right;\">&vellip;</td></tr><tr><td class = \"rowNumber\" style = \"font-weight: bold; text-align: right;\">214</td><td style = \"text-align: left;\">leisure_sportsground</td><td style = \"text-align: left;\">27.3509</td><td style = \"text-align: left;\">90.5718</td><td style = \"text-align: left;\">pitch</td><td style = \"text-align: left;\">School Play ground</td><td style = \"text-align: left;\">soccer</td></tr><tr><td class = \"rowNumber\" style = \"font-weight: bold; text-align: right;\">215</td><td style = \"text-align: left;\">leisure_sportsground</td><td style = \"text-align: left;\">26.8579</td><td style = \"text-align: left;\">91.4546</td><td style = \"text-align: left;\">pitch</td><td style = \"text-align: left;\">missing</td><td style = \"text-align: left;\">tennis</td></tr><tr><td class = \"rowNumber\" style = \"font-weight: bold; text-align: right;\">216</td><td style = \"text-align: left;\">leisure_sportsground</td><td style = \"text-align: left;\">27.4871</td><td style = \"text-align: left;\">89.9017</td><td style = \"text-align: left;\">swimming_pool</td><td style = \"text-align: left;\">missing</td><td style = \"text-align: left;\">missing</td></tr><tr><td class = \"rowNumber\" style = \"font-weight: bold; text-align: right;\">217</td><td style = \"text-align: left;\">leisure_sportsground</td><td style = \"text-align: left;\">27.5025</td><td style = \"text-align: left;\">89.8787</td><td style = \"text-align: left;\">sports_centre</td><td style = \"font-style: italic; text-align: left;\">Basketball ground</td><td style = \"font-style: italic; text-align: left;\">basketball</td></tr><tr><td class = \"rowNumber\" style = \"font-weight: bold; text-align: right;\">218</td><td style = \"text-align: left;\">leisure_sportsground</td><td style = \"text-align: left;\">27.3169</td><td style = \"text-align: left;\">91.4361</td><td style = \"text-align: left;\">pitch</td><td style = \"font-style: italic; text-align: left;\">missing</td><td style = \"font-style: italic; text-align: left;\">missing</td></tr><tr><td class = \"rowNumber\" style = \"font-weight: bold; text-align: right;\">219</td><td style = \"text-align: left;\">leisure_sportsground</td><td style = \"text-align: left;\">27.5297</td><td style = \"text-align: left;\">89.6436</td><td style = \"text-align: left;\">pitch</td><td style = \"text-align: left;\">missing</td><td style = \"text-align: left;\">missing</td></tr><tr><td class = \"rowNumber\" style = \"font-weight: bold; text-align: right;\">220</td><td style = \"text-align: left;\">leisure_sportsground</td><td style = \"text-align: left;\">27.4693</td><td style = \"text-align: left;\">89.6441</td><td style = \"text-align: left;\">pitch</td><td style = \"text-align: left;\">new basketball court</td><td style = \"text-align: left;\">basketball</td></tr><tr><td class = \"rowNumber\" style = \"font-weight: bold; text-align: right;\">221</td><td style = \"text-align: left;\">leisure_sportsground</td><td style = \"text-align: left;\">27.4713</td><td style = \"text-align: left;\">89.6337</td><td style = \"text-align: left;\">missing</td><td style = \"text-align: left;\">missing</td><td style = \"text-align: left;\">missing</td></tr><tr><td class = \"rowNumber\" style = \"font-weight: bold; text-align: right;\">222</td><td style = \"text-align: left;\">leisure_sportsground</td><td style = \"text-align: left;\">27.2284</td><td style = \"text-align: left;\">91.1994</td><td style = \"text-align: left;\">pitch</td><td style = \"font-style: italic; text-align: left;\">BOC Football Ground</td><td style = \"text-align: left;\">soccer</td></tr><tr><td class = \"rowNumber\" style = \"font-weight: bold; text-align: right;\">223</td><td style = \"text-align: left;\">leisure_sportsground</td><td style = \"text-align: left;\">27.4455</td><td style = \"text-align: left;\">89.3735</td><td style = \"text-align: left;\">sports_centre</td><td style = \"font-style: italic; text-align: left;\">Archery</td><td style = \"font-style: italic; text-align: left;\">missing</td></tr><tr><td class = \"rowNumber\" style = \"font-weight: bold; text-align: right;\">224</td><td style = \"text-align: left;\">leisure_sportsground</td><td style = \"text-align: left;\">27.473</td><td style = \"text-align: left;\">89.6411</td><td style = \"text-align: left;\">pitch</td><td style = \"font-style: italic; text-align: left;\">missing</td><td style = \"font-style: italic; text-align: left;\">tennis</td></tr><tr><td class = \"rowNumber\" style = \"font-weight: bold; text-align: right;\">225</td><td style = \"text-align: left;\">leisure_sportsground</td><td style = \"text-align: left;\">26.8583</td><td style = \"text-align: left;\">91.4543</td><td style = \"text-align: left;\">pitch</td><td style = \"font-style: italic; text-align: left;\">missing</td><td style = \"font-style: italic; text-align: left;\">basketball</td></tr></tbody></table></div>"
      ],
      "text/latex": [
       "\\begin{tabular}{r|cccccc}\n",
       "\t& type & lat & lon & leisure & name & \\\\\n",
       "\t\\hline\n",
       "\t& Any & Any & Any & Any & Any & \\\\\n",
       "\t\\hline\n",
       "\t1 & leisure\\_sportsground & 27.5136 & 89.6392 & pitch & MP Basketball Court & $\\dots$ \\\\\n",
       "\t2 & leisure\\_sportsground & 27.4755 & 89.6363 & track & yy & $\\dots$ \\\\\n",
       "\t3 & leisure\\_sportsground & 27.4977 & 89.8763 & pitch & Football ground & $\\dots$ \\\\\n",
       "\t4 & leisure\\_sportsground & 27.553 & 89.8723 & pitch & \\emph{missing} & $\\dots$ \\\\\n",
       "\t5 & leisure\\_sportsground & 27.2863 & 91.5239 & pitch & \\emph{missing} & $\\dots$ \\\\\n",
       "\t6 & leisure\\_sportsground & 27.4839 & 89.8989 & pitch & \\emph{missing} & $\\dots$ \\\\\n",
       "\t7 & leisure\\_sportsground & 27.1162 & 88.8739 & pitch & \\emph{missing} & $\\dots$ \\\\\n",
       "\t8 & leisure\\_sportsground & 27.3878 & 89.2784 & stadium & Dzongkhag Football ground & $\\dots$ \\\\\n",
       "\t9 & leisure\\_sportsground & 27.4671 & 89.6475 & pitch & YHSS Basketball Court & $\\dots$ \\\\\n",
       "\t10 & leisure\\_sportsground & 27.4751 & 89.6318 & pitch & Basketball Ground & $\\dots$ \\\\\n",
       "\t11 & leisure\\_sportsground & 27.2854 & 91.5227 & pitch & \\emph{missing} & $\\dots$ \\\\\n",
       "\t12 & leisure\\_sportsground & 27.5022 & 89.6343 & sports\\_centre & BoC & $\\dots$ \\\\\n",
       "\t13 & leisure\\_sportsground & 27.4719 & 89.6334 & sports\\_centre & 178 Genyen Lam SW, Chang Genye, Thimphu & $\\dots$ \\\\\n",
       "\t14 & leisure\\_sportsground & 27.027 & 91.3434 & pitch & Public Archery Range & $\\dots$ \\\\\n",
       "\t15 & leisure\\_sportsground & 27.4311 & 89.6387 & pitch & Debsi Futsal & $\\dots$ \\\\\n",
       "\t16 & leisure\\_sportsground & 26.9577 & 91.2349 & sports\\_centre & football ground & $\\dots$ \\\\\n",
       "\t17 & leisure\\_sportsground & 27.4828 & 89.8984 & pitch & \\emph{missing} & $\\dots$ \\\\\n",
       "\t18 & leisure\\_sportsground & 27.4162 & 89.5585 & pitch & \\emph{missing} & $\\dots$ \\\\\n",
       "\t19 & leisure\\_sportsground & 27.5028 & 89.6344 & pitch & Babena Futsal & $\\dots$ \\\\\n",
       "\t20 & leisure\\_sportsground & 27.4292 & 89.6456 & pitch & Babesa Futsal Ground & $\\dots$ \\\\\n",
       "\t21 & leisure\\_sportsground & 27.4325 & 89.6496 & pitch & Babesa Futsal & $\\dots$ \\\\\n",
       "\t22 & leisure\\_sportsground & 27.5037 & 89.64 & pitch & \\emph{missing} & $\\dots$ \\\\\n",
       "\t23 & leisure\\_sportsground & 27.5106 & 89.8891 & swimming\\_pool & \\emph{missing} & $\\dots$ \\\\\n",
       "\t24 & leisure\\_sportsground & 27.289 & 91.5233 & pitch & \\emph{missing} & $\\dots$ \\\\\n",
       "\t$\\dots$ & $\\dots$ & $\\dots$ & $\\dots$ & $\\dots$ & $\\dots$ &  \\\\\n",
       "\\end{tabular}\n"
      ],
      "text/plain": [
       "\u001b[1m225×6 DataFrame\u001b[0m\n",
       "\u001b[1m Row \u001b[0m│\u001b[1m type                 \u001b[0m\u001b[1m lat     \u001b[0m\u001b[1m lon     \u001b[0m\u001b[1m leisure       \u001b[0m\u001b[1m name            \u001b[0m ⋯\n",
       "     │\u001b[90m Any                  \u001b[0m\u001b[90m Any     \u001b[0m\u001b[90m Any     \u001b[0m\u001b[90m Any           \u001b[0m\u001b[90m Any             \u001b[0m ⋯\n",
       "─────┼──────────────────────────────────────────────────────────────────────────\n",
       "   1 │ leisure_sportsground  27.5136  89.6392  pitch          MP Basketball Co ⋯\n",
       "   2 │ leisure_sportsground  27.4755  89.6363  track          yy\n",
       "   3 │ leisure_sportsground  27.4977  89.8763  pitch          Football ground\n",
       "   4 │ leisure_sportsground  27.553   89.8723  pitch         \u001b[90m missing         \u001b[0m\n",
       "   5 │ leisure_sportsground  27.2863  91.5239  pitch         \u001b[90m missing         \u001b[0m ⋯\n",
       "   6 │ leisure_sportsground  27.4839  89.8989  pitch         \u001b[90m missing         \u001b[0m\n",
       "   7 │ leisure_sportsground  27.1162  88.8739  pitch         \u001b[90m missing         \u001b[0m\n",
       "   8 │ leisure_sportsground  27.3878  89.2784  stadium        Dzongkhag Footba\n",
       "  ⋮  │          ⋮               ⋮        ⋮           ⋮                    ⋮    ⋱\n",
       " 219 │ leisure_sportsground  27.5297  89.6436  pitch         \u001b[90m missing         \u001b[0m ⋯\n",
       " 220 │ leisure_sportsground  27.4693  89.6441  pitch          new basketball c\n",
       " 221 │ leisure_sportsground  27.4713  89.6337 \u001b[90m missing       \u001b[0m\u001b[90m missing         \u001b[0m\n",
       " 222 │ leisure_sportsground  27.2284  91.1994  pitch          BOC Football Gro\n",
       " 223 │ leisure_sportsground  27.4455  89.3735  sports_centre  Archery          ⋯\n",
       " 224 │ leisure_sportsground  27.473   89.6411  pitch         \u001b[90m missing         \u001b[0m\n",
       " 225 │ leisure_sportsground  26.8583  91.4543  pitch         \u001b[90m missing         \u001b[0m\n",
       "\u001b[36m                                                  2 columns and 210 rows omitted\u001b[0m"
      ]
     },
     "metadata": {},
     "output_type": "display_data"
    }
   ],
   "source": [
    "singapore_school_df = get_poi_df(\"datasets/file2.osm\", 0.2, OSMgetPOI.POITypes.education_schools)"
   ]
  },
  {
   "cell_type": "markdown",
   "metadata": {},
   "source": [
    "### 3. Save the results to a .csv file."
   ]
  },
  {
   "cell_type": "code",
   "execution_count": 11,
   "metadata": {},
   "outputs": [
    {
     "data": {
      "text/plain": [
       "\"output_csv/singapore_schools.csv\""
      ]
     },
     "metadata": {},
     "output_type": "display_data"
    }
   ],
   "source": [
    "using CSV\n",
    "CSV.write(\"output_csv/singapore_schools.csv\", singapore_school_df)"
   ]
  },
  {
   "cell_type": "markdown",
   "metadata": {},
   "source": [
    "### Remarks\n",
    "This research was funded in whole or in part by [National Science Centre,  Poland][2021/41/B/HS4/03349]. For the software’s  documentation for the purpose of Open Access, the author has applied a CC-BY public copyright licence to any Author Accepted Manuscript (AAM) version arising from this submission."
   ]
  },
  {
   "cell_type": "code",
   "execution_count": null,
   "metadata": {},
   "outputs": [],
   "source": [
    "#podobnie jak tutorial openstreetmap\n",
    "#pokazac szkoly na mapie, najlepiej z biblioteki Folium lub innej jakbym cos znalazl"
   ]
  }
 ],
 "metadata": {
  "kernelspec": {
   "display_name": "Julia 1.7.3",
   "language": "julia",
   "name": "julia-1.7"
  },
  "language_info": {
   "file_extension": ".jl",
   "mimetype": "application/julia",
   "name": "julia",
   "version": "1.7.3"
  },
  "orig_nbformat": 4
 },
 "nbformat": 4,
 "nbformat_minor": 2
}
