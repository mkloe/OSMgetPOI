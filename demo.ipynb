{
 "cells": [
  {
   "cell_type": "markdown",
   "metadata": {},
   "source": [
    "### OSMGetPOI.jl Tutorial\n",
    "Full documentation: https://github.com/mkloe/OSMgetPOI"
   ]
  },
  {
   "cell_type": "code",
   "execution_count": 1,
   "metadata": {},
   "outputs": [],
   "source": [
    "using OSMgetPOI"
   ]
  },
  {
   "cell_type": "markdown",
   "metadata": {},
   "source": [
    "### 1. Download .osm data file\n",
    "- Downloading from Geofabrik\n",
    "    1. Go to https://download.bbbike.org/osm/bbbike/ and select a city.\n",
    "    2. Copy URL of *OSM XML gzip'd* file (exemplary URL: https://download.bbbike.org/osm/bbbike/Corsica/Corsica.osm.gz)\n",
    "- Downloading from BBBike\n",
    "    1. Go to https://download.geofabrik.de/index.html and select a city or region.\n",
    "    2. Get URL of *.osm.bz2* file (examplary URL: https://download.geofabrik.de/asia/maldives-latest.osm.bz2)\n"
   ]
  },
  {
   "cell_type": "markdown",
   "metadata": {},
   "source": [
    "Downloading file from BBBike"
   ]
  },
  {
   "cell_type": "code",
   "execution_count": 2,
   "metadata": {},
   "outputs": [
    {
     "name": "stdout",
     "output_type": "stream",
     "text": [
      "Downloading file... \n"
     ]
    },
    {
     "name": "stdout",
     "output_type": "stream",
     "text": [
      "File downloaded. Unzipping file...\n",
      "File saved at "
     ]
    },
    {
     "name": "stdout",
     "output_type": "stream",
     "text": [
      "datasets/file.osm"
     ]
    }
   ],
   "source": [
    "download_bbbike_file(\"https://download.bbbike.org/osm/bbbike/UlanBator/UlanBator.osm.gz\")"
   ]
  },
  {
   "cell_type": "markdown",
   "metadata": {},
   "source": [
    "Downloading file from Geofabrik"
   ]
  },
  {
   "cell_type": "code",
   "execution_count": 7,
   "metadata": {},
   "outputs": [
    {
     "name": "stdout",
     "output_type": "stream",
     "text": [
      "Downloading file... \n"
     ]
    },
    {
     "name": "stdout",
     "output_type": "stream",
     "text": [
      "File downloaded. Unzipping file...\n",
      "File saved at "
     ]
    },
    {
     "name": "stdout",
     "output_type": "stream",
     "text": [
      "datasets/file.osm"
     ]
    }
   ],
   "source": [
    "download_geofabrik_file(\"https://download.geofabrik.de/asia/bhutan-latest.osm.bz2\")"
   ]
  },
  {
   "cell_type": "markdown",
   "metadata": {},
   "source": [
    "### 2. Generate a dataframe \n",
    "Generate a dataframe with the POI types defined in the parameters, based on `src/POITypes`. More information about the supported POI types by this API is provided in the documentation."
   ]
  },
  {
   "cell_type": "code",
   "execution_count": 2,
   "metadata": {},
   "outputs": [
    {
     "name": "stdout",
     "output_type": "stream",
     "text": [
      "OSM filter process time: 0.422314083"
     ]
    },
    {
     "name": "stdout",
     "output_type": "stream",
     "text": [
      "\n"
     ]
    },
    {
     "data": {
      "text/html": [
       "<div><div style = \"float: left;\"><span>118×7 DataFrame</span></div><div style = \"float: right;\"><span style = \"font-style: italic;\">93 rows omitted</span></div><div style = \"clear: both;\"></div></div><div class = \"data-frame\" style = \"overflow-x: scroll;\"><table class = \"data-frame\" style = \"margin-bottom: 6px;\"><thead><tr class = \"header\"><th class = \"rowNumber\" style = \"font-weight: bold; text-align: right;\">Row</th><th style = \"text-align: left;\">poi_type</th><th style = \"text-align: left;\">lat</th><th style = \"text-align: left;\">lon</th><th style = \"text-align: left;\">addr:street</th><th style = \"text-align: left;\">addr:housenumber</th><th style = \"text-align: left;\">addr:postcode</th><th style = \"text-align: left;\">addr:country</th></tr><tr class = \"subheader headerLastRow\"><th class = \"rowNumber\" style = \"font-weight: bold; text-align: right;\"></th><th title = \"Any\" style = \"text-align: left;\">Any</th><th title = \"Any\" style = \"text-align: left;\">Any</th><th title = \"Any\" style = \"text-align: left;\">Any</th><th title = \"Any\" style = \"text-align: left;\">Any</th><th title = \"Any\" style = \"text-align: left;\">Any</th><th title = \"Any\" style = \"text-align: left;\">Any</th><th title = \"Any\" style = \"text-align: left;\">Any</th></tr></thead><tbody><tr><td class = \"rowNumber\" style = \"font-weight: bold; text-align: right;\">1</td><td style = \"text-align: left;\">education_school</td><td style = \"text-align: left;\">47.9209</td><td style = \"text-align: left;\">106.902</td><td style = \"font-style: italic; text-align: left;\">missing</td><td style = \"font-style: italic; text-align: left;\">missing</td><td style = \"font-style: italic; text-align: left;\">missing</td><td style = \"font-style: italic; text-align: left;\">missing</td></tr><tr><td class = \"rowNumber\" style = \"font-weight: bold; text-align: right;\">2</td><td style = \"text-align: left;\">education_school</td><td style = \"text-align: left;\">47.9166</td><td style = \"text-align: left;\">106.908</td><td style = \"font-style: italic; text-align: left;\">missing</td><td style = \"font-style: italic; text-align: left;\">missing</td><td style = \"font-style: italic; text-align: left;\">missing</td><td style = \"font-style: italic; text-align: left;\">missing</td></tr><tr><td class = \"rowNumber\" style = \"font-weight: bold; text-align: right;\">3</td><td style = \"text-align: left;\">education_school</td><td style = \"text-align: left;\">47.9284</td><td style = \"text-align: left;\">106.925</td><td style = \"font-style: italic; text-align: left;\">missing</td><td style = \"font-style: italic; text-align: left;\">missing</td><td style = \"font-style: italic; text-align: left;\">missing</td><td style = \"font-style: italic; text-align: left;\">missing</td></tr><tr><td class = \"rowNumber\" style = \"font-weight: bold; text-align: right;\">4</td><td style = \"text-align: left;\">education_school</td><td style = \"text-align: left;\">47.9179</td><td style = \"text-align: left;\">106.903</td><td style = \"font-style: italic; text-align: left;\">missing</td><td style = \"font-style: italic; text-align: left;\">missing</td><td style = \"font-style: italic; text-align: left;\">missing</td><td style = \"font-style: italic; text-align: left;\">missing</td></tr><tr><td class = \"rowNumber\" style = \"font-weight: bold; text-align: right;\">5</td><td style = \"text-align: left;\">education_school</td><td style = \"text-align: left;\">47.9294</td><td style = \"text-align: left;\">106.92</td><td style = \"font-style: italic; text-align: left;\">missing</td><td style = \"font-style: italic; text-align: left;\">missing</td><td style = \"font-style: italic; text-align: left;\">missing</td><td style = \"font-style: italic; text-align: left;\">missing</td></tr><tr><td class = \"rowNumber\" style = \"font-weight: bold; text-align: right;\">6</td><td style = \"text-align: left;\">education_school</td><td style = \"text-align: left;\">47.9136</td><td style = \"text-align: left;\">106.896</td><td style = \"text-align: left;\">Сөүлийн гудамж</td><td style = \"font-style: italic; text-align: left;\">missing</td><td style = \"font-style: italic; text-align: left;\">missing</td><td style = \"font-style: italic; text-align: left;\">missing</td></tr><tr><td class = \"rowNumber\" style = \"font-weight: bold; text-align: right;\">7</td><td style = \"text-align: left;\">education_school</td><td style = \"text-align: left;\">47.924</td><td style = \"text-align: left;\">106.946</td><td style = \"font-style: italic; text-align: left;\">missing</td><td style = \"font-style: italic; text-align: left;\">missing</td><td style = \"font-style: italic; text-align: left;\">missing</td><td style = \"font-style: italic; text-align: left;\">missing</td></tr><tr><td class = \"rowNumber\" style = \"font-weight: bold; text-align: right;\">8</td><td style = \"text-align: left;\">education_school</td><td style = \"text-align: left;\">47.9209</td><td style = \"text-align: left;\">106.927</td><td style = \"font-style: italic; text-align: left;\">missing</td><td style = \"font-style: italic; text-align: left;\">missing</td><td style = \"font-style: italic; text-align: left;\">missing</td><td style = \"font-style: italic; text-align: left;\">missing</td></tr><tr><td class = \"rowNumber\" style = \"font-weight: bold; text-align: right;\">9</td><td style = \"text-align: left;\">education_school</td><td style = \"text-align: left;\">47.9271</td><td style = \"text-align: left;\">106.92</td><td style = \"font-style: italic; text-align: left;\">missing</td><td style = \"font-style: italic; text-align: left;\">missing</td><td style = \"font-style: italic; text-align: left;\">missing</td><td style = \"font-style: italic; text-align: left;\">missing</td></tr><tr><td class = \"rowNumber\" style = \"font-weight: bold; text-align: right;\">10</td><td style = \"text-align: left;\">education_school</td><td style = \"text-align: left;\">47.9279</td><td style = \"text-align: left;\">106.924</td><td style = \"font-style: italic; text-align: left;\">missing</td><td style = \"font-style: italic; text-align: left;\">missing</td><td style = \"font-style: italic; text-align: left;\">missing</td><td style = \"font-style: italic; text-align: left;\">missing</td></tr><tr><td class = \"rowNumber\" style = \"font-weight: bold; text-align: right;\">11</td><td style = \"text-align: left;\">education_school</td><td style = \"text-align: left;\">47.9152</td><td style = \"text-align: left;\">106.898</td><td style = \"text-align: left;\">Энх тайваны өргөн чөлөө</td><td style = \"font-style: italic; text-align: left;\">missing</td><td style = \"font-style: italic; text-align: left;\">missing</td><td style = \"font-style: italic; text-align: left;\">missing</td></tr><tr><td class = \"rowNumber\" style = \"font-weight: bold; text-align: right;\">12</td><td style = \"text-align: left;\">education_school</td><td style = \"text-align: left;\">47.9207</td><td style = \"text-align: left;\">106.889</td><td style = \"font-style: italic; text-align: left;\">missing</td><td style = \"font-style: italic; text-align: left;\">missing</td><td style = \"font-style: italic; text-align: left;\">missing</td><td style = \"font-style: italic; text-align: left;\">missing</td></tr><tr><td class = \"rowNumber\" style = \"font-weight: bold; text-align: right;\">13</td><td style = \"text-align: left;\">education_school</td><td style = \"text-align: left;\">47.9114</td><td style = \"text-align: left;\">106.909</td><td style = \"font-style: italic; text-align: left;\">missing</td><td style = \"font-style: italic; text-align: left;\">missing</td><td style = \"font-style: italic; text-align: left;\">missing</td><td style = \"font-style: italic; text-align: left;\">missing</td></tr><tr><td style = \"text-align: right;\">&vellip;</td><td style = \"text-align: right;\">&vellip;</td><td style = \"text-align: right;\">&vellip;</td><td style = \"text-align: right;\">&vellip;</td><td style = \"text-align: right;\">&vellip;</td><td style = \"text-align: right;\">&vellip;</td><td style = \"text-align: right;\">&vellip;</td><td style = \"text-align: right;\">&vellip;</td></tr><tr><td class = \"rowNumber\" style = \"font-weight: bold; text-align: right;\">107</td><td style = \"text-align: left;\">education_school</td><td style = \"text-align: left;\">47.926</td><td style = \"text-align: left;\">106.921</td><td style = \"font-style: italic; text-align: left;\">Бага Тойруу</td><td style = \"font-style: italic; text-align: left;\">301</td><td style = \"font-style: italic; text-align: left;\">14192</td><td style = \"font-style: italic; text-align: left;\">MN</td></tr><tr><td class = \"rowNumber\" style = \"font-weight: bold; text-align: right;\">108</td><td style = \"text-align: left;\">education_school</td><td style = \"text-align: left;\">47.9186</td><td style = \"text-align: left;\">106.94</td><td style = \"font-style: italic; text-align: left;\">missing</td><td style = \"font-style: italic; text-align: left;\">missing</td><td style = \"font-style: italic; text-align: left;\">missing</td><td style = \"font-style: italic; text-align: left;\">missing</td></tr><tr><td class = \"rowNumber\" style = \"font-weight: bold; text-align: right;\">109</td><td style = \"text-align: left;\">education_school</td><td style = \"text-align: left;\">47.9261</td><td style = \"text-align: left;\">106.921</td><td style = \"font-style: italic; text-align: left;\">missing</td><td style = \"font-style: italic; text-align: left;\">missing</td><td style = \"font-style: italic; text-align: left;\">missing</td><td style = \"font-style: italic; text-align: left;\">missing</td></tr><tr><td class = \"rowNumber\" style = \"font-weight: bold; text-align: right;\">110</td><td style = \"text-align: left;\">education_school</td><td style = \"text-align: left;\">47.9136</td><td style = \"text-align: left;\">106.903</td><td style = \"font-style: italic; text-align: left;\">Сөүлийн гудамж</td><td style = \"font-style: italic; text-align: left;\">missing</td><td style = \"font-style: italic; text-align: left;\">missing</td><td style = \"font-style: italic; text-align: left;\">missing</td></tr><tr><td class = \"rowNumber\" style = \"font-weight: bold; text-align: right;\">111</td><td style = \"text-align: left;\">education_school</td><td style = \"text-align: left;\">47.9264</td><td style = \"text-align: left;\">106.922</td><td style = \"font-style: italic; text-align: left;\">Бага Тойруу</td><td style = \"font-style: italic; text-align: left;\">missing</td><td style = \"font-style: italic; text-align: left;\">missing</td><td style = \"font-style: italic; text-align: left;\">missing</td></tr><tr><td class = \"rowNumber\" style = \"font-weight: bold; text-align: right;\">112</td><td style = \"text-align: left;\">education_school</td><td style = \"text-align: left;\">47.9214</td><td style = \"text-align: left;\">106.878</td><td style = \"font-style: italic; text-align: left;\">missing</td><td style = \"text-align: left;\">missing</td><td style = \"font-style: italic; text-align: left;\">missing</td><td style = \"font-style: italic; text-align: left;\">missing</td></tr><tr><td class = \"rowNumber\" style = \"font-weight: bold; text-align: right;\">113</td><td style = \"text-align: left;\">education_school</td><td style = \"text-align: left;\">47.9227</td><td style = \"text-align: left;\">106.889</td><td style = \"font-style: italic; text-align: left;\">missing</td><td style = \"font-style: italic; text-align: left;\">missing</td><td style = \"font-style: italic; text-align: left;\">+976</td><td style = \"font-style: italic; text-align: left;\">missing</td></tr><tr><td class = \"rowNumber\" style = \"font-weight: bold; text-align: right;\">114</td><td style = \"text-align: left;\">education_school</td><td style = \"text-align: left;\">47.9092</td><td style = \"text-align: left;\">106.908</td><td style = \"font-style: italic; text-align: left;\">missing</td><td style = \"font-style: italic; text-align: left;\">missing</td><td style = \"font-style: italic; text-align: left;\">missing</td><td style = \"font-style: italic; text-align: left;\">missing</td></tr><tr><td class = \"rowNumber\" style = \"font-weight: bold; text-align: right;\">115</td><td style = \"text-align: left;\">education_school</td><td style = \"text-align: left;\">47.9174</td><td style = \"text-align: left;\">106.884</td><td style = \"font-style: italic; text-align: left;\">missing</td><td style = \"font-style: italic; text-align: left;\">missing</td><td style = \"font-style: italic; text-align: left;\">missing</td><td style = \"font-style: italic; text-align: left;\">missing</td></tr><tr><td class = \"rowNumber\" style = \"font-weight: bold; text-align: right;\">116</td><td style = \"text-align: left;\">education_school</td><td style = \"text-align: left;\">47.9169</td><td style = \"text-align: left;\">106.89</td><td style = \"font-style: italic; text-align: left;\">Амарсанаагийн гудамж</td><td style = \"font-style: italic; text-align: left;\">missing</td><td style = \"font-style: italic; text-align: left;\">missing</td><td style = \"font-style: italic; text-align: left;\">missing</td></tr><tr><td class = \"rowNumber\" style = \"font-weight: bold; text-align: right;\">117</td><td style = \"text-align: left;\">education_school</td><td style = \"text-align: left;\">47.9281</td><td style = \"text-align: left;\">106.948</td><td style = \"text-align: left;\">missing</td><td style = \"font-style: italic; text-align: left;\">missing</td><td style = \"font-style: italic; text-align: left;\">missing</td><td style = \"font-style: italic; text-align: left;\">missing</td></tr><tr><td class = \"rowNumber\" style = \"font-weight: bold; text-align: right;\">118</td><td style = \"text-align: left;\">education_school</td><td style = \"text-align: left;\">47.9104</td><td style = \"text-align: left;\">106.878</td><td style = \"font-style: italic; text-align: left;\">Замчдын гудамж</td><td style = \"font-style: italic; text-align: left;\">missing</td><td style = \"font-style: italic; text-align: left;\">missing</td><td style = \"font-style: italic; text-align: left;\">missing</td></tr></tbody></table></div>"
      ],
      "text/latex": [
       "\\begin{tabular}{r|cccccc}\n",
       "\t& poi\\_type & lat & lon & addr:street & addr:housenumber & \\\\\n",
       "\t\\hline\n",
       "\t& Any & Any & Any & Any & Any & \\\\\n",
       "\t\\hline\n",
       "\t1 & education\\_school & 47.9209 & 106.902 & \\emph{missing} & \\emph{missing} & $\\dots$ \\\\\n",
       "\t2 & education\\_school & 47.9166 & 106.908 & \\emph{missing} & \\emph{missing} & $\\dots$ \\\\\n",
       "\t3 & education\\_school & 47.9284 & 106.925 & \\emph{missing} & \\emph{missing} & $\\dots$ \\\\\n",
       "\t4 & education\\_school & 47.9179 & 106.903 & \\emph{missing} & \\emph{missing} & $\\dots$ \\\\\n",
       "\t5 & education\\_school & 47.9294 & 106.92 & \\emph{missing} & \\emph{missing} & $\\dots$ \\\\\n",
       "\t6 & education\\_school & 47.9136 & 106.896 & Сөүлийн гудамж & \\emph{missing} & $\\dots$ \\\\\n",
       "\t7 & education\\_school & 47.924 & 106.946 & \\emph{missing} & \\emph{missing} & $\\dots$ \\\\\n",
       "\t8 & education\\_school & 47.9209 & 106.927 & \\emph{missing} & \\emph{missing} & $\\dots$ \\\\\n",
       "\t9 & education\\_school & 47.9271 & 106.92 & \\emph{missing} & \\emph{missing} & $\\dots$ \\\\\n",
       "\t10 & education\\_school & 47.9279 & 106.924 & \\emph{missing} & \\emph{missing} & $\\dots$ \\\\\n",
       "\t11 & education\\_school & 47.9152 & 106.898 & Энх тайваны өргөн чөлөө & \\emph{missing} & $\\dots$ \\\\\n",
       "\t12 & education\\_school & 47.9207 & 106.889 & \\emph{missing} & \\emph{missing} & $\\dots$ \\\\\n",
       "\t13 & education\\_school & 47.9114 & 106.909 & \\emph{missing} & \\emph{missing} & $\\dots$ \\\\\n",
       "\t14 & education\\_school & 47.9252 & 106.892 & \\emph{missing} & \\emph{missing} & $\\dots$ \\\\\n",
       "\t15 & education\\_school & 47.9216 & 106.919 & \\emph{missing} & \\emph{missing} & $\\dots$ \\\\\n",
       "\t16 & education\\_school & 47.9163 & 106.985 & \\emph{missing} & \\emph{missing} & $\\dots$ \\\\\n",
       "\t17 & education\\_school & 47.9244 & 106.94 & \\emph{missing} & \\emph{missing} & $\\dots$ \\\\\n",
       "\t18 & education\\_school & 47.9152 & 106.898 & \\emph{missing} & \\emph{missing} & $\\dots$ \\\\\n",
       "\t19 & education\\_school & 47.9088 & 106.908 & \\emph{missing} & а & $\\dots$ \\\\\n",
       "\t20 & education\\_school & 47.9244 & 106.908 & \\emph{missing} & \\emph{missing} & $\\dots$ \\\\\n",
       "\t21 & education\\_school & 47.9091 & 106.908 & \\emph{missing} & \\emph{missing} & $\\dots$ \\\\\n",
       "\t22 & education\\_school & 47.9242 & 106.869 & \\emph{missing} & \\emph{missing} & $\\dots$ \\\\\n",
       "\t23 & education\\_school & 47.9252 & 106.912 & \\emph{missing} & \\emph{missing} & $\\dots$ \\\\\n",
       "\t24 & education\\_school & 47.9113 & 106.938 & Манлайбаатар Дамидансүрэнгийн Гудамж & \\emph{missing} & $\\dots$ \\\\\n",
       "\t$\\dots$ & $\\dots$ & $\\dots$ & $\\dots$ & $\\dots$ & $\\dots$ &  \\\\\n",
       "\\end{tabular}\n"
      ],
      "text/plain": [
       "\u001b[1m118×7 DataFrame\u001b[0m\n",
       "\u001b[1m Row \u001b[0m│\u001b[1m poi_type         \u001b[0m\u001b[1m lat     \u001b[0m\u001b[1m lon     \u001b[0m\u001b[1m addr:street             \u001b[0m\u001b[1m addr:house\u001b[0m ⋯\n",
       "     │\u001b[90m Any              \u001b[0m\u001b[90m Any     \u001b[0m\u001b[90m Any     \u001b[0m\u001b[90m Any                     \u001b[0m\u001b[90m Any       \u001b[0m ⋯\n",
       "─────┼──────────────────────────────────────────────────────────────────────────\n",
       "   1 │ education_school  47.9209  106.902 \u001b[90m missing                 \u001b[0m\u001b[90m missing   \u001b[0m ⋯\n",
       "   2 │ education_school  47.9166  106.908 \u001b[90m missing                 \u001b[0m\u001b[90m missing   \u001b[0m\n",
       "   3 │ education_school  47.9284  106.925 \u001b[90m missing                 \u001b[0m\u001b[90m missing   \u001b[0m\n",
       "   4 │ education_school  47.9179  106.903 \u001b[90m missing                 \u001b[0m\u001b[90m missing   \u001b[0m\n",
       "   5 │ education_school  47.9294  106.92  \u001b[90m missing                 \u001b[0m\u001b[90m missing   \u001b[0m ⋯\n",
       "   6 │ education_school  47.9136  106.896  Сөүлийн гудамж          \u001b[90m missing   \u001b[0m\n",
       "   7 │ education_school  47.924   106.946 \u001b[90m missing                 \u001b[0m\u001b[90m missing   \u001b[0m\n",
       "   8 │ education_school  47.9209  106.927 \u001b[90m missing                 \u001b[0m\u001b[90m missing   \u001b[0m\n",
       "  ⋮  │        ⋮             ⋮        ⋮                ⋮                    ⋮   ⋱\n",
       " 112 │ education_school  47.9214  106.878 \u001b[90m missing                 \u001b[0m\u001b[90m missing   \u001b[0m ⋯\n",
       " 113 │ education_school  47.9227  106.889 \u001b[90m missing                 \u001b[0m\u001b[90m missing   \u001b[0m\n",
       " 114 │ education_school  47.9092  106.908 \u001b[90m missing                 \u001b[0m\u001b[90m missing   \u001b[0m\n",
       " 115 │ education_school  47.9174  106.884 \u001b[90m missing                 \u001b[0m\u001b[90m missing   \u001b[0m\n",
       " 116 │ education_school  47.9169  106.89   Амарсанаагийн гудамж    \u001b[90m missing   \u001b[0m ⋯\n",
       " 117 │ education_school  47.9281  106.948 \u001b[90m missing                 \u001b[0m\u001b[90m missing   \u001b[0m\n",
       " 118 │ education_school  47.9104  106.878  Замчдын гудамж          \u001b[90m missing   \u001b[0m\n",
       "\u001b[36m                                                  3 columns and 103 rows omitted\u001b[0m"
      ]
     },
     "metadata": {},
     "output_type": "display_data"
    }
   ],
   "source": [
    "schools = get_poi_df(\"datasets/file.osm\", 1.0, [\"addr:housenumber\", \"addr:street\", \"addr:postcode\", \"addr:country\"], OSMgetPOI.POITypes.education_school)"
   ]
  },
  {
   "cell_type": "markdown",
   "metadata": {},
   "source": [
    "### 3. Save the results to a .csv file."
   ]
  },
  {
   "cell_type": "code",
   "execution_count": 10,
   "metadata": {},
   "outputs": [
    {
     "data": {
      "text/plain": [
       "\"output_csv/schools.csv\""
      ]
     },
     "metadata": {},
     "output_type": "display_data"
    }
   ],
   "source": [
    "using CSV\n",
    "CSV.write(\"output_csv/schools.csv\", singapore_school_df)"
   ]
  },
  {
   "cell_type": "markdown",
   "metadata": {},
   "source": [
    "### 4. Visualising POIs on the map"
   ]
  },
  {
   "cell_type": "code",
   "execution_count": null,
   "metadata": {},
   "outputs": [],
   "source": []
  },
  {
   "cell_type": "markdown",
   "metadata": {},
   "source": [
    "### Remarks\n",
    "This research was funded in whole or in part by [National Science Centre,  Poland][2021/41/B/HS4/03349]. For the software’s  documentation for the purpose of Open Access, the author has applied a CC-BY public copyright licence to any Author Accepted Manuscript (AAM) version arising from this submission."
   ]
  }
 ],
 "metadata": {
  "kernelspec": {
   "display_name": "Julia 1.7.3",
   "language": "julia",
   "name": "julia-1.7"
  },
  "language_info": {
   "file_extension": ".jl",
   "mimetype": "application/julia",
   "name": "julia",
   "version": "1.7.3"
  },
  "orig_nbformat": 4
 },
 "nbformat": 4,
 "nbformat_minor": 2
}
