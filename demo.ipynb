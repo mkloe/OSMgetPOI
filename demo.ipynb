{
 "cells": [
  {
   "cell_type": "markdown",
   "metadata": {},
   "source": [
    "### OSMGetPOI.jl Tutorial\n",
    "Full documentation: https://github.com/mkloe/OSMgetPOI"
   ]
  },
  {
   "cell_type": "code",
   "execution_count": 2,
   "metadata": {},
   "outputs": [],
   "source": [
    "using OSMgetPOI"
   ]
  },
  {
   "cell_type": "markdown",
   "metadata": {},
   "source": [
    "### 1. Download .osm data file\n",
    "- Downloading from Geofabrik\n",
    "    1. Go to https://download.bbbike.org/osm/bbbike/ and select a city.\n",
    "    2. Copy URL of *OSM XML gzip'd* file (exemplary URL: https://download.bbbike.org/osm/bbbike/Corsica/Corsica.osm.gz)\n",
    "- Downloading from BBBike\n",
    "    1. Go to https://download.geofabrik.de/index.html and select a city or region.\n",
    "    2. Get URL of *.osm.bz2* file (examplary URL: https://download.geofabrik.de/asia/maldives-latest.osm.bz2)\n"
   ]
  },
  {
   "cell_type": "markdown",
   "metadata": {},
   "source": [
    "Downloading file from BBBike"
   ]
  },
  {
   "cell_type": "code",
   "execution_count": 3,
   "metadata": {},
   "outputs": [
    {
     "name": "stdout",
     "output_type": "stream",
     "text": [
      "Downloading file... \n"
     ]
    },
    {
     "name": "stdout",
     "output_type": "stream",
     "text": [
      "File downloaded. Unzipping file...\n",
      "File saved at "
     ]
    },
    {
     "name": "stdout",
     "output_type": "stream",
     "text": [
      "datasets/file.osm"
     ]
    }
   ],
   "source": [
    "download_bbbike_file(\"https://download.bbbike.org/osm/bbbike/UlanBator/UlanBator.osm.gz\")"
   ]
  },
  {
   "cell_type": "markdown",
   "metadata": {},
   "source": [
    "Downloading file from Geofabrik"
   ]
  },
  {
   "cell_type": "code",
   "execution_count": 7,
   "metadata": {},
   "outputs": [
    {
     "name": "stdout",
     "output_type": "stream",
     "text": [
      "Downloading file... \n"
     ]
    },
    {
     "name": "stdout",
     "output_type": "stream",
     "text": [
      "File downloaded. Unzipping file...\n",
      "File saved at "
     ]
    },
    {
     "name": "stdout",
     "output_type": "stream",
     "text": [
      "datasets/file.osm"
     ]
    }
   ],
   "source": [
    "download_geofabrik_file(\"https://download.geofabrik.de/asia/bhutan-latest.osm.bz2\")"
   ]
  },
  {
   "cell_type": "code",
   "execution_count": null,
   "metadata": {},
   "outputs": [],
   "source": [
    "#Improvementy:\n",
    "#Zrownoleglenie funckji map - do poszukania\n",
    "#sprawdzic funkcje intersect dla delete_duplicated_elements!\n",
    "#bug multipolygon\n",
    "\n",
    "\n",
    "#przemyslec liste kolumn:\n",
    "##przemyslec liste kolumn\n",
    "###dane adresowe: addr:housenumber\taddr:street\taddr:postcode addr:country\n",
    "#dwa parametry get_poi_df: threshold = 0.0 (nie zwraca nic) oraz columns = [addr:housenumber addr:street addr:postcode addr:country]"
   ]
  },
  {
   "cell_type": "markdown",
   "metadata": {},
   "source": [
    "### 2. Generate a dataframe \n",
    "Generate a dataframe with the POI types defined in the parameters, based on `src/POITypes`. We only keep these columns that have over 30% of non-missing values. More information about the supported POI types by this API is provided in the documentation."
   ]
  },
  {
   "cell_type": "code",
   "execution_count": 8,
   "metadata": {},
   "outputs": [
    {
     "name": "stdout",
     "output_type": "stream",
     "text": [
      "OSM filter process time: 51.863615208\n"
     ]
    },
    {
     "data": {
      "text/html": [
       "<div><div style = \"float: left;\"><span>211×6 DataFrame</span></div><div style = \"float: right;\"><span style = \"font-style: italic;\">186 rows omitted</span></div><div style = \"clear: both;\"></div></div><div class = \"data-frame\" style = \"overflow-x: scroll;\"><table class = \"data-frame\" style = \"margin-bottom: 6px;\"><thead><tr class = \"header\"><th class = \"rowNumber\" style = \"font-weight: bold; text-align: right;\">Row</th><th style = \"text-align: left;\">type</th><th style = \"text-align: left;\">lat</th><th style = \"text-align: left;\">lon</th><th style = \"text-align: left;\">amenity</th><th style = \"text-align: left;\">name:en</th><th style = \"text-align: left;\">name</th></tr><tr class = \"subheader headerLastRow\"><th class = \"rowNumber\" style = \"font-weight: bold; text-align: right;\"></th><th title = \"Any\" style = \"text-align: left;\">Any</th><th title = \"Any\" style = \"text-align: left;\">Any</th><th title = \"Any\" style = \"text-align: left;\">Any</th><th title = \"Any\" style = \"text-align: left;\">Any</th><th title = \"Any\" style = \"text-align: left;\">Any</th><th title = \"Any\" style = \"text-align: left;\">Any</th></tr></thead><tbody><tr><td class = \"rowNumber\" style = \"font-weight: bold; text-align: right;\">1</td><td style = \"text-align: left;\">education_school</td><td style = \"text-align: left;\">26.9712</td><td style = \"text-align: left;\">90.8544</td><td style = \"text-align: left;\">school</td><td style = \"text-align: left;\">Pantang Primary School</td><td style = \"font-style: italic; text-align: left;\">missing</td></tr><tr><td class = \"rowNumber\" style = \"font-weight: bold; text-align: right;\">2</td><td style = \"text-align: left;\">education_school</td><td style = \"text-align: left;\">27.2672</td><td style = \"text-align: left;\">91.5117</td><td style = \"text-align: left;\">school</td><td style = \"font-style: italic; text-align: left;\">missing</td><td style = \"text-align: left;\">Yongphula Lower Secoundary School Area</td></tr><tr><td class = \"rowNumber\" style = \"font-weight: bold; text-align: right;\">3</td><td style = \"text-align: left;\">education_school</td><td style = \"text-align: left;\">27.0041</td><td style = \"text-align: left;\">91.3839</td><td style = \"text-align: left;\">school</td><td style = \"font-style: italic; text-align: left;\">missing</td><td style = \"text-align: left;\">TPS Assembly Ground</td></tr><tr><td class = \"rowNumber\" style = \"font-weight: bold; text-align: right;\">4</td><td style = \"text-align: left;\">education_school</td><td style = \"text-align: left;\">26.9332</td><td style = \"text-align: left;\">89.9575</td><td style = \"text-align: left;\">school</td><td style = \"font-style: italic; text-align: left;\">missing</td><td style = \"text-align: left;\">Dagapela Autonomous School</td></tr><tr><td class = \"rowNumber\" style = \"font-weight: bold; text-align: right;\">5</td><td style = \"text-align: left;\">education_school</td><td style = \"text-align: left;\">27.0461</td><td style = \"text-align: left;\">91.4609</td><td style = \"text-align: left;\">school</td><td style = \"font-style: italic; text-align: left;\">missing</td><td style = \"text-align: left;\">Football ground</td></tr><tr><td class = \"rowNumber\" style = \"font-weight: bold; text-align: right;\">6</td><td style = \"text-align: left;\">education_school</td><td style = \"text-align: left;\">26.8674</td><td style = \"text-align: left;\">89.3851</td><td style = \"text-align: left;\">school</td><td style = \"text-align: left;\">Sonamgang MSS</td><td style = \"font-style: italic; text-align: left;\">missing</td></tr><tr><td class = \"rowNumber\" style = \"font-weight: bold; text-align: right;\">7</td><td style = \"text-align: left;\">education_school</td><td style = \"text-align: left;\">27.4773</td><td style = \"text-align: left;\">89.6393</td><td style = \"text-align: left;\">school</td><td style = \"text-align: left;\">Jigme Losel Primary School</td><td style = \"text-align: left;\">Jigme Losel Primary School</td></tr><tr><td class = \"rowNumber\" style = \"font-weight: bold; text-align: right;\">8</td><td style = \"text-align: left;\">education_school</td><td style = \"text-align: left;\">26.8607</td><td style = \"text-align: left;\">89.3893</td><td style = \"text-align: left;\">school</td><td style = \"text-align: left;\">Phuentsholing Lower Secondary school</td><td style = \"font-style: italic; text-align: left;\">missing</td></tr><tr><td class = \"rowNumber\" style = \"font-weight: bold; text-align: right;\">9</td><td style = \"text-align: left;\">education_school</td><td style = \"text-align: left;\">26.8004</td><td style = \"text-align: left;\">91.5072</td><td style = \"text-align: left;\">school</td><td style = \"font-style: italic; text-align: left;\">missing</td><td style = \"text-align: left;\">Samdrup Jongkhar Middle Secondary School</td></tr><tr><td class = \"rowNumber\" style = \"font-weight: bold; text-align: right;\">10</td><td style = \"text-align: left;\">education_school</td><td style = \"text-align: left;\">27.2849</td><td style = \"text-align: left;\">91.5307</td><td style = \"text-align: left;\">school</td><td style = \"font-style: italic; text-align: left;\">missing</td><td style = \"text-align: left;\">Jampheling Central School Area</td></tr><tr><td class = \"rowNumber\" style = \"font-weight: bold; text-align: right;\">11</td><td style = \"text-align: left;\">education_school</td><td style = \"text-align: left;\">27.0308</td><td style = \"text-align: left;\">91.4259</td><td style = \"text-align: left;\">school</td><td style = \"font-style: italic; text-align: left;\">missing</td><td style = \"font-style: italic; text-align: left;\">missing</td></tr><tr><td class = \"rowNumber\" style = \"font-weight: bold; text-align: right;\">12</td><td style = \"text-align: left;\">education_school</td><td style = \"text-align: left;\">27.4503</td><td style = \"text-align: left;\">89.6468</td><td style = \"text-align: left;\">school</td><td style = \"font-style: italic; text-align: left;\">missing</td><td style = \"text-align: left;\">Kuensel Phodrang Primary School</td></tr><tr><td class = \"rowNumber\" style = \"font-weight: bold; text-align: right;\">13</td><td style = \"text-align: left;\">education_school</td><td style = \"text-align: left;\">26.8389</td><td style = \"text-align: left;\">91.3493</td><td style = \"text-align: left;\">language_school</td><td style = \"font-style: italic; text-align: left;\">missing</td><td style = \"text-align: left;\">Academic block</td></tr><tr><td style = \"text-align: right;\">&vellip;</td><td style = \"text-align: right;\">&vellip;</td><td style = \"text-align: right;\">&vellip;</td><td style = \"text-align: right;\">&vellip;</td><td style = \"text-align: right;\">&vellip;</td><td style = \"text-align: right;\">&vellip;</td><td style = \"text-align: right;\">&vellip;</td></tr><tr><td class = \"rowNumber\" style = \"font-weight: bold; text-align: right;\">200</td><td style = \"text-align: left;\">education_school</td><td style = \"text-align: left;\">27.1372</td><td style = \"text-align: left;\">90.9446</td><td style = \"text-align: left;\">school</td><td style = \"font-style: italic; text-align: left;\">missing</td><td style = \"text-align: left;\">missing</td></tr><tr><td class = \"rowNumber\" style = \"font-weight: bold; text-align: right;\">201</td><td style = \"text-align: left;\">education_school</td><td style = \"text-align: left;\">27.4113</td><td style = \"text-align: left;\">90.5164</td><td style = \"text-align: left;\">school</td><td style = \"font-style: italic; text-align: left;\">missing</td><td style = \"text-align: left;\">missing</td></tr><tr><td class = \"rowNumber\" style = \"font-weight: bold; text-align: right;\">202</td><td style = \"text-align: left;\">education_school</td><td style = \"text-align: left;\">27.4611</td><td style = \"text-align: left;\">89.6412</td><td style = \"text-align: left;\">school</td><td style = \"font-style: italic; text-align: left;\">missing</td><td style = \"text-align: left;\">Changzamtog Lower Secondary School</td></tr><tr><td class = \"rowNumber\" style = \"font-weight: bold; text-align: right;\">203</td><td style = \"text-align: left;\">education_school</td><td style = \"text-align: left;\">27.4593</td><td style = \"text-align: left;\">89.6457</td><td style = \"text-align: left;\">school</td><td style = \"font-style: italic; text-align: left;\">Deki School</td><td style = \"font-style: italic; text-align: left;\">missing</td></tr><tr><td class = \"rowNumber\" style = \"font-weight: bold; text-align: right;\">204</td><td style = \"text-align: left;\">education_school</td><td style = \"text-align: left;\">27.2072</td><td style = \"text-align: left;\">91.6021</td><td style = \"text-align: left;\">school</td><td style = \"font-style: italic; text-align: left;\">Dining Hall</td><td style = \"text-align: left;\">missing</td></tr><tr><td class = \"rowNumber\" style = \"font-weight: bold; text-align: right;\">205</td><td style = \"text-align: left;\">education_school</td><td style = \"text-align: left;\">27.0455</td><td style = \"text-align: left;\">91.5426</td><td style = \"text-align: left;\">school</td><td style = \"font-style: italic; text-align: left;\">missing</td><td style = \"text-align: left;\">Berdungma Community Primary School</td></tr><tr><td class = \"rowNumber\" style = \"font-weight: bold; text-align: right;\">206</td><td style = \"text-align: left;\">education_school</td><td style = \"text-align: left;\">27.0303</td><td style = \"text-align: left;\">91.4262</td><td style = \"text-align: left;\">school</td><td style = \"font-style: italic; text-align: left;\">girls hostel</td><td style = \"text-align: left;\">PMSS</td></tr><tr><td class = \"rowNumber\" style = \"font-weight: bold; text-align: right;\">207</td><td style = \"text-align: left;\">education_school</td><td style = \"text-align: left;\">26.9501</td><td style = \"text-align: left;\">90.1137</td><td style = \"text-align: left;\">school</td><td style = \"font-style: italic; text-align: left;\">missing</td><td style = \"text-align: left;\">Mendrelgang CS</td></tr><tr><td class = \"rowNumber\" style = \"font-weight: bold; text-align: right;\">208</td><td style = \"text-align: left;\">education_school</td><td style = \"text-align: left;\">27.4709</td><td style = \"text-align: left;\">89.6351</td><td style = \"text-align: left;\">school</td><td style = \"font-style: italic; text-align: left;\">Kelki Higher Secondary School</td><td style = \"text-align: left;\">Kelki School</td></tr><tr><td class = \"rowNumber\" style = \"font-weight: bold; text-align: right;\">209</td><td style = \"text-align: left;\">education_school</td><td style = \"text-align: left;\">26.9816</td><td style = \"text-align: left;\">91.3351</td><td style = \"text-align: left;\">school</td><td style = \"font-style: italic; text-align: left;\">missing</td><td style = \"text-align: left;\">Dungmin School</td></tr><tr><td class = \"rowNumber\" style = \"font-weight: bold; text-align: right;\">210</td><td style = \"text-align: left;\">education_school</td><td style = \"text-align: left;\">26.879</td><td style = \"text-align: left;\">90.4924</td><td style = \"text-align: left;\">school</td><td style = \"font-style: italic; text-align: left;\">missing</td><td style = \"text-align: left;\">Kuendup Higher Secondary School</td></tr><tr><td class = \"rowNumber\" style = \"font-weight: bold; text-align: right;\">211</td><td style = \"text-align: left;\">education_school</td><td style = \"text-align: left;\">27.0307</td><td style = \"text-align: left;\">91.4256</td><td style = \"text-align: left;\">school</td><td style = \"font-style: italic; text-align: left;\">Mani Dungkor</td><td style = \"text-align: left;\">PMSS</td></tr></tbody></table></div>"
      ],
      "text/latex": [
       "\\begin{tabular}{r|cccccc}\n",
       "\t& type & lat & lon & amenity & name:en & \\\\\n",
       "\t\\hline\n",
       "\t& Any & Any & Any & Any & Any & \\\\\n",
       "\t\\hline\n",
       "\t1 & education\\_school & 26.9712 & 90.8544 & school & Pantang Primary School & $\\dots$ \\\\\n",
       "\t2 & education\\_school & 27.2672 & 91.5117 & school & \\emph{missing} & $\\dots$ \\\\\n",
       "\t3 & education\\_school & 27.0041 & 91.3839 & school & \\emph{missing} & $\\dots$ \\\\\n",
       "\t4 & education\\_school & 26.9332 & 89.9575 & school & \\emph{missing} & $\\dots$ \\\\\n",
       "\t5 & education\\_school & 27.0461 & 91.4609 & school & \\emph{missing} & $\\dots$ \\\\\n",
       "\t6 & education\\_school & 26.8674 & 89.3851 & school & Sonamgang MSS & $\\dots$ \\\\\n",
       "\t7 & education\\_school & 27.4773 & 89.6393 & school & Jigme Losel Primary School & $\\dots$ \\\\\n",
       "\t8 & education\\_school & 26.8607 & 89.3893 & school & Phuentsholing Lower Secondary school & $\\dots$ \\\\\n",
       "\t9 & education\\_school & 26.8004 & 91.5072 & school & \\emph{missing} & $\\dots$ \\\\\n",
       "\t10 & education\\_school & 27.2849 & 91.5307 & school & \\emph{missing} & $\\dots$ \\\\\n",
       "\t11 & education\\_school & 27.0308 & 91.4259 & school & \\emph{missing} & $\\dots$ \\\\\n",
       "\t12 & education\\_school & 27.4503 & 89.6468 & school & \\emph{missing} & $\\dots$ \\\\\n",
       "\t13 & education\\_school & 26.8389 & 91.3493 & language\\_school & \\emph{missing} & $\\dots$ \\\\\n",
       "\t14 & education\\_school & 27.4614 & 89.6417 & school & \\emph{missing} & $\\dots$ \\\\\n",
       "\t15 & education\\_school & 27.4579 & 89.6342 & school & \\emph{missing} & $\\dots$ \\\\\n",
       "\t16 & education\\_school & 26.9819 & 91.3352 & school & \\emph{missing} & $\\dots$ \\\\\n",
       "\t17 & education\\_school & 27.215 & 90.653 & school & \\emph{missing} & $\\dots$ \\\\\n",
       "\t18 & education\\_school & 27.2741 & 91.2401 & school & \\emph{missing} & $\\dots$ \\\\\n",
       "\t19 & education\\_school & 27.5154 & 89.6418 & school & \\emph{missing} & $\\dots$ \\\\\n",
       "\t20 & education\\_school & 27.2827 & 90.6152 & school & \\emph{missing} & $\\dots$ \\\\\n",
       "\t21 & education\\_school & 27.3506 & 90.5719 & school & \\emph{missing} & $\\dots$ \\\\\n",
       "\t22 & education\\_school & 27.2723 & 89.5022 & school & \\emph{missing} & $\\dots$ \\\\\n",
       "\t23 & education\\_school & 26.8505 & 89.3973 & school & \\emph{missing} & $\\dots$ \\\\\n",
       "\t24 & education\\_school & 27.5066 & 90.5066 & school & \\emph{missing} & $\\dots$ \\\\\n",
       "\t$\\dots$ & $\\dots$ & $\\dots$ & $\\dots$ & $\\dots$ & $\\dots$ &  \\\\\n",
       "\\end{tabular}\n"
      ],
      "text/plain": [
       "\u001b[1m211×6 DataFrame\u001b[0m\n",
       "\u001b[1m Row \u001b[0m│\u001b[1m type             \u001b[0m\u001b[1m lat     \u001b[0m\u001b[1m lon     \u001b[0m\u001b[1m amenity \u001b[0m\u001b[1m name:en                   \u001b[0m ⋯\n",
       "     │\u001b[90m Any              \u001b[0m\u001b[90m Any     \u001b[0m\u001b[90m Any     \u001b[0m\u001b[90m Any     \u001b[0m\u001b[90m Any                       \u001b[0m ⋯\n",
       "─────┼──────────────────────────────────────────────────────────────────────────\n",
       "   1 │ education_school  26.9712  90.8544  school   Pantang Primary School     ⋯\n",
       "   2 │ education_school  27.2672  91.5117  school  \u001b[90m missing                   \u001b[0m\n",
       "   3 │ education_school  27.0041  91.3839  school  \u001b[90m missing                   \u001b[0m\n",
       "   4 │ education_school  26.9332  89.9575  school  \u001b[90m missing                   \u001b[0m\n",
       "   5 │ education_school  27.0461  91.4609  school  \u001b[90m missing                   \u001b[0m ⋯\n",
       "   6 │ education_school  26.8674  89.3851  school   Sonamgang MSS\n",
       "   7 │ education_school  27.4773  89.6393  school   Jigme Losel Primary School\n",
       "   8 │ education_school  26.8607  89.3893  school   Phuentsholing Lower Second\n",
       "  ⋮  │        ⋮             ⋮        ⋮        ⋮                     ⋮          ⋱\n",
       " 205 │ education_school  27.0455  91.5426  school  \u001b[90m missing                   \u001b[0m ⋯\n",
       " 206 │ education_school  27.0303  91.4262  school   girls hostel\n",
       " 207 │ education_school  26.9501  90.1137  school  \u001b[90m missing                   \u001b[0m\n",
       " 208 │ education_school  27.4709  89.6351  school   Kelki Higher Secondary Sch\n",
       " 209 │ education_school  26.9816  91.3351  school  \u001b[90m missing                   \u001b[0m ⋯\n",
       " 210 │ education_school  26.879   90.4924  school  \u001b[90m missing                   \u001b[0m\n",
       " 211 │ education_school  27.0307  91.4256  school   Mani Dungkor\n",
       "\u001b[36m                                                  2 columns and 196 rows omitted\u001b[0m"
      ]
     },
     "metadata": {},
     "output_type": "display_data"
    }
   ],
   "source": [
    "schools = get_poi_df(\"datasets/file.osm\", 0.2, OSMgetPOI.POITypes.education_school)"
   ]
  },
  {
   "cell_type": "markdown",
   "metadata": {},
   "source": [
    "### 3. Save the results to a .csv file."
   ]
  },
  {
   "cell_type": "code",
   "execution_count": 10,
   "metadata": {},
   "outputs": [
    {
     "data": {
      "text/plain": [
       "\"output_csv/schools.csv\""
      ]
     },
     "metadata": {},
     "output_type": "display_data"
    }
   ],
   "source": [
    "using CSV\n",
    "CSV.write(\"output_csv/schools.csv\", singapore_school_df)"
   ]
  },
  {
   "cell_type": "markdown",
   "metadata": {},
   "source": [
    "### Remarks\n",
    "This research was funded in whole or in part by [National Science Centre,  Poland][2021/41/B/HS4/03349]. For the software’s  documentation for the purpose of Open Access, the author has applied a CC-BY public copyright licence to any Author Accepted Manuscript (AAM) version arising from this submission."
   ]
  },
  {
   "cell_type": "code",
   "execution_count": null,
   "metadata": {},
   "outputs": [],
   "source": [
    "#podobnie jak tutorial openstreetmap\n",
    "#pokazac szkoly na mapie, najlepiej z biblioteki Folium lub innej jakbym cos znalazl"
   ]
  }
 ],
 "metadata": {
  "kernelspec": {
   "display_name": "Julia 1.7.3",
   "language": "julia",
   "name": "julia-1.7"
  },
  "language_info": {
   "file_extension": ".jl",
   "mimetype": "application/julia",
   "name": "julia",
   "version": "1.7.3"
  },
  "orig_nbformat": 4
 },
 "nbformat": 4,
 "nbformat_minor": 2
}
