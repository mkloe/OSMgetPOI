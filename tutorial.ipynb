{
 "cells": [
  {
   "cell_type": "code",
   "execution_count": 1,
   "metadata": {},
   "outputs": [],
   "source": [
    "include(\"src/POIs.jl\")\n",
    "using .POIs "
   ]
  },
  {
   "cell_type": "code",
   "execution_count": 2,
   "metadata": {},
   "outputs": [
    {
     "data": {
      "text/html": [
       "<div class=\"data-frame\"><p>27,310 rows × 10 columns (omitted printing of 4 columns)</p><table class=\"data-frame\"><thead><tr><th></th><th>primary_type</th><th>subtype</th><th>lat</th><th>lon</th><th>name</th><th>name:en</th></tr><tr><th></th><th title=\"Any\">Any</th><th title=\"Any\">Any</th><th title=\"Any\">Any</th><th title=\"Any\">Any</th><th title=\"Any\">Any</th><th title=\"Any\">Any</th></tr></thead><tbody><tr><th>1</th><td>leisure</td><td>park</td><td>40.0005</td><td>116.263</td><td>颐和园北如意门</td><td><em>missing</em></td></tr><tr><th>2</th><td>leisure</td><td>park</td><td>39.9937</td><td>116.203</td><td>国家植物园南门</td><td>South Gate of National Botanical Garden</td></tr><tr><th>3</th><td>leisure</td><td>park</td><td>40.0516</td><td>116.287</td><td><em>missing</em></td><td><em>missing</em></td></tr><tr><th>4</th><td>leisure</td><td>park</td><td>40.051</td><td>116.292</td><td><em>missing</em></td><td><em>missing</em></td></tr><tr><th>5</th><td>leisure</td><td>park</td><td>39.9989</td><td>116.306</td><td><em>missing</em></td><td><em>missing</em></td></tr><tr><th>6</th><td>leisure</td><td>park</td><td>39.878</td><td>116.425</td><td><em>missing</em></td><td><em>missing</em></td></tr><tr><th>7</th><td>leisure</td><td>park</td><td>40.0114</td><td>116.312</td><td><em>missing</em></td><td><em>missing</em></td></tr><tr><th>8</th><td>leisure</td><td>park</td><td>39.9796</td><td>116.271</td><td><em>missing</em></td><td><em>missing</em></td></tr><tr><th>9</th><td>leisure</td><td>park</td><td>39.9859</td><td>116.258</td><td>颐和园西门</td><td><em>missing</em></td></tr><tr><th>10</th><td>leisure</td><td>park</td><td>39.8462</td><td>116.216</td><td><em>missing</em></td><td><em>missing</em></td></tr><tr><th>11</th><td>leisure</td><td>park</td><td>39.9244</td><td>116.393</td><td>东门</td><td>East Entrance</td></tr><tr><th>12</th><td>leisure</td><td>park</td><td>39.9242</td><td>116.388</td><td>西门</td><td>West Entrance</td></tr><tr><th>13</th><td>leisure</td><td>park</td><td>39.9391</td><td>116.319</td><td><em>missing</em></td><td><em>missing</em></td></tr><tr><th>14</th><td>leisure</td><td>park</td><td>39.8473</td><td>116.218</td><td><em>missing</em></td><td><em>missing</em></td></tr><tr><th>15</th><td>leisure</td><td>park</td><td>39.8462</td><td>116.221</td><td><em>missing</em></td><td><em>missing</em></td></tr><tr><th>16</th><td>leisure</td><td>park</td><td>39.8484</td><td>116.224</td><td><em>missing</em></td><td><em>missing</em></td></tr><tr><th>17</th><td>leisure</td><td>park</td><td>39.9598</td><td>116.347</td><td><em>missing</em></td><td><em>missing</em></td></tr><tr><th>18</th><td>leisure</td><td>park</td><td>39.9317</td><td>116.384</td><td>Park Beihai small entrance</td><td><em>missing</em></td></tr><tr><th>19</th><td>leisure</td><td>park</td><td>39.912</td><td>116.438</td><td>South entrance</td><td><em>missing</em></td></tr><tr><th>20</th><td>leisure</td><td>park</td><td>39.922</td><td>116.391</td><td>南门</td><td>South Entrance</td></tr><tr><th>21</th><td>leisure</td><td>park</td><td>39.9072</td><td>116.397</td><td><em>missing</em></td><td><em>missing</em></td></tr><tr><th>22</th><td>leisure</td><td>park</td><td>40.0366</td><td>116.405</td><td><em>missing</em></td><td><em>missing</em></td></tr><tr><th>23</th><td>leisure</td><td>park</td><td>39.7805</td><td>116.323</td><td><em>missing</em></td><td><em>missing</em></td></tr><tr><th>24</th><td>leisure</td><td>park</td><td>39.9374</td><td>116.456</td><td><em>missing</em></td><td><em>missing</em></td></tr><tr><th>&vellip;</th><td>&vellip;</td><td>&vellip;</td><td>&vellip;</td><td>&vellip;</td><td>&vellip;</td><td>&vellip;</td></tr></tbody></table></div>"
      ],
      "text/latex": [
       "\\begin{tabular}{r|ccccccc}\n",
       "\t& primary\\_type & subtype & lat & lon & name & name:en & \\\\\n",
       "\t\\hline\n",
       "\t& Any & Any & Any & Any & Any & Any & \\\\\n",
       "\t\\hline\n",
       "\t1 & leisure & park & 40.0005 & 116.263 & 颐和园北如意门 & \\emph{missing} & $\\dots$ \\\\\n",
       "\t2 & leisure & park & 39.9937 & 116.203 & 国家植物园南门 & South Gate of National Botanical Garden & $\\dots$ \\\\\n",
       "\t3 & leisure & park & 40.0516 & 116.287 & \\emph{missing} & \\emph{missing} & $\\dots$ \\\\\n",
       "\t4 & leisure & park & 40.051 & 116.292 & \\emph{missing} & \\emph{missing} & $\\dots$ \\\\\n",
       "\t5 & leisure & park & 39.9989 & 116.306 & \\emph{missing} & \\emph{missing} & $\\dots$ \\\\\n",
       "\t6 & leisure & park & 39.878 & 116.425 & \\emph{missing} & \\emph{missing} & $\\dots$ \\\\\n",
       "\t7 & leisure & park & 40.0114 & 116.312 & \\emph{missing} & \\emph{missing} & $\\dots$ \\\\\n",
       "\t8 & leisure & park & 39.9796 & 116.271 & \\emph{missing} & \\emph{missing} & $\\dots$ \\\\\n",
       "\t9 & leisure & park & 39.9859 & 116.258 & 颐和园西门 & \\emph{missing} & $\\dots$ \\\\\n",
       "\t10 & leisure & park & 39.8462 & 116.216 & \\emph{missing} & \\emph{missing} & $\\dots$ \\\\\n",
       "\t11 & leisure & park & 39.9244 & 116.393 & 东门 & East Entrance & $\\dots$ \\\\\n",
       "\t12 & leisure & park & 39.9242 & 116.388 & 西门 & West Entrance & $\\dots$ \\\\\n",
       "\t13 & leisure & park & 39.9391 & 116.319 & \\emph{missing} & \\emph{missing} & $\\dots$ \\\\\n",
       "\t14 & leisure & park & 39.8473 & 116.218 & \\emph{missing} & \\emph{missing} & $\\dots$ \\\\\n",
       "\t15 & leisure & park & 39.8462 & 116.221 & \\emph{missing} & \\emph{missing} & $\\dots$ \\\\\n",
       "\t16 & leisure & park & 39.8484 & 116.224 & \\emph{missing} & \\emph{missing} & $\\dots$ \\\\\n",
       "\t17 & leisure & park & 39.9598 & 116.347 & \\emph{missing} & \\emph{missing} & $\\dots$ \\\\\n",
       "\t18 & leisure & park & 39.9317 & 116.384 & Park Beihai small entrance & \\emph{missing} & $\\dots$ \\\\\n",
       "\t19 & leisure & park & 39.912 & 116.438 & South entrance & \\emph{missing} & $\\dots$ \\\\\n",
       "\t20 & leisure & park & 39.922 & 116.391 & 南门 & South Entrance & $\\dots$ \\\\\n",
       "\t21 & leisure & park & 39.9072 & 116.397 & \\emph{missing} & \\emph{missing} & $\\dots$ \\\\\n",
       "\t22 & leisure & park & 40.0366 & 116.405 & \\emph{missing} & \\emph{missing} & $\\dots$ \\\\\n",
       "\t23 & leisure & park & 39.7805 & 116.323 & \\emph{missing} & \\emph{missing} & $\\dots$ \\\\\n",
       "\t24 & leisure & park & 39.9374 & 116.456 & \\emph{missing} & \\emph{missing} & $\\dots$ \\\\\n",
       "\t$\\dots$ & $\\dots$ & $\\dots$ & $\\dots$ & $\\dots$ & $\\dots$ & $\\dots$ &  \\\\\n",
       "\\end{tabular}\n"
      ],
      "text/plain": [
       "\u001b[1m27310×10 DataFrame\u001b[0m\n",
       "\u001b[1m   Row \u001b[0m│\u001b[1m primary_type \u001b[0m\u001b[1m subtype       \u001b[0m\u001b[1m lat     \u001b[0m\u001b[1m lon     \u001b[0m\u001b[1m name           \u001b[0m\u001b[1m name:e\u001b[0m ⋯\n",
       "\u001b[1m       \u001b[0m│\u001b[90m Any          \u001b[0m\u001b[90m Any           \u001b[0m\u001b[90m Any     \u001b[0m\u001b[90m Any     \u001b[0m\u001b[90m Any            \u001b[0m\u001b[90m Any   \u001b[0m ⋯\n",
       "───────┼────────────────────────────────────────────────────────────────────────\n",
       "     1 │ leisure       park           40.0005  116.263  颐和园北如意门 \u001b[90m missin\u001b[0m ⋯\n",
       "     2 │ leisure       park           39.9937  116.203  国家植物园南门  South\n",
       "     3 │ leisure       park           40.0516  116.287 \u001b[90m missing        \u001b[0m\u001b[90m missin\u001b[0m\n",
       "     4 │ leisure       park           40.051   116.292 \u001b[90m missing        \u001b[0m\u001b[90m missin\u001b[0m\n",
       "     5 │ leisure       park           39.9989  116.306 \u001b[90m missing        \u001b[0m\u001b[90m missin\u001b[0m ⋯\n",
       "     6 │ leisure       park           39.878   116.425 \u001b[90m missing        \u001b[0m\u001b[90m missin\u001b[0m\n",
       "     7 │ leisure       park           40.0114  116.312 \u001b[90m missing        \u001b[0m\u001b[90m missin\u001b[0m\n",
       "     8 │ leisure       park           39.9796  116.271 \u001b[90m missing        \u001b[0m\u001b[90m missin\u001b[0m\n",
       "   ⋮   │      ⋮              ⋮           ⋮        ⋮           ⋮                ⋱\n",
       " 27304 │ leisure       sports_ground  40.1158  116.643 \u001b[90m missing        \u001b[0m\u001b[90m missin\u001b[0m ⋯\n",
       " 27305 │ leisure       sports_ground  40.0286  116.427 \u001b[90m missing        \u001b[0m\u001b[90m missin\u001b[0m\n",
       " 27306 │ leisure       sports_ground  39.8719  116.43  \u001b[90m missing        \u001b[0m\u001b[90m missin\u001b[0m\n",
       " 27307 │ leisure       sports_ground  40.1101  116.655 \u001b[90m missing        \u001b[0m\u001b[90m missin\u001b[0m\n",
       " 27308 │ leisure       sports_ground  40.1122  116.661 \u001b[90m missing        \u001b[0m\u001b[90m missin\u001b[0m ⋯\n",
       " 27309 │ leisure       sports_ground  40.1114  116.661 \u001b[90m missing        \u001b[0m\u001b[90m missin\u001b[0m\n",
       " 27310 │ leisure       sports_ground  40.1119  116.674 \u001b[90m missing        \u001b[0m\u001b[90m missin\u001b[0m\n",
       "\u001b[36m                                                5 columns and 27295 rows omitted\u001b[0m"
      ]
     },
     "metadata": {},
     "output_type": "display_data"
    }
   ],
   "source": [
    "beijing_poi_vector = generate_poi_vectors(\"Beijing.osm\")\n",
    "beijing_df = create_poi_df(beijing_poi_vector)\n",
    "beijing_df_filtered = filter_columns_by_threshold(beijing_df, 0.1)"
   ]
  },
  {
   "cell_type": "code",
   "execution_count": 3,
   "metadata": {},
   "outputs": [
    {
     "data": {
      "text/html": [
       "<div class=\"data-frame\"><p>27,310 rows × 6 columns</p><table class=\"data-frame\"><thead><tr><th></th><th>primary_type</th><th>subtype</th><th>lat</th><th>lon</th><th>name</th><th>name:en</th></tr><tr><th></th><th title=\"Any\">Any</th><th title=\"Any\">Any</th><th title=\"Any\">Any</th><th title=\"Any\">Any</th><th title=\"Any\">Any</th><th title=\"Any\">Any</th></tr></thead><tbody><tr><th>1</th><td>leisure</td><td>park</td><td>40.0005</td><td>116.263</td><td>颐和园北如意门</td><td><em>missing</em></td></tr><tr><th>2</th><td>leisure</td><td>park</td><td>39.9937</td><td>116.203</td><td>国家植物园南门</td><td>South Gate of National Botanical Garden</td></tr><tr><th>3</th><td>leisure</td><td>park</td><td>40.0516</td><td>116.287</td><td><em>missing</em></td><td><em>missing</em></td></tr><tr><th>4</th><td>leisure</td><td>park</td><td>40.051</td><td>116.292</td><td><em>missing</em></td><td><em>missing</em></td></tr><tr><th>5</th><td>leisure</td><td>park</td><td>39.9989</td><td>116.306</td><td><em>missing</em></td><td><em>missing</em></td></tr><tr><th>6</th><td>leisure</td><td>park</td><td>39.878</td><td>116.425</td><td><em>missing</em></td><td><em>missing</em></td></tr><tr><th>7</th><td>leisure</td><td>park</td><td>40.0114</td><td>116.312</td><td><em>missing</em></td><td><em>missing</em></td></tr><tr><th>8</th><td>leisure</td><td>park</td><td>39.9796</td><td>116.271</td><td><em>missing</em></td><td><em>missing</em></td></tr><tr><th>9</th><td>leisure</td><td>park</td><td>39.9859</td><td>116.258</td><td>颐和园西门</td><td><em>missing</em></td></tr><tr><th>10</th><td>leisure</td><td>park</td><td>39.8462</td><td>116.216</td><td><em>missing</em></td><td><em>missing</em></td></tr><tr><th>11</th><td>leisure</td><td>park</td><td>39.9244</td><td>116.393</td><td>东门</td><td>East Entrance</td></tr><tr><th>12</th><td>leisure</td><td>park</td><td>39.9242</td><td>116.388</td><td>西门</td><td>West Entrance</td></tr><tr><th>13</th><td>leisure</td><td>park</td><td>39.9391</td><td>116.319</td><td><em>missing</em></td><td><em>missing</em></td></tr><tr><th>14</th><td>leisure</td><td>park</td><td>39.8473</td><td>116.218</td><td><em>missing</em></td><td><em>missing</em></td></tr><tr><th>15</th><td>leisure</td><td>park</td><td>39.8462</td><td>116.221</td><td><em>missing</em></td><td><em>missing</em></td></tr><tr><th>16</th><td>leisure</td><td>park</td><td>39.8484</td><td>116.224</td><td><em>missing</em></td><td><em>missing</em></td></tr><tr><th>17</th><td>leisure</td><td>park</td><td>39.9598</td><td>116.347</td><td><em>missing</em></td><td><em>missing</em></td></tr><tr><th>18</th><td>leisure</td><td>park</td><td>39.9317</td><td>116.384</td><td>Park Beihai small entrance</td><td><em>missing</em></td></tr><tr><th>19</th><td>leisure</td><td>park</td><td>39.912</td><td>116.438</td><td>South entrance</td><td><em>missing</em></td></tr><tr><th>20</th><td>leisure</td><td>park</td><td>39.922</td><td>116.391</td><td>南门</td><td>South Entrance</td></tr><tr><th>21</th><td>leisure</td><td>park</td><td>39.9072</td><td>116.397</td><td><em>missing</em></td><td><em>missing</em></td></tr><tr><th>22</th><td>leisure</td><td>park</td><td>40.0366</td><td>116.405</td><td><em>missing</em></td><td><em>missing</em></td></tr><tr><th>23</th><td>leisure</td><td>park</td><td>39.7805</td><td>116.323</td><td><em>missing</em></td><td><em>missing</em></td></tr><tr><th>24</th><td>leisure</td><td>park</td><td>39.9374</td><td>116.456</td><td><em>missing</em></td><td><em>missing</em></td></tr><tr><th>&vellip;</th><td>&vellip;</td><td>&vellip;</td><td>&vellip;</td><td>&vellip;</td><td>&vellip;</td><td>&vellip;</td></tr></tbody></table></div>"
      ],
      "text/latex": [
       "\\begin{tabular}{r|cccccc}\n",
       "\t& primary\\_type & subtype & lat & lon & name & name:en\\\\\n",
       "\t\\hline\n",
       "\t& Any & Any & Any & Any & Any & Any\\\\\n",
       "\t\\hline\n",
       "\t1 & leisure & park & 40.0005 & 116.263 & 颐和园北如意门 & \\emph{missing} \\\\\n",
       "\t2 & leisure & park & 39.9937 & 116.203 & 国家植物园南门 & South Gate of National Botanical Garden \\\\\n",
       "\t3 & leisure & park & 40.0516 & 116.287 & \\emph{missing} & \\emph{missing} \\\\\n",
       "\t4 & leisure & park & 40.051 & 116.292 & \\emph{missing} & \\emph{missing} \\\\\n",
       "\t5 & leisure & park & 39.9989 & 116.306 & \\emph{missing} & \\emph{missing} \\\\\n",
       "\t6 & leisure & park & 39.878 & 116.425 & \\emph{missing} & \\emph{missing} \\\\\n",
       "\t7 & leisure & park & 40.0114 & 116.312 & \\emph{missing} & \\emph{missing} \\\\\n",
       "\t8 & leisure & park & 39.9796 & 116.271 & \\emph{missing} & \\emph{missing} \\\\\n",
       "\t9 & leisure & park & 39.9859 & 116.258 & 颐和园西门 & \\emph{missing} \\\\\n",
       "\t10 & leisure & park & 39.8462 & 116.216 & \\emph{missing} & \\emph{missing} \\\\\n",
       "\t11 & leisure & park & 39.9244 & 116.393 & 东门 & East Entrance \\\\\n",
       "\t12 & leisure & park & 39.9242 & 116.388 & 西门 & West Entrance \\\\\n",
       "\t13 & leisure & park & 39.9391 & 116.319 & \\emph{missing} & \\emph{missing} \\\\\n",
       "\t14 & leisure & park & 39.8473 & 116.218 & \\emph{missing} & \\emph{missing} \\\\\n",
       "\t15 & leisure & park & 39.8462 & 116.221 & \\emph{missing} & \\emph{missing} \\\\\n",
       "\t16 & leisure & park & 39.8484 & 116.224 & \\emph{missing} & \\emph{missing} \\\\\n",
       "\t17 & leisure & park & 39.9598 & 116.347 & \\emph{missing} & \\emph{missing} \\\\\n",
       "\t18 & leisure & park & 39.9317 & 116.384 & Park Beihai small entrance & \\emph{missing} \\\\\n",
       "\t19 & leisure & park & 39.912 & 116.438 & South entrance & \\emph{missing} \\\\\n",
       "\t20 & leisure & park & 39.922 & 116.391 & 南门 & South Entrance \\\\\n",
       "\t21 & leisure & park & 39.9072 & 116.397 & \\emph{missing} & \\emph{missing} \\\\\n",
       "\t22 & leisure & park & 40.0366 & 116.405 & \\emph{missing} & \\emph{missing} \\\\\n",
       "\t23 & leisure & park & 39.7805 & 116.323 & \\emph{missing} & \\emph{missing} \\\\\n",
       "\t24 & leisure & park & 39.9374 & 116.456 & \\emph{missing} & \\emph{missing} \\\\\n",
       "\t$\\dots$ & $\\dots$ & $\\dots$ & $\\dots$ & $\\dots$ & $\\dots$ & $\\dots$ \\\\\n",
       "\\end{tabular}\n"
      ],
      "text/plain": [
       "\u001b[1m27310×6 DataFrame\u001b[0m\n",
       "\u001b[1m   Row \u001b[0m│\u001b[1m primary_type \u001b[0m\u001b[1m subtype       \u001b[0m\u001b[1m lat     \u001b[0m\u001b[1m lon     \u001b[0m\u001b[1m name           \u001b[0m\u001b[1m name:e\u001b[0m ⋯\n",
       "\u001b[1m       \u001b[0m│\u001b[90m Any          \u001b[0m\u001b[90m Any           \u001b[0m\u001b[90m Any     \u001b[0m\u001b[90m Any     \u001b[0m\u001b[90m Any            \u001b[0m\u001b[90m Any   \u001b[0m ⋯\n",
       "───────┼────────────────────────────────────────────────────────────────────────\n",
       "     1 │ leisure       park           40.0005  116.263  颐和园北如意门 \u001b[90m missin\u001b[0m ⋯\n",
       "     2 │ leisure       park           39.9937  116.203  国家植物园南门  South\n",
       "     3 │ leisure       park           40.0516  116.287 \u001b[90m missing        \u001b[0m\u001b[90m missin\u001b[0m\n",
       "     4 │ leisure       park           40.051   116.292 \u001b[90m missing        \u001b[0m\u001b[90m missin\u001b[0m\n",
       "     5 │ leisure       park           39.9989  116.306 \u001b[90m missing        \u001b[0m\u001b[90m missin\u001b[0m ⋯\n",
       "     6 │ leisure       park           39.878   116.425 \u001b[90m missing        \u001b[0m\u001b[90m missin\u001b[0m\n",
       "     7 │ leisure       park           40.0114  116.312 \u001b[90m missing        \u001b[0m\u001b[90m missin\u001b[0m\n",
       "     8 │ leisure       park           39.9796  116.271 \u001b[90m missing        \u001b[0m\u001b[90m missin\u001b[0m\n",
       "   ⋮   │      ⋮              ⋮           ⋮        ⋮           ⋮                ⋱\n",
       " 27304 │ leisure       sports_ground  40.1158  116.643 \u001b[90m missing        \u001b[0m\u001b[90m missin\u001b[0m ⋯\n",
       " 27305 │ leisure       sports_ground  40.0286  116.427 \u001b[90m missing        \u001b[0m\u001b[90m missin\u001b[0m\n",
       " 27306 │ leisure       sports_ground  39.8719  116.43  \u001b[90m missing        \u001b[0m\u001b[90m missin\u001b[0m\n",
       " 27307 │ leisure       sports_ground  40.1101  116.655 \u001b[90m missing        \u001b[0m\u001b[90m missin\u001b[0m\n",
       " 27308 │ leisure       sports_ground  40.1122  116.661 \u001b[90m missing        \u001b[0m\u001b[90m missin\u001b[0m ⋯\n",
       " 27309 │ leisure       sports_ground  40.1114  116.661 \u001b[90m missing        \u001b[0m\u001b[90m missin\u001b[0m\n",
       " 27310 │ leisure       sports_ground  40.1119  116.674 \u001b[90m missing        \u001b[0m\u001b[90m missin\u001b[0m\n",
       "\u001b[36m                                                 1 column and 27295 rows omitted\u001b[0m"
      ]
     },
     "metadata": {},
     "output_type": "display_data"
    }
   ],
   "source": [
    "beijing_df_filtered_by_colnames = filter_columns_by_colnames(beijing_df_filtered, [\"name\", \"name:en\"])"
   ]
  },
  {
   "cell_type": "code",
   "execution_count": 7,
   "metadata": {},
   "outputs": [
    {
     "data": {
      "text/html": [
       "<div class=\"data-frame\"><p>77,312 rows × 16 columns (omitted printing of 9 columns)</p><table class=\"data-frame\"><thead><tr><th></th><th>primary_type</th><th>subtype</th><th>lat</th><th>lon</th><th>access</th><th>name</th><th>opening_hours</th></tr><tr><th></th><th title=\"Any\">Any</th><th title=\"Any\">Any</th><th title=\"Any\">Any</th><th title=\"Any\">Any</th><th title=\"Any\">Any</th><th title=\"Any\">Any</th><th title=\"Any\">Any</th></tr></thead><tbody><tr><th>1</th><td>work</td><td>work</td><td>52.055</td><td>21.0554</td><td><em>missing</em></td><td><em>missing</em></td><td><em>missing</em></td></tr><tr><th>2</th><td>work</td><td>work</td><td>52.0554</td><td>21.0564</td><td><em>missing</em></td><td><em>missing</em></td><td><em>missing</em></td></tr><tr><th>3</th><td>work</td><td>work</td><td>52.1928</td><td>21.0876</td><td><em>missing</em></td><td><em>missing</em></td><td><em>missing</em></td></tr><tr><th>4</th><td>work</td><td>work</td><td>52.1778</td><td>20.9462</td><td><em>missing</em></td><td><em>missing</em></td><td><em>missing</em></td></tr><tr><th>5</th><td>work</td><td>work</td><td>52.1847</td><td>21.0927</td><td><em>missing</em></td><td><em>missing</em></td><td><em>missing</em></td></tr><tr><th>6</th><td>work</td><td>work</td><td>52.2654</td><td>21.0763</td><td><em>missing</em></td><td><em>missing</em></td><td><em>missing</em></td></tr><tr><th>7</th><td>work</td><td>work</td><td>52.233</td><td>20.9412</td><td><em>missing</em></td><td><em>missing</em></td><td><em>missing</em></td></tr><tr><th>8</th><td>work</td><td>work</td><td>52.0599</td><td>21.0444</td><td><em>missing</em></td><td><em>missing</em></td><td><em>missing</em></td></tr><tr><th>9</th><td>work</td><td>work</td><td>52.2636</td><td>21.0479</td><td><em>missing</em></td><td><em>missing</em></td><td><em>missing</em></td></tr><tr><th>10</th><td>work</td><td>work</td><td>52.2608</td><td>21.0954</td><td>private</td><td><em>missing</em></td><td><em>missing</em></td></tr><tr><th>11</th><td>work</td><td>work</td><td>52.3605</td><td>21.1392</td><td><em>missing</em></td><td><em>missing</em></td><td><em>missing</em></td></tr><tr><th>12</th><td>work</td><td>work</td><td>52.3595</td><td>21.139</td><td><em>missing</em></td><td><em>missing</em></td><td><em>missing</em></td></tr><tr><th>13</th><td>work</td><td>work</td><td>52.3593</td><td>21.1391</td><td><em>missing</em></td><td><em>missing</em></td><td><em>missing</em></td></tr><tr><th>14</th><td>work</td><td>work</td><td>52.2697</td><td>21.1183</td><td><em>missing</em></td><td><em>missing</em></td><td><em>missing</em></td></tr><tr><th>15</th><td>work</td><td>work</td><td>52.2695</td><td>21.1185</td><td>private</td><td><em>missing</em></td><td><em>missing</em></td></tr><tr><th>16</th><td>work</td><td>work</td><td>52.1907</td><td>21.0852</td><td><em>missing</em></td><td><em>missing</em></td><td><em>missing</em></td></tr><tr><th>17</th><td>work</td><td>work</td><td>52.2366</td><td>20.9754</td><td><em>missing</em></td><td>ZHP - Hufiec Warszawa Wola</td><td><em>missing</em></td></tr><tr><th>18</th><td>work</td><td>work</td><td>52.2809</td><td>21.0113</td><td>no</td><td><em>missing</em></td><td><em>missing</em></td></tr><tr><th>19</th><td>work</td><td>work</td><td>52.2923</td><td>21.0101</td><td>no</td><td><em>missing</em></td><td><em>missing</em></td></tr><tr><th>20</th><td>work</td><td>work</td><td>52.2473</td><td>21.0494</td><td><em>missing</em></td><td><em>missing</em></td><td><em>missing</em></td></tr><tr><th>21</th><td>work</td><td>work</td><td>52.2599</td><td>21.0617</td><td><em>missing</em></td><td><em>missing</em></td><td><em>missing</em></td></tr><tr><th>22</th><td>work</td><td>work</td><td>52.216</td><td>20.9583</td><td><em>missing</em></td><td><em>missing</em></td><td><em>missing</em></td></tr><tr><th>23</th><td>work</td><td>work</td><td>52.2147</td><td>21.0493</td><td>private</td><td><em>missing</em></td><td><em>missing</em></td></tr><tr><th>24</th><td>work</td><td>work</td><td>52.2481</td><td>21.0479</td><td><em>missing</em></td><td>PZU</td><td>Mo-Fr 09:00-18:00</td></tr><tr><th>&vellip;</th><td>&vellip;</td><td>&vellip;</td><td>&vellip;</td><td>&vellip;</td><td>&vellip;</td><td>&vellip;</td><td>&vellip;</td></tr></tbody></table></div>"
      ],
      "text/latex": [
       "\\begin{tabular}{r|cccccccc}\n",
       "\t& primary\\_type & subtype & lat & lon & access & name & opening\\_hours & \\\\\n",
       "\t\\hline\n",
       "\t& Any & Any & Any & Any & Any & Any & Any & \\\\\n",
       "\t\\hline\n",
       "\t1 & work & work & 52.055 & 21.0554 & \\emph{missing} & \\emph{missing} & \\emph{missing} & $\\dots$ \\\\\n",
       "\t2 & work & work & 52.0554 & 21.0564 & \\emph{missing} & \\emph{missing} & \\emph{missing} & $\\dots$ \\\\\n",
       "\t3 & work & work & 52.1928 & 21.0876 & \\emph{missing} & \\emph{missing} & \\emph{missing} & $\\dots$ \\\\\n",
       "\t4 & work & work & 52.1778 & 20.9462 & \\emph{missing} & \\emph{missing} & \\emph{missing} & $\\dots$ \\\\\n",
       "\t5 & work & work & 52.1847 & 21.0927 & \\emph{missing} & \\emph{missing} & \\emph{missing} & $\\dots$ \\\\\n",
       "\t6 & work & work & 52.2654 & 21.0763 & \\emph{missing} & \\emph{missing} & \\emph{missing} & $\\dots$ \\\\\n",
       "\t7 & work & work & 52.233 & 20.9412 & \\emph{missing} & \\emph{missing} & \\emph{missing} & $\\dots$ \\\\\n",
       "\t8 & work & work & 52.0599 & 21.0444 & \\emph{missing} & \\emph{missing} & \\emph{missing} & $\\dots$ \\\\\n",
       "\t9 & work & work & 52.2636 & 21.0479 & \\emph{missing} & \\emph{missing} & \\emph{missing} & $\\dots$ \\\\\n",
       "\t10 & work & work & 52.2608 & 21.0954 & private & \\emph{missing} & \\emph{missing} & $\\dots$ \\\\\n",
       "\t11 & work & work & 52.3605 & 21.1392 & \\emph{missing} & \\emph{missing} & \\emph{missing} & $\\dots$ \\\\\n",
       "\t12 & work & work & 52.3595 & 21.139 & \\emph{missing} & \\emph{missing} & \\emph{missing} & $\\dots$ \\\\\n",
       "\t13 & work & work & 52.3593 & 21.1391 & \\emph{missing} & \\emph{missing} & \\emph{missing} & $\\dots$ \\\\\n",
       "\t14 & work & work & 52.2697 & 21.1183 & \\emph{missing} & \\emph{missing} & \\emph{missing} & $\\dots$ \\\\\n",
       "\t15 & work & work & 52.2695 & 21.1185 & private & \\emph{missing} & \\emph{missing} & $\\dots$ \\\\\n",
       "\t16 & work & work & 52.1907 & 21.0852 & \\emph{missing} & \\emph{missing} & \\emph{missing} & $\\dots$ \\\\\n",
       "\t17 & work & work & 52.2366 & 20.9754 & \\emph{missing} & ZHP - Hufiec Warszawa Wola & \\emph{missing} & $\\dots$ \\\\\n",
       "\t18 & work & work & 52.2809 & 21.0113 & no & \\emph{missing} & \\emph{missing} & $\\dots$ \\\\\n",
       "\t19 & work & work & 52.2923 & 21.0101 & no & \\emph{missing} & \\emph{missing} & $\\dots$ \\\\\n",
       "\t20 & work & work & 52.2473 & 21.0494 & \\emph{missing} & \\emph{missing} & \\emph{missing} & $\\dots$ \\\\\n",
       "\t21 & work & work & 52.2599 & 21.0617 & \\emph{missing} & \\emph{missing} & \\emph{missing} & $\\dots$ \\\\\n",
       "\t22 & work & work & 52.216 & 20.9583 & \\emph{missing} & \\emph{missing} & \\emph{missing} & $\\dots$ \\\\\n",
       "\t23 & work & work & 52.2147 & 21.0493 & private & \\emph{missing} & \\emph{missing} & $\\dots$ \\\\\n",
       "\t24 & work & work & 52.2481 & 21.0479 & \\emph{missing} & PZU & Mo-Fr 09:00-18:00 & $\\dots$ \\\\\n",
       "\t$\\dots$ & $\\dots$ & $\\dots$ & $\\dots$ & $\\dots$ & $\\dots$ & $\\dots$ & $\\dots$ &  \\\\\n",
       "\\end{tabular}\n"
      ],
      "text/plain": [
       "\u001b[1m77312×16 DataFrame\u001b[0m\n",
       "\u001b[1m   Row \u001b[0m│\u001b[1m primary_type \u001b[0m\u001b[1m subtype \u001b[0m\u001b[1m lat     \u001b[0m\u001b[1m lon     \u001b[0m\u001b[1m access  \u001b[0m\u001b[1m name            \u001b[0m\u001b[1m op\u001b[0m ⋯\n",
       "\u001b[1m       \u001b[0m│\u001b[90m Any          \u001b[0m\u001b[90m Any     \u001b[0m\u001b[90m Any     \u001b[0m\u001b[90m Any     \u001b[0m\u001b[90m Any     \u001b[0m\u001b[90m Any             \u001b[0m\u001b[90m An\u001b[0m ⋯\n",
       "───────┼────────────────────────────────────────────────────────────────────────\n",
       "     1 │ work          work     52.055   21.0554 \u001b[90m missing \u001b[0m\u001b[90m missing         \u001b[0m\u001b[90m mi\u001b[0m ⋯\n",
       "     2 │ work          work     52.0554  21.0564 \u001b[90m missing \u001b[0m\u001b[90m missing         \u001b[0m\u001b[90m mi\u001b[0m\n",
       "     3 │ work          work     52.1928  21.0876 \u001b[90m missing \u001b[0m\u001b[90m missing         \u001b[0m\u001b[90m mi\u001b[0m\n",
       "     4 │ work          work     52.1778  20.9462 \u001b[90m missing \u001b[0m\u001b[90m missing         \u001b[0m\u001b[90m mi\u001b[0m\n",
       "     5 │ work          work     52.1847  21.0927 \u001b[90m missing \u001b[0m\u001b[90m missing         \u001b[0m\u001b[90m mi\u001b[0m ⋯\n",
       "     6 │ work          work     52.2654  21.0763 \u001b[90m missing \u001b[0m\u001b[90m missing         \u001b[0m\u001b[90m mi\u001b[0m\n",
       "     7 │ work          work     52.233   20.9412 \u001b[90m missing \u001b[0m\u001b[90m missing         \u001b[0m\u001b[90m mi\u001b[0m\n",
       "     8 │ work          work     52.0599  21.0444 \u001b[90m missing \u001b[0m\u001b[90m missing         \u001b[0m\u001b[90m mi\u001b[0m\n",
       "   ⋮   │      ⋮           ⋮        ⋮        ⋮        ⋮            ⋮            ⋱\n",
       " 77306 │ cuisine       cafe     52.0919  21.2033 \u001b[90m missing \u001b[0m Full Gassy       Mo ⋯\n",
       " 77307 │ cuisine       cafe     52.244   21.0141 \u001b[90m missing \u001b[0m Reborn          \u001b[90m mi\u001b[0m\n",
       " 77308 │ cuisine       cafe     52.2029  21.0229 \u001b[90m missing \u001b[0m Limoni          \u001b[90m mi\u001b[0m\n",
       " 77309 │ cuisine       cafe     52.2102  20.7967 \u001b[90m missing \u001b[0m Przełam lody    \u001b[90m mi\u001b[0m\n",
       " 77310 │ cuisine       cafe     52.137   21.2349 \u001b[90m missing \u001b[0m Poczuj Miętę     Tu ⋯\n",
       " 77311 │ cuisine       cafe     52.0859  21.1123 \u001b[90m missing \u001b[0m Gofry Bąbelkowe \u001b[90m mi\u001b[0m\n",
       " 77312 │ cuisine       cafe     52.1049  21.054  \u001b[90m missing \u001b[0m Quick           \u001b[90m mi\u001b[0m\n",
       "\u001b[36m                                               10 columns and 77297 rows omitted\u001b[0m"
      ]
     },
     "metadata": {},
     "output_type": "display_data"
    }
   ],
   "source": [
    "warsaw_poi_vector = generate_poi_vectors(\"Warsaw.osm\")\n",
    "warsaw_df = create_poi_df(warsaw_poi_vector)\n",
    "warsaw_df_filtered = filter_columns_by_threshold(warsaw_df, 0.1)"
   ]
  },
  {
   "cell_type": "code",
   "execution_count": 6,
   "metadata": {},
   "outputs": [
    {
     "data": {
      "text/plain": [
       "\"output_csv/beijing_df_filtered.csv\""
      ]
     },
     "metadata": {},
     "output_type": "display_data"
    }
   ],
   "source": [
    "using CSV\n",
    "CSV.write(\"output_csv/beijing_df.csv\", beijing_df)\n",
    "CSV.write(\"output_csv/beijing_df_filtered.csv\", beijing_df_filtered)"
   ]
  },
  {
   "cell_type": "code",
   "execution_count": 8,
   "metadata": {},
   "outputs": [
    {
     "data": {
      "text/plain": [
       "\"output_csv/warsaw_df_filtered.csv\""
      ]
     },
     "metadata": {},
     "output_type": "display_data"
    }
   ],
   "source": [
    "using CSV\n",
    "CSV.write(\"output_csv/warsaw_df.csv\", warsaw_df)\n",
    "CSV.write(\"output_csv/warsaw_df_filtered.csv\", warsaw_df_filtered)"
   ]
  }
 ],
 "metadata": {
  "kernelspec": {
   "display_name": "Julia 1.7.3",
   "language": "julia",
   "name": "julia-1.7"
  },
  "language_info": {
   "file_extension": ".jl",
   "mimetype": "application/julia",
   "name": "julia",
   "version": "1.7.3"
  },
  "orig_nbformat": 4,
  "vscode": {
   "interpreter": {
    "hash": "aee8b7b246df8f9039afb4144a1f6fd8d2ca17a180786b69acc140d282b71a49"
   }
  }
 },
 "nbformat": 4,
 "nbformat_minor": 2
}
